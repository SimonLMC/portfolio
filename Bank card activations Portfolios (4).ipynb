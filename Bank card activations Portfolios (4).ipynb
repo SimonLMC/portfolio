{
 "cells": [
  {
   "cell_type": "markdown",
   "metadata": {},
   "source": [
    "# Bank card activations prediction"
   ]
  },
  {
   "cell_type": "raw",
   "metadata": {},
   "source": [
    "Les banques s'efforcent d'augmenter l'efficacité des contacts avec leurs clients. L'un des domaines qui l'exigent est l'offre de nouveaux produits aux clients existants (vente croisée). Au lieu d'offrir de nouveaux produits à tous les clients, il est judicieux de prédire la probabilité d'une réponse positive. Ensuite, les offres peuvent être envoyées à ces clients pour lesquels la probabilité de réponse est supérieure à une certaine valeur seuil.\n",
    "\n",
    "Dans ce notebook, j'essaye de résoudre ce problème. En 2011, la banque Russe OTP-Bank à organisé un concours reflétant la situation susmentionnée. Les données proviennent de ce site. \n",
    "\n",
    "La description des données sont en russe, mais je traduirai les termes nécessaires. Les noms de colonnes sont déjà en anglais.\n",
    "\n",
    "L'ensemble de données contient 15223 clients; 1812 d'entre eux ont eu une réponse positive."
   ]
  },
  {
   "cell_type": "code",
   "execution_count": 1,
   "metadata": {},
   "outputs": [],
   "source": [
    "import numpy as np\n",
    "import pandas as pd\n",
    "import seaborn as sns\n",
    "from scipy import stats\n",
    "import matplotlib.pyplot as plt\n",
    "%matplotlib inline\n",
    "\n",
    "from sklearn.metrics import auc, roc_curve\n",
    "from sklearn.model_selection import train_test_split, cross_val_score\n",
    "from sklearn.feature_selection import SelectKBest\n",
    "from sklearn.feature_selection import chi2\n",
    "from sklearn import preprocessing\n",
    "from sklearn import linear_model\n",
    "\n",
    "import functions\n",
    "\n",
    "%load_ext autoreload\n",
    "%autoreload 2"
   ]
  },
  {
   "cell_type": "code",
   "execution_count": 2,
   "metadata": {},
   "outputs": [],
   "source": [
    "def split_best_iv(data, feature, target_name):\n",
    "    best_iv = 0\n",
    "    for i in range(2, 20):\n",
    "        iv_temp = cont_split(data, feature, target_name, i, auto_calc=True)\n",
    "        if iv_temp == None:\n",
    "            return cont_split(data, feature, target_name, i - 1)\n",
    "        if iv_temp > best_iv:\n",
    "            best_iv = iv_temp\n",
    "        else:\n",
    "            return cont_split(data, feature, target_name, i - 1)"
   ]
  },
  {
   "cell_type": "code",
   "execution_count": 3,
   "metadata": {},
   "outputs": [
    {
     "name": "stdout",
     "output_type": "stream",
     "text": [
      "CPU times: user 2.95 s, sys: 75.4 ms, total: 3.03 s\n",
      "Wall time: 3.52 s\n"
     ]
    }
   ],
   "source": [
    "%%time\n",
    "data = pd.read_excel('data set.xls', sheet_name='данные')"
   ]
  },
  {
   "cell_type": "raw",
   "metadata": {},
   "source": [
    "Je vais tout d'abord renommer les valeurs de plusieurs colonnes, et je vais supprimer certaines colonnes inutiles."
   ]
  },
  {
   "cell_type": "code",
   "execution_count": 4,
   "metadata": {},
   "outputs": [
    {
     "data": {
      "text/html": [
       "<div>\n",
       "<style scoped>\n",
       "    .dataframe tbody tr th:only-of-type {\n",
       "        vertical-align: middle;\n",
       "    }\n",
       "\n",
       "    .dataframe tbody tr th {\n",
       "        vertical-align: top;\n",
       "    }\n",
       "\n",
       "    .dataframe thead th {\n",
       "        text-align: right;\n",
       "    }\n",
       "</style>\n",
       "<table border=\"1\" class=\"dataframe\">\n",
       "  <thead>\n",
       "    <tr style=\"text-align: right;\">\n",
       "      <th></th>\n",
       "      <th>AGREEMENT_RK</th>\n",
       "      <th>TARGET</th>\n",
       "      <th>AGE</th>\n",
       "      <th>SOCSTATUS_WORK_FL</th>\n",
       "      <th>SOCSTATUS_PENS_FL</th>\n",
       "      <th>GENDER</th>\n",
       "      <th>CHILD_TOTAL</th>\n",
       "      <th>DEPENDANTS</th>\n",
       "      <th>EDUCATION</th>\n",
       "      <th>MARITAL_STATUS</th>\n",
       "      <th>...</th>\n",
       "      <th>REG_PHONE_FL</th>\n",
       "      <th>GEN_PHONE_FL</th>\n",
       "      <th>LOAN_NUM_TOTAL</th>\n",
       "      <th>LOAN_NUM_CLOSED</th>\n",
       "      <th>LOAN_NUM_PAYM</th>\n",
       "      <th>LOAN_DLQ_NUM</th>\n",
       "      <th>LOAN_MAX_DLQ</th>\n",
       "      <th>LOAN_AVG_DLQ_AMT</th>\n",
       "      <th>LOAN_MAX_DLQ_AMT</th>\n",
       "      <th>PREVIOUS_CARD_NUM_UTILIZED</th>\n",
       "    </tr>\n",
       "  </thead>\n",
       "  <tbody>\n",
       "    <tr>\n",
       "      <th>0</th>\n",
       "      <td>59910150</td>\n",
       "      <td>0</td>\n",
       "      <td>49</td>\n",
       "      <td>1</td>\n",
       "      <td>0</td>\n",
       "      <td>1</td>\n",
       "      <td>2</td>\n",
       "      <td>1</td>\n",
       "      <td>Professional School</td>\n",
       "      <td>Married</td>\n",
       "      <td>...</td>\n",
       "      <td>0</td>\n",
       "      <td>1</td>\n",
       "      <td>1</td>\n",
       "      <td>1</td>\n",
       "      <td>6</td>\n",
       "      <td>2</td>\n",
       "      <td>1</td>\n",
       "      <td>1580.000000</td>\n",
       "      <td>1580.0</td>\n",
       "      <td>NaN</td>\n",
       "    </tr>\n",
       "    <tr>\n",
       "      <th>1</th>\n",
       "      <td>59910230</td>\n",
       "      <td>0</td>\n",
       "      <td>32</td>\n",
       "      <td>1</td>\n",
       "      <td>0</td>\n",
       "      <td>1</td>\n",
       "      <td>3</td>\n",
       "      <td>3</td>\n",
       "      <td>Some High School</td>\n",
       "      <td>Married</td>\n",
       "      <td>...</td>\n",
       "      <td>0</td>\n",
       "      <td>1</td>\n",
       "      <td>1</td>\n",
       "      <td>1</td>\n",
       "      <td>6</td>\n",
       "      <td>1</td>\n",
       "      <td>1</td>\n",
       "      <td>4020.000000</td>\n",
       "      <td>4020.0</td>\n",
       "      <td>NaN</td>\n",
       "    </tr>\n",
       "    <tr>\n",
       "      <th>2</th>\n",
       "      <td>59910525</td>\n",
       "      <td>0</td>\n",
       "      <td>52</td>\n",
       "      <td>1</td>\n",
       "      <td>0</td>\n",
       "      <td>1</td>\n",
       "      <td>4</td>\n",
       "      <td>0</td>\n",
       "      <td>Some Primary School</td>\n",
       "      <td>Married</td>\n",
       "      <td>...</td>\n",
       "      <td>0</td>\n",
       "      <td>1</td>\n",
       "      <td>2</td>\n",
       "      <td>1</td>\n",
       "      <td>11</td>\n",
       "      <td>0</td>\n",
       "      <td>0</td>\n",
       "      <td>0.000000</td>\n",
       "      <td>0.0</td>\n",
       "      <td>NaN</td>\n",
       "    </tr>\n",
       "    <tr>\n",
       "      <th>3</th>\n",
       "      <td>59910803</td>\n",
       "      <td>0</td>\n",
       "      <td>39</td>\n",
       "      <td>1</td>\n",
       "      <td>0</td>\n",
       "      <td>1</td>\n",
       "      <td>1</td>\n",
       "      <td>1</td>\n",
       "      <td>Undergraduate Degree</td>\n",
       "      <td>Married</td>\n",
       "      <td>...</td>\n",
       "      <td>1</td>\n",
       "      <td>1</td>\n",
       "      <td>1</td>\n",
       "      <td>1</td>\n",
       "      <td>6</td>\n",
       "      <td>3</td>\n",
       "      <td>1</td>\n",
       "      <td>1589.923333</td>\n",
       "      <td>1590.0</td>\n",
       "      <td>NaN</td>\n",
       "    </tr>\n",
       "    <tr>\n",
       "      <th>4</th>\n",
       "      <td>59911781</td>\n",
       "      <td>0</td>\n",
       "      <td>30</td>\n",
       "      <td>1</td>\n",
       "      <td>0</td>\n",
       "      <td>0</td>\n",
       "      <td>0</td>\n",
       "      <td>0</td>\n",
       "      <td>Some High School</td>\n",
       "      <td>Married</td>\n",
       "      <td>...</td>\n",
       "      <td>0</td>\n",
       "      <td>1</td>\n",
       "      <td>2</td>\n",
       "      <td>1</td>\n",
       "      <td>16</td>\n",
       "      <td>2</td>\n",
       "      <td>1</td>\n",
       "      <td>1152.150000</td>\n",
       "      <td>2230.0</td>\n",
       "      <td>NaN</td>\n",
       "    </tr>\n",
       "  </tbody>\n",
       "</table>\n",
       "<p>5 rows × 43 columns</p>\n",
       "</div>"
      ],
      "text/plain": [
       "   AGREEMENT_RK  TARGET  AGE  SOCSTATUS_WORK_FL  SOCSTATUS_PENS_FL  GENDER  \\\n",
       "0      59910150       0   49                  1                  0       1   \n",
       "1      59910230       0   32                  1                  0       1   \n",
       "2      59910525       0   52                  1                  0       1   \n",
       "3      59910803       0   39                  1                  0       1   \n",
       "4      59911781       0   30                  1                  0       0   \n",
       "\n",
       "   CHILD_TOTAL  DEPENDANTS             EDUCATION MARITAL_STATUS  ...  \\\n",
       "0            2           1   Professional School        Married  ...   \n",
       "1            3           3      Some High School        Married  ...   \n",
       "2            4           0   Some Primary School        Married  ...   \n",
       "3            1           1  Undergraduate Degree        Married  ...   \n",
       "4            0           0      Some High School        Married  ...   \n",
       "\n",
       "  REG_PHONE_FL GEN_PHONE_FL  LOAN_NUM_TOTAL  LOAN_NUM_CLOSED  LOAN_NUM_PAYM  \\\n",
       "0            0            1               1                1              6   \n",
       "1            0            1               1                1              6   \n",
       "2            0            1               2                1             11   \n",
       "3            1            1               1                1              6   \n",
       "4            0            1               2                1             16   \n",
       "\n",
       "   LOAN_DLQ_NUM  LOAN_MAX_DLQ  LOAN_AVG_DLQ_AMT  LOAN_MAX_DLQ_AMT  \\\n",
       "0             2             1       1580.000000            1580.0   \n",
       "1             1             1       4020.000000            4020.0   \n",
       "2             0             0          0.000000               0.0   \n",
       "3             3             1       1589.923333            1590.0   \n",
       "4             2             1       1152.150000            2230.0   \n",
       "\n",
       "   PREVIOUS_CARD_NUM_UTILIZED  \n",
       "0                         NaN  \n",
       "1                         NaN  \n",
       "2                         NaN  \n",
       "3                         NaN  \n",
       "4                         NaN  \n",
       "\n",
       "[5 rows x 43 columns]"
      ]
     },
     "execution_count": 4,
     "metadata": {},
     "output_type": "execute_result"
    }
   ],
   "source": [
    "data.loc[data['EDUCATION'] == 'Среднее специальное', 'EDUCATION'] = 'Professional School'\n",
    "data.loc[data['EDUCATION'] == 'Среднее', 'EDUCATION'] = 'Some High School'\n",
    "data.loc[data['EDUCATION'] == 'Неполное среднее', 'EDUCATION'] = 'Some Primary School'\n",
    "data.loc[data['EDUCATION'] == 'Высшее', 'EDUCATION'] = 'Undergraduate Degree'\n",
    "data.loc[data['EDUCATION'] == 'Неоконченное высшее', 'EDUCATION'] = 'No Formal Education'\n",
    "data.loc[data['EDUCATION'] == 'Два и более высших образования', 'EDUCATION'] = 'Post-Graduate Work'\n",
    "data.loc[data['EDUCATION'] == 'Ученая степень', 'EDUCATION'] = 'Graduate Degree'\n",
    "\n",
    "data.loc[data['MARITAL_STATUS'] == 'Состою в браке', 'MARITAL_STATUS'] = 'Married'\n",
    "data.loc[data['MARITAL_STATUS'] == 'Гражданский брак', 'MARITAL_STATUS'] = 'Partner'\n",
    "data.loc[data['MARITAL_STATUS'] == 'Разведен(а)', 'MARITAL_STATUS'] = 'Separated'\n",
    "data.loc[data['MARITAL_STATUS'] == 'Не состоял в браке', 'MARITAL_STATUS'] = 'Single'\n",
    "data.loc[data['MARITAL_STATUS'] == 'Вдовец/Вдова', 'MARITAL_STATUS'] = 'Widowed'\n",
    "\n",
    "data.loc[data['GEN_INDUSTRY'] == 'Металлургия/Промышленность/Машиностроение', 'GEN_INDUSTRY'] = 'Iron & Steel'\n",
    "data.loc[data['GEN_INDUSTRY'] == 'Строительство', 'GEN_INDUSTRY'] = 'Construction - Raw Materials'\n",
    "data.loc[data['GEN_INDUSTRY'] == 'Нефтегазовая промышленность', 'GEN_INDUSTRY'] = 'Oil & Gas Operations'\n",
    "data.loc[data['GEN_INDUSTRY'] == 'Энергетика', 'GEN_INDUSTRY'] = 'Oil Well Services & Equipment'\n",
    "data.loc[data['GEN_INDUSTRY'] == 'Страхование', 'GEN_INDUSTRY'] = 'Insurance (Accident & Health)'\n",
    "data.loc[data['GEN_INDUSTRY'] == 'Банк/Финансы', 'GEN_INDUSTRY'] = 'Regional Banks'\n",
    "data.loc[data['GEN_INDUSTRY'] == 'Здравоохранение', 'GEN_INDUSTRY'] = 'Healthcare'\n",
    "data.loc[data['GEN_INDUSTRY'] == 'Управляющая компания', 'GEN_INDUSTRY'] = 'Business Services'\n",
    "data.loc[data['GEN_INDUSTRY'] == 'Туризм', 'GEN_INDUSTRY'] = 'Hotels & Motels'\n",
    "data.loc[data['GEN_INDUSTRY'] == 'Юридические услуги/нотариальные услуги', 'GEN_INDUSTRY'] = 'Personal Services'\n",
    "data.loc[data['GEN_INDUSTRY'] == 'Недвижимость', 'GEN_INDUSTRY'] = 'Real Estate Operations'\n",
    "data.loc[data['GEN_INDUSTRY'] == 'Развлечения/Искусство', 'GEN_INDUSTRY'] = 'Recreational Activities'\n",
    "data.loc[data['GEN_INDUSTRY'] == 'Ресторанный бизнес /общественное питание', 'GEN_INDUSTRY'] = 'Restaurants'\n",
    "data.loc[data['GEN_INDUSTRY'] == 'Образование', 'GEN_INDUSTRY'] = 'Schools'\n",
    "data.loc[data['GEN_INDUSTRY'] == 'Наука', 'GEN_INDUSTRY'] = 'Scientific & Technical Instr.'\n",
    "data.loc[data['GEN_INDUSTRY'] == 'Информационные технологии', 'GEN_INDUSTRY'] = 'Software & Programming'\n",
    "data.loc[data['GEN_INDUSTRY'] == 'Транспорт', 'GEN_INDUSTRY'] = 'Transportation'\n",
    "data.loc[data['GEN_INDUSTRY'] == 'Логистика', 'GEN_INDUSTRY'] = 'Trucking'\n",
    "data.loc[data['GEN_INDUSTRY'] == 'Ресторанный бизнес/Общественное питание', 'GEN_INDUSTRY'] = 'Restaurant & Catering'\n",
    "data.loc[data['GEN_INDUSTRY'] == 'Коммунальное хоз-во/Дорожные службы', 'GEN_INDUSTRY'] = 'Municipal economy/Road service'\n",
    "data.loc[data['GEN_INDUSTRY'] == 'Салоны красоты и здоровья', 'GEN_INDUSTRY'] = 'Beauty shop'\n",
    "data.loc[data['GEN_INDUSTRY'] == 'Сборочные производства', 'GEN_INDUSTRY'] = 'Assembly production'\n",
    "data.loc[data['GEN_INDUSTRY'] == 'Сельское хозяйство', 'GEN_INDUSTRY'] = 'Agriculture'\n",
    "data.loc[data['GEN_INDUSTRY'] == 'Химия/Парфюмерия/Фармацевтика', 'GEN_INDUSTRY'] = 'Chemistry/Perfumery/Pharmaceut'\n",
    "data.loc[data['GEN_INDUSTRY'] == 'ЧОП/Детективная д-ть', 'GEN_INDUSTRY'] = 'Detective'\n",
    "data.loc[data['GEN_INDUSTRY'] == 'Другие сферы', 'GEN_INDUSTRY'] = 'Others fields'\n",
    "data.loc[data['GEN_INDUSTRY'] == 'Государственная служба', 'GEN_INDUSTRY'] = 'Public  & municipal administ.'\n",
    "data.loc[data['GEN_INDUSTRY'] == 'Информационные услуги', 'GEN_INDUSTRY'] = 'Information service'\n",
    "data.loc[data['GEN_INDUSTRY'] == 'Торговля', 'GEN_INDUSTRY'] = 'Market, real estate'\n",
    "data.loc[data['GEN_INDUSTRY'] == 'Маркетинг', 'GEN_INDUSTRY'] = 'Marketing'\n",
    "data.loc[data['GEN_INDUSTRY'] == 'Подбор персонала', 'GEN_INDUSTRY'] = 'Staff recruitment'\n",
    "data.loc[data['GEN_INDUSTRY'] == 'СМИ/Реклама/PR-агенства', 'GEN_INDUSTRY'] = 'Mass media'\n",
    "\n",
    "data.loc[data['FAMILY_INCOME'] == 'от 10000 до 20000 руб.', 'FAMILY_INCOME'] = '10000-20000'\n",
    "data.loc[data['FAMILY_INCOME'] == 'от 20000 до 50000 руб.', 'FAMILY_INCOME'] = '20000-50000'\n",
    "data.loc[data['FAMILY_INCOME'] == 'от 5000 до 10000 руб.', 'FAMILY_INCOME'] = '5000-10000'\n",
    "data.loc[data['FAMILY_INCOME'] == 'свыше 50000 руб.', 'FAMILY_INCOME'] = '50000+'\n",
    "data.loc[data['FAMILY_INCOME'] == 'до 5000 руб.', 'FAMILY_INCOME'] = 'up to 5000'\n",
    "\n",
    "\n",
    "\n",
    "data.drop(['GEN_TITLE', 'ORG_TP_STATE', 'ORG_TP_FCAPITAL', 'JOB_DIR', 'REG_ADDRESS_PROVINCE',\n",
    "           'FACT_ADDRESS_PROVINCE', 'POSTAL_ADDRESS_PROVINCE', 'TP_PROVINCE', 'REGION_NM'], axis=1, inplace=True)\n",
    "\n",
    "\n",
    "\n",
    "\n",
    "data.head()\n"
   ]
  },
  {
   "cell_type": "code",
   "execution_count": 5,
   "metadata": {},
   "outputs": [
    {
     "name": "stdout",
     "output_type": "stream",
     "text": [
      "<class 'pandas.core.frame.DataFrame'>\n",
      "RangeIndex: 15223 entries, 0 to 15222\n",
      "Data columns (total 43 columns):\n",
      " #   Column                      Non-Null Count  Dtype  \n",
      "---  ------                      --------------  -----  \n",
      " 0   AGREEMENT_RK                15223 non-null  int64  \n",
      " 1   TARGET                      15223 non-null  int64  \n",
      " 2   AGE                         15223 non-null  int64  \n",
      " 3   SOCSTATUS_WORK_FL           15223 non-null  int64  \n",
      " 4   SOCSTATUS_PENS_FL           15223 non-null  int64  \n",
      " 5   GENDER                      15223 non-null  int64  \n",
      " 6   CHILD_TOTAL                 15223 non-null  int64  \n",
      " 7   DEPENDANTS                  15223 non-null  int64  \n",
      " 8   EDUCATION                   15223 non-null  object \n",
      " 9   MARITAL_STATUS              15223 non-null  object \n",
      " 10  GEN_INDUSTRY                13856 non-null  object \n",
      " 11  FAMILY_INCOME               15223 non-null  object \n",
      " 12  PERSONAL_INCOME             15223 non-null  float64\n",
      " 13  REG_FACT_FL                 15223 non-null  int64  \n",
      " 14  FACT_POST_FL                15223 non-null  int64  \n",
      " 15  REG_POST_FL                 15223 non-null  int64  \n",
      " 16  REG_FACT_POST_FL            15223 non-null  int64  \n",
      " 17  REG_FACT_POST_TP_FL         15223 non-null  int64  \n",
      " 18  FL_PRESENCE_FL              15223 non-null  int64  \n",
      " 19  OWN_AUTO                    15223 non-null  int64  \n",
      " 20  AUTO_RUS_FL                 15223 non-null  int64  \n",
      " 21  HS_PRESENCE_FL              15223 non-null  int64  \n",
      " 22  COT_PRESENCE_FL             15223 non-null  int64  \n",
      " 23  GAR_PRESENCE_FL             15223 non-null  int64  \n",
      " 24  LAND_PRESENCE_FL            15223 non-null  int64  \n",
      " 25  CREDIT                      15223 non-null  float64\n",
      " 26  TERM                        15223 non-null  int64  \n",
      " 27  FST_PAYMENT                 15223 non-null  float64\n",
      " 28  DL_DOCUMENT_FL              15223 non-null  int64  \n",
      " 29  GPF_DOCUMENT_FL             15223 non-null  int64  \n",
      " 30  FACT_LIVING_TERM            15223 non-null  int64  \n",
      " 31  WORK_TIME                   13855 non-null  float64\n",
      " 32  FACT_PHONE_FL               15223 non-null  int64  \n",
      " 33  REG_PHONE_FL                15223 non-null  int64  \n",
      " 34  GEN_PHONE_FL                15223 non-null  int64  \n",
      " 35  LOAN_NUM_TOTAL              15223 non-null  int64  \n",
      " 36  LOAN_NUM_CLOSED             15223 non-null  int64  \n",
      " 37  LOAN_NUM_PAYM               15223 non-null  int64  \n",
      " 38  LOAN_DLQ_NUM                15223 non-null  int64  \n",
      " 39  LOAN_MAX_DLQ                15223 non-null  int64  \n",
      " 40  LOAN_AVG_DLQ_AMT            15223 non-null  float64\n",
      " 41  LOAN_MAX_DLQ_AMT            15223 non-null  float64\n",
      " 42  PREVIOUS_CARD_NUM_UTILIZED  288 non-null    float64\n",
      "dtypes: float64(7), int64(32), object(4)\n",
      "memory usage: 5.0+ MB\n"
     ]
    }
   ],
   "source": [
    "data.info()"
   ]
  },
  {
   "cell_type": "raw",
   "metadata": {},
   "source": [
    "Voici à quoi ressemblent les données. 43 colonnes dont plusieurs d'entre elles possèdent beaucoup de valeurs manquantes. Nous aurons donc besoin de :\n",
    "\n",
    "- supprimer plusieurs colonnes, où l'une des valeurs est trop répandue (a 95% ou plus). Il s'agit d'une valeur arbitraire et peut être modifiée. La raison à cela est que si d'autres catégories de la variable on moins de 5% au total et que la cible a une réponse positive d'environ 11%, la variable ne sera guère utile. Bien sûr,peut-être qu'une des classes les moins courantes a toujours une réponse positive (cela doit être de vérifications), dans ce cas, la fonctionnalité doit être utilisée;\n",
    "- traiter les variables continues;\n",
    "- traiter les variables catégorielles;\n",
    "- sélectionner des variables et construire le modèle;"
   ]
  },
  {
   "cell_type": "code",
   "execution_count": 6,
   "metadata": {},
   "outputs": [
    {
     "name": "stdout",
     "output_type": "stream",
     "text": [
      "FACT_POST_FL\n",
      "COT_PRESENCE_FL\n",
      "GAR_PRESENCE_FL\n",
      "LAND_PRESENCE_FL\n",
      "DL_DOCUMENT_FL\n",
      "PREVIOUS_CARD_NUM_UTILIZED\n"
     ]
    }
   ],
   "source": [
    "for col in data.columns:\n",
    "    if data[col].value_counts(dropna=False, normalize=True).values[0] > 0.95:\n",
    "        if col == 'TARGET':\n",
    "            pass\n",
    "        else:\n",
    "            print(col)\n",
    "            data.drop([col], axis=1, inplace=True)"
   ]
  },
  {
   "cell_type": "markdown",
   "metadata": {},
   "source": [
    "## Continuous"
   ]
  },
  {
   "cell_type": "raw",
   "metadata": {},
   "source": [
    "Il convient de noter qu'il est souvent judicieux de créer de nouvelles variables à partir de celles déjà existantes. Bien que des variables distinctes puissent avoir un certain impact sur les performances du modèle, leurs interactions peuvents apporter beaucoup plus de valeur. À titre d'exemple, je crée une nouvelle variable comme la valeur du revenu divisée par le montant du crédit. Si le montant du crédit est beaucoup plus élevé que le revenu, il pourrait y avoir des problèmes pour le payer, si le crédit est plusieurs fois inférieur, il pourrait être de peu d'intérêt pour le client. Bien sûr, les dépendances sont plus difficiles, mais vous comprenez l'essentiel."
   ]
  },
  {
   "cell_type": "code",
   "execution_count": 7,
   "metadata": {},
   "outputs": [],
   "source": [
    "data['Income_to_limit'] = data['PERSONAL_INCOME'] / data['CREDIT']"
   ]
  },
  {
   "cell_type": "raw",
   "metadata": {},
   "source": [
    "Et maintenant, il y a une question sur ce qu'il faut faire avec les variables continues. Habituellement, je les utilise tels quels, ou j'utilise une transformation (par exemple un log) si nécessaire ou je normalise les valeurs. Mais si le modèle doit être interprétable, cela ne fonctionnera pas. Le modèle doit montrer comment certaines valeurs affectent la probabilité de réponse positive. Je vais donc diviser les variables continues en groupes, de sorte que chaque variable ait un coefficient distinct dans le modèle. J'ai écrit la fonction split_best_iv pour cela. Elle divise la variable continue en groupes pour maximiser IV (valeur d'information).\n",
    "\n",
    "Qu'est-ce que IV? En fait, il était et est toujours largement utilisé dans l'analyse bancaire. En termes simples, il montre à quel point la variable est utile pour prédire la cible. Il est calculé de la manière suivante (vous pouvez voir un exemple ci-dessous pour \"GENDER\"):\n",
    "\n",
    "Pour chaque catégorie, le pourcentage de répondants est calculé - combien de personnes dans la catégorie ont une classe positive;\n",
    "La même chose est calculée pour la classe négative;\n",
    "WOE (Weight of Evidence) est calculé comme le logarithme du taux de répondeurs divisé par le taux de non-répondants. WOE montre à quel point la catégorie est bonne pour séparer les résultats positifs et négatifs. Un WOE négatif montre également qu'il y a plus de non-répondeurs, le positif implique plus de répondeurs;\n",
    "La différence entre les distributions des revenus positifs et négatifs est calculée;\n",
    "IV pour chaque catégorie est une multiplication de la différence susmentionnée et de WOE;\n",
    "IV pour la variable est la somme de IV pour chaque catégorie;\n",
    "La règle de base pour IV est la suivante:\n",
    "\n",
    "<0,02 - la fonctionnalité n'est pas utile pour la prédiction;\n",
    "0,02 - 0,1 - faible impact sur la qualité des prévisions;\n",
    "0,1 - 0,3 - impact moyen;\n",
    "0,3 - 0,5 - fort impact;\n",
    "0,5+ - peut provoquer un surajustement;\n",
    "Ce ne sont pas des tenants définitifs, mais nous devons y prêter attention."
   ]
  },
  {
   "cell_type": "code",
   "execution_count": 8,
   "metadata": {},
   "outputs": [
    {
     "name": "stdout",
     "output_type": "stream",
     "text": [
      "IV is 0.01.\n"
     ]
    }
   ],
   "source": [
    "df = pd.DataFrame(index = data['GENDER'].unique(),\n",
    "                      data={'% responders': data.groupby('GENDER')['TARGET'].sum() / np.sum(data['TARGET'])})\n",
    "df['% non-responders'] = (data.groupby('GENDER')['TARGET'].count() - data.groupby('GENDER')['TARGET'].sum()) \\\n",
    "                        / (len(data['TARGET']) - np.sum(data['TARGET']))\n",
    "df['WOE'] = np.log(df['% responders'] / df['% non-responders'])\n",
    "df['DG-DB'] = df['% responders'] - df['% non-responders']\n",
    "df['IV'] = df['WOE'] * df['DG-DB']\n",
    "df\n",
    "print('IV is {:.2f}.'.format(np.sum(df['IV'])))"
   ]
  },
  {
   "cell_type": "raw",
   "metadata": {},
   "source": [
    "La fonction split_best_iv appelle la fonction cont_split, qui tente de diviser la variable en groupes. J'utilise DecisionTreeClassifier pour cela.\n",
    "\n",
    "Paramètres intéressants:\n",
    "\n",
    "critère = 'entropie': pour maximiser le gain d'information lors de la ramification des arbres;\n",
    "min_samples_split = 0,05, min_samples_leaf = 0,05: afin qu'il y ait au moins 5% de valeurs dans chaque catégorie. Les raisons du choix de cette valeur ont été mentionnées plus haut;\n",
    "class_weight = 'balancé': excellente option pour travailler avec des classes déséquilibrées;\n",
    "max_leaf_nodes = leafs: combien de catégories seront créées, plus à ce sujet plus bas;\n",
    "Après cela, j'utilise la fonction tree_to_thresholds pour parcourir l'arbre et rassembler les seuils pour les règles de décision. Le code a été adopté à partir de cette question de stackoverflow. J'arrondis les valeurs, car avoir un âge fractionnaire par exemple n'a pas de sens. Ensuite, je calcule et enregistre la valeur IV. Au début, il y a 2 feuilles. Ensuite, la fonction split_best_iv augmente le nombre de feuilles jusqu'à ce que IV cesse d'augmenter. Ce sera le nombre optimal de feuilles et la division optimale dans les bacs. Les exemples seront inférieurs."
   ]
  },
  {
   "cell_type": "markdown",
   "metadata": {},
   "source": [
    "## Outliers"
   ]
  },
  {
   "cell_type": "raw",
   "metadata": {},
   "source": [
    "Il est très important de traiter les valeurs aberrantes. Certaines des méthodes habituelles sont:\n",
    "\n",
    "Supprimer des lignes avec ces valeurs;\n",
    "Remplacement de ces valeurs par des chiffres plus raisonnables;\n",
    "Construire un modèle distinct pour elles;\n",
    "\n",
    "Nous utiliserons ici le premier choix\n",
    "\n",
    "Pour identifier les valeurs aberrantes, j'utilise des boîtes à moustaches."
   ]
  },
  {
   "cell_type": "code",
   "execution_count": 9,
   "metadata": {},
   "outputs": [
    {
     "data": {
      "text/plain": [
       "<matplotlib.axes._subplots.AxesSubplot at 0x1a180b5a10>"
      ]
     },
     "execution_count": 9,
     "metadata": {},
     "output_type": "execute_result"
    },
    {
     "data": {
      "image/png": "[encoded data removed]",
      "text/plain": [
       "<Figure size 432x288 with 1 Axes>"
      ]
     },
     "metadata": {
      "needs_background": "light"
     },
     "output_type": "display_data"
    }
   ],
   "source": [
    "data['PERSONAL_INCOME'].plot(kind='box')"
   ]
  },
  {
   "cell_type": "raw",
   "metadata": {},
   "source": [
    "Boxplot montre que si la valeur médiane est raisonnable, les valeurs maximales sont très élevées. En fait, il est nécessaire de rechercher si ces valeurs sont normales. Peut-être que ce sont des clients VIP, peut-être qu'il y a une erreur dans les données, peut-être que c'est tout à fait normal ou qu'il pourrait y avoir une autre raison. Je n'ai pas de données supplémentaires, alors je vais simplement me débarrasser des 1% les plus élevés et des 1% des plus faibles."
   ]
  },
  {
   "cell_type": "code",
   "execution_count": 10,
   "metadata": {},
   "outputs": [],
   "source": [
    "data = data[(data.PERSONAL_INCOME < np.percentile(data.PERSONAL_INCOME, 99))\n",
    "            & (data.PERSONAL_INCOME > np.percentile(data.PERSONAL_INCOME, 1))]"
   ]
  },
  {
   "cell_type": "code",
   "execution_count": 11,
   "metadata": {},
   "outputs": [
    {
     "data": {
      "text/plain": [
       "8984     2867959.0\n",
       "4296       10000.0\n",
       "2532        4320.0\n",
       "5375        3500.0\n",
       "9852        1500.0\n",
       "1092        1312.0\n",
       "11720       1254.0\n",
       "13928       1120.0\n",
       "9983         976.0\n",
       "10677        864.0\n",
       "10171        860.0\n",
       "676          780.0\n",
       "7711         730.0\n",
       "3323         612.0\n",
       "2983         600.0\n",
       "8864         540.0\n",
       "4122         528.0\n",
       "9536         528.0\n",
       "4571         519.0\n",
       "1068         516.0\n",
       "Name: WORK_TIME, dtype: float64"
      ]
     },
     "execution_count": 11,
     "metadata": {},
     "output_type": "execute_result"
    }
   ],
   "source": [
    "data['WORK_TIME'].nlargest(20)"
   ]
  },
  {
   "cell_type": "raw",
   "metadata": {},
   "source": [
    "Il est possible de travailler au même endroit pendant 10, 30, peut-être même 50 ans. Travailler plus longtemps au même endroit est peu probable. Je vais donc abandonner ces valeurs. Il y a une possibilité de remplacer ces chiffres par des valeurs plus adéquates, mais il y a suffisamment de données."
   ]
  },
  {
   "cell_type": "code",
   "execution_count": 12,
   "metadata": {},
   "outputs": [],
   "source": [
    "data.drop([8984, 4296, 2532, 5375, 9852, 1092, 11720, 13928, 9983, 10677, 10171, 676, 7711, 3323], inplace=True)"
   ]
  },
  {
   "cell_type": "code",
   "execution_count": 13,
   "metadata": {},
   "outputs": [
    {
     "data": {
      "text/plain": [
       "4124     140000.0\n",
       "14367     75606.0\n",
       "4874      75570.0\n",
       "4162      75500.0\n",
       "11300     70940.0\n",
       "Name: FST_PAYMENT, dtype: float64"
      ]
     },
     "execution_count": 13,
     "metadata": {},
     "output_type": "execute_result"
    }
   ],
   "source": [
    "data['FST_PAYMENT'].nlargest()"
   ]
  },
  {
   "cell_type": "code",
   "execution_count": 14,
   "metadata": {},
   "outputs": [
    {
     "data": {
      "text/plain": [
       "485"
      ]
     },
     "execution_count": 14,
     "metadata": {},
     "output_type": "execute_result"
    }
   ],
   "source": [
    "data.loc[data['FST_PAYMENT'] > data['CREDIT']][['CREDIT', 'FST_PAYMENT']][:10]\n",
    "len(data.loc[data['FST_PAYMENT'] > data['CREDIT']][['CREDIT', 'FST_PAYMENT']])"
   ]
  },
  {
   "cell_type": "raw",
   "metadata": {},
   "source": [
    "Nous voyons qu'il y a 485 lignes où le paiement initial est supérieur au montant du crédit. \n",
    "Ce n'est certainement pas normal."
   ]
  },
  {
   "cell_type": "code",
   "execution_count": 15,
   "metadata": {},
   "outputs": [],
   "source": [
    "data = data.loc[data['FST_PAYMENT'] < data['CREDIT']]"
   ]
  },
  {
   "cell_type": "code",
   "execution_count": 16,
   "metadata": {},
   "outputs": [
    {
     "data": {
      "text/plain": [
       "6186     28101997\n",
       "12261    16091983\n",
       "8562        23916\n",
       "14739        7200\n",
       "988          6534\n",
       "12869        6336\n",
       "7650         3612\n",
       "12134        3228\n",
       "5681         3168\n",
       "11004        2520\n",
       "14707        1278\n",
       "12232        1000\n",
       "5369          980\n",
       "1420          890\n",
       "3789          720\n",
       "5888          720\n",
       "1937          708\n",
       "4463          700\n",
       "4705          696\n",
       "1013          684\n",
       "Name: FACT_LIVING_TERM, dtype: int64"
      ]
     },
     "execution_count": 16,
     "metadata": {},
     "output_type": "execute_result"
    }
   ],
   "source": [
    "#Nombre de mois dans le meme logement\n",
    "data['FACT_LIVING_TERM'].nlargest(20)"
   ]
  },
  {
   "cell_type": "raw",
   "metadata": {},
   "source": [
    "Bien qu'il soit possible que les gens puissent vivre au même endroit toute leur vie, il est très improbable de garder le meme logement plus de 100 ans."
   ]
  },
  {
   "cell_type": "code",
   "execution_count": 17,
   "metadata": {},
   "outputs": [],
   "source": [
    "data.drop([6186, 12261, 8562, 14739, 988, 12869, 7650, 12134, 5681, 11004, 14707], inplace=True)"
   ]
  },
  {
   "cell_type": "code",
   "execution_count": 18,
   "metadata": {},
   "outputs": [
    {
     "data": {
      "text/plain": [
       "((14276, 38), 1720)"
      ]
     },
     "execution_count": 18,
     "metadata": {},
     "output_type": "execute_result"
    }
   ],
   "source": [
    "data.shape, np.sum(data['TARGET'])"
   ]
  },
  {
   "cell_type": "code",
   "execution_count": 19,
   "metadata": {},
   "outputs": [],
   "source": [
    "initial_data = data.copy()"
   ]
  },
  {
   "cell_type": "raw",
   "metadata": {},
   "source": [
    "947 valeurs ont été abandonnées, mais seulement 92 d'entre elles ont eu une réponse positive."
   ]
  },
  {
   "cell_type": "markdown",
   "metadata": {},
   "source": [
    "## PERSONAL_INCOME"
   ]
  },
  {
   "cell_type": "code",
   "execution_count": 20,
   "metadata": {},
   "outputs": [
    {
     "data": {
      "text/plain": [
       "<matplotlib.axes._subplots.AxesSubplot at 0x1a18508dd0>"
      ]
     },
     "execution_count": 20,
     "metadata": {},
     "output_type": "execute_result"
    },
    {
     "data": {
      "image/png": "[encoded data removed]",
      "text/plain": [
       "<Figure size 432x288 with 1 Axes>"
      ]
     },
     "metadata": {
      "needs_background": "light"
     },
     "output_type": "display_data"
    }
   ],
   "source": [
    "data['PERSONAL_INCOME'].plot(kind='box')"
   ]
  },
  {
   "cell_type": "code",
   "execution_count": 21,
   "metadata": {},
   "outputs": [
    {
     "name": "stdout",
     "output_type": "stream",
     "text": [
      "(0.0, 7600.0]         0.180513\n",
      "(9300.0, 11000.0]     0.161600\n",
      "(15300.0, 20800.0]    0.151863\n",
      "(11000.0, 14800.0]    0.140866\n",
      "(7600.0, 9300.0]      0.131690\n",
      "(20800.0, 44000.0]    0.118941\n",
      "(14800.0, 15300.0]    0.114528\n",
      "Name: PERSONAL_INCOME, dtype: float64\n",
      "IV:  0.09103655405256013\n"
     ]
    }
   ],
   "source": [
    "data['PERSONAL_INCOME'] = functions.split_best_iv(data, 'PERSONAL_INCOME', 'TARGET')"
   ]
  },
  {
   "cell_type": "code",
   "execution_count": 22,
   "metadata": {},
   "outputs": [
    {
     "name": "stdout",
     "output_type": "stream",
     "text": [
      "Counts:\n",
      "PERSONAL_INCOME\n",
      "(0.0, 7600.0]         2577\n",
      "(7600.0, 9300.0]      1880\n",
      "(9300.0, 11000.0]     2307\n",
      "(11000.0, 14800.0]    2011\n",
      "(14800.0, 15300.0]    1635\n",
      "(15300.0, 20800.0]    2168\n",
      "(20800.0, 44000.0]    1698\n",
      "Name: TARGET, dtype: int64\n",
      "Frequencies:\n",
      "(0.0, 7600.0]         0.180513\n",
      "(9300.0, 11000.0]     0.161600\n",
      "(15300.0, 20800.0]    0.151863\n",
      "(11000.0, 14800.0]    0.140866\n",
      "(7600.0, 9300.0]      0.131690\n",
      "(20800.0, 44000.0]    0.118941\n",
      "(14800.0, 15300.0]    0.114528\n",
      "Name: PERSONAL_INCOME, dtype: float64\n"
     ]
    },
    {
     "data": {
      "image/png": "[encoded data removed]",
      "text/plain": [
       "<Figure size 576x432 with 2 Axes>"
      ]
     },
     "metadata": {
      "needs_background": "light"
     },
     "output_type": "display_data"
    },
    {
     "name": "stdout",
     "output_type": "stream",
     "text": [
      "IV:  0.09103655405256013\n"
     ]
    },
    {
     "data": {
      "text/html": [
       "<div>\n",
       "<style scoped>\n",
       "    .dataframe tbody tr th:only-of-type {\n",
       "        vertical-align: middle;\n",
       "    }\n",
       "\n",
       "    .dataframe tbody tr th {\n",
       "        vertical-align: top;\n",
       "    }\n",
       "\n",
       "    .dataframe thead th {\n",
       "        text-align: right;\n",
       "    }\n",
       "</style>\n",
       "<table border=\"1\" class=\"dataframe\">\n",
       "  <thead>\n",
       "    <tr style=\"text-align: right;\">\n",
       "      <th></th>\n",
       "      <th>% responders</th>\n",
       "      <th>% non-responders</th>\n",
       "      <th>WOE</th>\n",
       "      <th>DG-DB</th>\n",
       "      <th>IV</th>\n",
       "    </tr>\n",
       "  </thead>\n",
       "  <tbody>\n",
       "    <tr>\n",
       "      <th>(11000.0, 14800.0]</th>\n",
       "      <td>0.139535</td>\n",
       "      <td>0.141048</td>\n",
       "      <td>-0.010786</td>\n",
       "      <td>-0.001513</td>\n",
       "      <td>0.000016</td>\n",
       "    </tr>\n",
       "    <tr>\n",
       "      <th>(7600.0, 9300.0]</th>\n",
       "      <td>0.102907</td>\n",
       "      <td>0.135632</td>\n",
       "      <td>-0.276123</td>\n",
       "      <td>-0.032725</td>\n",
       "      <td>0.009036</td>\n",
       "    </tr>\n",
       "    <tr>\n",
       "      <th>(20800.0, 44000.0]</th>\n",
       "      <td>0.180814</td>\n",
       "      <td>0.110465</td>\n",
       "      <td>0.492769</td>\n",
       "      <td>0.070349</td>\n",
       "      <td>0.034666</td>\n",
       "    </tr>\n",
       "    <tr>\n",
       "      <th>(0.0, 7600.0]</th>\n",
       "      <td>0.117442</td>\n",
       "      <td>0.189153</td>\n",
       "      <td>-0.476611</td>\n",
       "      <td>-0.071711</td>\n",
       "      <td>0.034178</td>\n",
       "    </tr>\n",
       "    <tr>\n",
       "      <th>(15300.0, 20800.0]</th>\n",
       "      <td>0.175000</td>\n",
       "      <td>0.148694</td>\n",
       "      <td>0.162896</td>\n",
       "      <td>0.026306</td>\n",
       "      <td>0.004285</td>\n",
       "    </tr>\n",
       "    <tr>\n",
       "      <th>(9300.0, 11000.0]</th>\n",
       "      <td>0.144767</td>\n",
       "      <td>0.163906</td>\n",
       "      <td>-0.124163</td>\n",
       "      <td>-0.019138</td>\n",
       "      <td>0.002376</td>\n",
       "    </tr>\n",
       "    <tr>\n",
       "      <th>(14800.0, 15300.0]</th>\n",
       "      <td>0.139535</td>\n",
       "      <td>0.111102</td>\n",
       "      <td>0.227864</td>\n",
       "      <td>0.028433</td>\n",
       "      <td>0.006479</td>\n",
       "    </tr>\n",
       "  </tbody>\n",
       "</table>\n",
       "</div>"
      ],
      "text/plain": [
       "                    % responders  % non-responders       WOE     DG-DB  \\\n",
       "(11000.0, 14800.0]      0.139535          0.141048 -0.010786 -0.001513   \n",
       "(7600.0, 9300.0]        0.102907          0.135632 -0.276123 -0.032725   \n",
       "(20800.0, 44000.0]      0.180814          0.110465  0.492769  0.070349   \n",
       "(0.0, 7600.0]           0.117442          0.189153 -0.476611 -0.071711   \n",
       "(15300.0, 20800.0]      0.175000          0.148694  0.162896  0.026306   \n",
       "(9300.0, 11000.0]       0.144767          0.163906 -0.124163 -0.019138   \n",
       "(14800.0, 15300.0]      0.139535          0.111102  0.227864  0.028433   \n",
       "\n",
       "                          IV  \n",
       "(11000.0, 14800.0]  0.000016  \n",
       "(7600.0, 9300.0]    0.009036  \n",
       "(20800.0, 44000.0]  0.034666  \n",
       "(0.0, 7600.0]       0.034178  \n",
       "(15300.0, 20800.0]  0.004285  \n",
       "(9300.0, 11000.0]   0.002376  \n",
       "(14800.0, 15300.0]  0.006479  "
      ]
     },
     "execution_count": 22,
     "metadata": {},
     "output_type": "execute_result"
    }
   ],
   "source": [
    "functions.feature_stat(data, 'PERSONAL_INCOME', 'TARGET')\n",
    "functions.calc_iv(data, 'TARGET', 'PERSONAL_INCOME')[0]"
   ]
  },
  {
   "cell_type": "raw",
   "metadata": {},
   "source": [
    "Les personnes à revenu élevé ont tendance à avoir un taux de réponse positive plus élevé."
   ]
  },
  {
   "cell_type": "markdown",
   "metadata": {},
   "source": [
    "## Age"
   ]
  },
  {
   "cell_type": "code",
   "execution_count": 23,
   "metadata": {},
   "outputs": [
    {
     "data": {
      "text/plain": [
       "<matplotlib.axes._subplots.AxesSubplot at 0x1a29e9fe10>"
      ]
     },
     "execution_count": 23,
     "metadata": {},
     "output_type": "execute_result"
    },
    {
     "data": {
      "image/png": "[encoded data removed]",
      "text/plain": [
       "<Figure size 432x288 with 1 Axes>"
      ]
     },
     "metadata": {
      "needs_background": "light"
     },
     "output_type": "display_data"
    }
   ],
   "source": [
    "data['AGE'].plot(kind='box')"
   ]
  },
  {
   "cell_type": "code",
   "execution_count": 24,
   "metadata": {},
   "outputs": [
    {
     "name": "stdout",
     "output_type": "stream",
     "text": [
      "(42.0, 50.0]    0.180583\n",
      "(54.0, 67.0]    0.146820\n",
      "(0.0, 26.0]     0.135332\n",
      "(30.0, 34.0]    0.119992\n",
      "(26.0, 30.0]    0.118170\n",
      "(34.0, 38.0]    0.108854\n",
      "(38.0, 42.0]    0.101989\n",
      "(50.0, 54.0]    0.088260\n",
      "Name: AGE, dtype: float64\n",
      "IV:  0.12362585788891757\n"
     ]
    }
   ],
   "source": [
    "data['AGE'] = functions.split_best_iv(data, 'AGE', 'TARGET')"
   ]
  },
  {
   "cell_type": "code",
   "execution_count": 25,
   "metadata": {},
   "outputs": [
    {
     "name": "stdout",
     "output_type": "stream",
     "text": [
      "Counts:\n",
      "AGE\n",
      "(0.0, 26.0]     1932\n",
      "(26.0, 30.0]    1687\n",
      "(30.0, 34.0]    1713\n",
      "(34.0, 38.0]    1554\n",
      "(38.0, 42.0]    1456\n",
      "(42.0, 50.0]    2578\n",
      "(50.0, 54.0]    1260\n",
      "(54.0, 67.0]    2096\n",
      "Name: TARGET, dtype: int64\n",
      "Frequencies:\n",
      "(42.0, 50.0]    0.180583\n",
      "(54.0, 67.0]    0.146820\n",
      "(0.0, 26.0]     0.135332\n",
      "(30.0, 34.0]    0.119992\n",
      "(26.0, 30.0]    0.118170\n",
      "(34.0, 38.0]    0.108854\n",
      "(38.0, 42.0]    0.101989\n",
      "(50.0, 54.0]    0.088260\n",
      "Name: AGE, dtype: float64\n"
     ]
    },
    {
     "data": {
      "image/png": "[encoded data removed]",
      "text/plain": [
       "<Figure size 576x432 with 2 Axes>"
      ]
     },
     "metadata": {
      "needs_background": "light"
     },
     "output_type": "display_data"
    },
    {
     "name": "stdout",
     "output_type": "stream",
     "text": [
      "IV:  0.12362585788891757\n"
     ]
    },
    {
     "data": {
      "text/html": [
       "<div>\n",
       "<style scoped>\n",
       "    .dataframe tbody tr th:only-of-type {\n",
       "        vertical-align: middle;\n",
       "    }\n",
       "\n",
       "    .dataframe tbody tr th {\n",
       "        vertical-align: top;\n",
       "    }\n",
       "\n",
       "    .dataframe thead th {\n",
       "        text-align: right;\n",
       "    }\n",
       "</style>\n",
       "<table border=\"1\" class=\"dataframe\">\n",
       "  <thead>\n",
       "    <tr style=\"text-align: right;\">\n",
       "      <th></th>\n",
       "      <th>% responders</th>\n",
       "      <th>% non-responders</th>\n",
       "      <th>WOE</th>\n",
       "      <th>DG-DB</th>\n",
       "      <th>IV</th>\n",
       "    </tr>\n",
       "  </thead>\n",
       "  <tbody>\n",
       "    <tr>\n",
       "      <th>(30.0, 34.0]</th>\n",
       "      <td>0.131395</td>\n",
       "      <td>0.118429</td>\n",
       "      <td>0.103893</td>\n",
       "      <td>0.012966</td>\n",
       "      <td>0.001347</td>\n",
       "    </tr>\n",
       "    <tr>\n",
       "      <th>(50.0, 54.0]</th>\n",
       "      <td>0.068605</td>\n",
       "      <td>0.090953</td>\n",
       "      <td>-0.281977</td>\n",
       "      <td>-0.022348</td>\n",
       "      <td>0.006302</td>\n",
       "    </tr>\n",
       "    <tr>\n",
       "      <th>(38.0, 42.0]</th>\n",
       "      <td>0.127326</td>\n",
       "      <td>0.098519</td>\n",
       "      <td>0.256502</td>\n",
       "      <td>0.028807</td>\n",
       "      <td>0.007389</td>\n",
       "    </tr>\n",
       "    <tr>\n",
       "      <th>(26.0, 30.0]</th>\n",
       "      <td>0.147093</td>\n",
       "      <td>0.114208</td>\n",
       "      <td>0.253041</td>\n",
       "      <td>0.032885</td>\n",
       "      <td>0.008321</td>\n",
       "    </tr>\n",
       "    <tr>\n",
       "      <th>(42.0, 50.0]</th>\n",
       "      <td>0.155233</td>\n",
       "      <td>0.184055</td>\n",
       "      <td>-0.170313</td>\n",
       "      <td>-0.028823</td>\n",
       "      <td>0.004909</td>\n",
       "    </tr>\n",
       "    <tr>\n",
       "      <th>(0.0, 26.0]</th>\n",
       "      <td>0.179070</td>\n",
       "      <td>0.129341</td>\n",
       "      <td>0.325327</td>\n",
       "      <td>0.049729</td>\n",
       "      <td>0.016178</td>\n",
       "    </tr>\n",
       "    <tr>\n",
       "      <th>(54.0, 67.0]</th>\n",
       "      <td>0.067442</td>\n",
       "      <td>0.157694</td>\n",
       "      <td>-0.849388</td>\n",
       "      <td>-0.090252</td>\n",
       "      <td>0.076659</td>\n",
       "    </tr>\n",
       "    <tr>\n",
       "      <th>(34.0, 38.0]</th>\n",
       "      <td>0.123837</td>\n",
       "      <td>0.106802</td>\n",
       "      <td>0.147996</td>\n",
       "      <td>0.017036</td>\n",
       "      <td>0.002521</td>\n",
       "    </tr>\n",
       "  </tbody>\n",
       "</table>\n",
       "</div>"
      ],
      "text/plain": [
       "              % responders  % non-responders       WOE     DG-DB        IV\n",
       "(30.0, 34.0]      0.131395          0.118429  0.103893  0.012966  0.001347\n",
       "(50.0, 54.0]      0.068605          0.090953 -0.281977 -0.022348  0.006302\n",
       "(38.0, 42.0]      0.127326          0.098519  0.256502  0.028807  0.007389\n",
       "(26.0, 30.0]      0.147093          0.114208  0.253041  0.032885  0.008321\n",
       "(42.0, 50.0]      0.155233          0.184055 -0.170313 -0.028823  0.004909\n",
       "(0.0, 26.0]       0.179070          0.129341  0.325327  0.049729  0.016178\n",
       "(54.0, 67.0]      0.067442          0.157694 -0.849388 -0.090252  0.076659\n",
       "(34.0, 38.0]      0.123837          0.106802  0.147996  0.017036  0.002521"
      ]
     },
     "execution_count": 25,
     "metadata": {},
     "output_type": "execute_result"
    }
   ],
   "source": [
    "functions.feature_stat(data, 'AGE', 'TARGET')\n",
    "functions.calc_iv(data, 'TARGET', 'AGE')[0]"
   ]
  },
  {
   "cell_type": "raw",
   "metadata": {},
   "source": [
    "Les plus jeunes prennent plus de crédits, alors que seule une fraction des personnes âgées ont une réponse positive."
   ]
  },
  {
   "cell_type": "markdown",
   "metadata": {},
   "source": [
    "## WORK_TIME"
   ]
  },
  {
   "cell_type": "raw",
   "metadata": {},
   "source": [
    "Temps de travail sur le lieu de travail actuel en mois."
   ]
  },
  {
   "cell_type": "code",
   "execution_count": 26,
   "metadata": {},
   "outputs": [],
   "source": [
    "#Nous allons considerer que les valeurs manquantes signifie que la personne n'as pas travaillé du tout.\n",
    "data['WORK_TIME'].fillna(0, inplace=True)"
   ]
  },
  {
   "cell_type": "code",
   "execution_count": 27,
   "metadata": {},
   "outputs": [
    {
     "data": {
      "text/plain": [
       "<matplotlib.axes._subplots.AxesSubplot at 0x1a2a428090>"
      ]
     },
     "execution_count": 27,
     "metadata": {},
     "output_type": "execute_result"
    },
    {
     "data": {
      "image/png": "[encoded data removed]",
      "text/plain": [
       "<Figure size 432x288 with 1 Axes>"
      ]
     },
     "metadata": {
      "needs_background": "light"
     },
     "output_type": "display_data"
    }
   ],
   "source": [
    "data['WORK_TIME'].plot(kind='box')"
   ]
  },
  {
   "cell_type": "raw",
   "metadata": {},
   "source": [
    "Ici, j'ajoute une autre ligne. Si la variable a des valeurs nulles, DecisionTreeClassifier a des problèmes avec ces dernieres. Je combine donc les valeurs nulles avec l'intervalle le plus proche."
   ]
  },
  {
   "cell_type": "code",
   "execution_count": 28,
   "metadata": {},
   "outputs": [
    {
     "name": "stdout",
     "output_type": "stream",
     "text": [
      "(35.5, 53.5]      0.164122\n",
      "(151.0, 600.0]    0.158238\n",
      "(6.5, 21.5]       0.156276\n",
      "(53.5, 85.5]      0.149902\n",
      "(85.5, 151.0]     0.119011\n",
      "(21.5, 35.5]      0.109344\n",
      "NaN               0.086579\n",
      "(0.0, 6.5]        0.056528\n",
      "Name: WORK_TIME, dtype: float64\n",
      "IV:  0.07588739512498476\n"
     ]
    }
   ],
   "source": [
    "data['WORK_TIME'] = functions.split_best_iv(data, 'WORK_TIME', 'TARGET')\n",
    "data['WORK_TIME'].fillna(data['WORK_TIME'].cat.categories[0], inplace=True)"
   ]
  },
  {
   "cell_type": "code",
   "execution_count": 29,
   "metadata": {},
   "outputs": [
    {
     "name": "stdout",
     "output_type": "stream",
     "text": [
      "Counts:\n",
      "WORK_TIME\n",
      "(0.0, 6.5]        2043\n",
      "(6.5, 21.5]       2231\n",
      "(21.5, 35.5]      1561\n",
      "(35.5, 53.5]      2343\n",
      "(53.5, 85.5]      2140\n",
      "(85.5, 151.0]     1699\n",
      "(151.0, 600.0]    2259\n",
      "Name: TARGET, dtype: int64\n",
      "Frequencies:\n",
      "(35.5, 53.5]      0.164122\n",
      "(151.0, 600.0]    0.158238\n",
      "(6.5, 21.5]       0.156276\n",
      "(53.5, 85.5]      0.149902\n",
      "(0.0, 6.5]        0.143107\n",
      "(85.5, 151.0]     0.119011\n",
      "(21.5, 35.5]      0.109344\n",
      "Name: WORK_TIME, dtype: float64\n"
     ]
    },
    {
     "data": {
      "image/png": "[encoded data removed]",
      "text/plain": [
       "<Figure size 576x432 with 2 Axes>"
      ]
     },
     "metadata": {
      "needs_background": "light"
     },
     "output_type": "display_data"
    },
    {
     "name": "stdout",
     "output_type": "stream",
     "text": [
      "IV:  0.09138088986493594\n"
     ]
    },
    {
     "data": {
      "text/html": [
       "<div>\n",
       "<style scoped>\n",
       "    .dataframe tbody tr th:only-of-type {\n",
       "        vertical-align: middle;\n",
       "    }\n",
       "\n",
       "    .dataframe tbody tr th {\n",
       "        vertical-align: top;\n",
       "    }\n",
       "\n",
       "    .dataframe thead th {\n",
       "        text-align: right;\n",
       "    }\n",
       "</style>\n",
       "<table border=\"1\" class=\"dataframe\">\n",
       "  <thead>\n",
       "    <tr style=\"text-align: right;\">\n",
       "      <th></th>\n",
       "      <th>% responders</th>\n",
       "      <th>% non-responders</th>\n",
       "      <th>WOE</th>\n",
       "      <th>DG-DB</th>\n",
       "      <th>IV</th>\n",
       "    </tr>\n",
       "  </thead>\n",
       "  <tbody>\n",
       "    <tr>\n",
       "      <th>(85.5, 151.0]</th>\n",
       "      <td>0.102907</td>\n",
       "      <td>0.121217</td>\n",
       "      <td>-0.163756</td>\n",
       "      <td>-0.018310</td>\n",
       "      <td>0.002998</td>\n",
       "    </tr>\n",
       "    <tr>\n",
       "      <th>(53.5, 85.5]</th>\n",
       "      <td>0.152326</td>\n",
       "      <td>0.149570</td>\n",
       "      <td>0.018256</td>\n",
       "      <td>0.002756</td>\n",
       "      <td>0.000050</td>\n",
       "    </tr>\n",
       "    <tr>\n",
       "      <th>(151.0, 600.0]</th>\n",
       "      <td>0.105233</td>\n",
       "      <td>0.165499</td>\n",
       "      <td>-0.452790</td>\n",
       "      <td>-0.060266</td>\n",
       "      <td>0.027288</td>\n",
       "    </tr>\n",
       "    <tr>\n",
       "      <th>(35.5, 53.5]</th>\n",
       "      <td>0.200000</td>\n",
       "      <td>0.159207</td>\n",
       "      <td>0.228114</td>\n",
       "      <td>0.040793</td>\n",
       "      <td>0.009305</td>\n",
       "    </tr>\n",
       "    <tr>\n",
       "      <th>(0.0, 6.5]</th>\n",
       "      <td>0.099419</td>\n",
       "      <td>0.149092</td>\n",
       "      <td>-0.405225</td>\n",
       "      <td>-0.049673</td>\n",
       "      <td>0.020129</td>\n",
       "    </tr>\n",
       "    <tr>\n",
       "      <th>(21.5, 35.5]</th>\n",
       "      <td>0.118023</td>\n",
       "      <td>0.108155</td>\n",
       "      <td>0.087312</td>\n",
       "      <td>0.009868</td>\n",
       "      <td>0.000862</td>\n",
       "    </tr>\n",
       "    <tr>\n",
       "      <th>(6.5, 21.5]</th>\n",
       "      <td>0.222093</td>\n",
       "      <td>0.147260</td>\n",
       "      <td>0.410895</td>\n",
       "      <td>0.074833</td>\n",
       "      <td>0.030748</td>\n",
       "    </tr>\n",
       "  </tbody>\n",
       "</table>\n",
       "</div>"
      ],
      "text/plain": [
       "                % responders  % non-responders       WOE     DG-DB        IV\n",
       "(85.5, 151.0]       0.102907          0.121217 -0.163756 -0.018310  0.002998\n",
       "(53.5, 85.5]        0.152326          0.149570  0.018256  0.002756  0.000050\n",
       "(151.0, 600.0]      0.105233          0.165499 -0.452790 -0.060266  0.027288\n",
       "(35.5, 53.5]        0.200000          0.159207  0.228114  0.040793  0.009305\n",
       "(0.0, 6.5]          0.099419          0.149092 -0.405225 -0.049673  0.020129\n",
       "(21.5, 35.5]        0.118023          0.108155  0.087312  0.009868  0.000862\n",
       "(6.5, 21.5]         0.222093          0.147260  0.410895  0.074833  0.030748"
      ]
     },
     "execution_count": 29,
     "metadata": {},
     "output_type": "execute_result"
    }
   ],
   "source": [
    "functions.feature_stat(data, 'WORK_TIME', 'TARGET')\n",
    "functions.calc_iv(data, 'TARGET', 'WORK_TIME')[0]"
   ]
  },
  {
   "cell_type": "markdown",
   "metadata": {},
   "source": [
    "## CREDIT"
   ]
  },
  {
   "cell_type": "raw",
   "metadata": {},
   "source": [
    "Montant du crédit (en roubles)."
   ]
  },
  {
   "cell_type": "code",
   "execution_count": 30,
   "metadata": {},
   "outputs": [
    {
     "data": {
      "text/plain": [
       "<matplotlib.axes._subplots.AxesSubplot at 0x1a2a6e5550>"
      ]
     },
     "execution_count": 30,
     "metadata": {},
     "output_type": "execute_result"
    },
    {
     "data": {
      "image/png": "[encoded data removed]",
      "text/plain": [
       "<Figure size 432x288 with 1 Axes>"
      ]
     },
     "metadata": {
      "needs_background": "light"
     },
     "output_type": "display_data"
    }
   ],
   "source": [
    "data['CREDIT'].plot(kind='box')\n"
   ]
  },
  {
   "cell_type": "raw",
   "metadata": {},
   "source": [
    "Certains crédits ont des valeurs beaucoup plus élevées que la médiane, mais il s'agit peut-être de types particuliers de crédit."
   ]
  },
  {
   "cell_type": "code",
   "execution_count": 31,
   "metadata": {},
   "outputs": [
    {
     "name": "stdout",
     "output_type": "stream",
     "text": [
      "(9400.0, 14100.0]      0.200897\n",
      "(22500.0, 119700.0]    0.175960\n",
      "(0.0, 5400.0]          0.169585\n",
      "(14100.0, 18100.0]     0.127487\n",
      "(5400.0, 7200.0]       0.116629\n",
      "(18100.0, 22500.0]     0.110325\n",
      "(7200.0, 9400.0]       0.099117\n",
      "Name: CREDIT, dtype: float64\n",
      "IV:  0.015512990338530862\n"
     ]
    }
   ],
   "source": [
    "data['CREDIT'] = functions.split_best_iv(data, 'CREDIT', 'TARGET')"
   ]
  },
  {
   "cell_type": "code",
   "execution_count": 32,
   "metadata": {},
   "outputs": [
    {
     "name": "stdout",
     "output_type": "stream",
     "text": [
      "Counts:\n",
      "CREDIT\n",
      "(0.0, 5400.0]          2421\n",
      "(5400.0, 7200.0]       1665\n",
      "(7200.0, 9400.0]       1415\n",
      "(9400.0, 14100.0]      2868\n",
      "(14100.0, 18100.0]     1820\n",
      "(18100.0, 22500.0]     1575\n",
      "(22500.0, 119700.0]    2512\n",
      "Name: TARGET, dtype: int64\n",
      "Frequencies:\n",
      "(9400.0, 14100.0]      0.200897\n",
      "(22500.0, 119700.0]    0.175960\n",
      "(0.0, 5400.0]          0.169585\n",
      "(14100.0, 18100.0]     0.127487\n",
      "(5400.0, 7200.0]       0.116629\n",
      "(18100.0, 22500.0]     0.110325\n",
      "(7200.0, 9400.0]       0.099117\n",
      "Name: CREDIT, dtype: float64\n"
     ]
    },
    {
     "data": {
      "image/png": "[encoded data removed]",
      "text/plain": [
       "<Figure size 576x432 with 2 Axes>"
      ]
     },
     "metadata": {
      "needs_background": "light"
     },
     "output_type": "display_data"
    },
    {
     "name": "stdout",
     "output_type": "stream",
     "text": [
      "IV:  0.015512990338530862\n"
     ]
    },
    {
     "data": {
      "text/html": [
       "<div>\n",
       "<style scoped>\n",
       "    .dataframe tbody tr th:only-of-type {\n",
       "        vertical-align: middle;\n",
       "    }\n",
       "\n",
       "    .dataframe tbody tr th {\n",
       "        vertical-align: top;\n",
       "    }\n",
       "\n",
       "    .dataframe thead th {\n",
       "        text-align: right;\n",
       "    }\n",
       "</style>\n",
       "<table border=\"1\" class=\"dataframe\">\n",
       "  <thead>\n",
       "    <tr style=\"text-align: right;\">\n",
       "      <th></th>\n",
       "      <th>% responders</th>\n",
       "      <th>% non-responders</th>\n",
       "      <th>WOE</th>\n",
       "      <th>DG-DB</th>\n",
       "      <th>IV</th>\n",
       "    </tr>\n",
       "  </thead>\n",
       "  <tbody>\n",
       "    <tr>\n",
       "      <th>(18100.0, 22500.0]</th>\n",
       "      <td>0.102907</td>\n",
       "      <td>0.111341</td>\n",
       "      <td>-0.078774</td>\n",
       "      <td>-0.008434</td>\n",
       "      <td>6.643955e-04</td>\n",
       "    </tr>\n",
       "    <tr>\n",
       "      <th>(22500.0, 119700.0]</th>\n",
       "      <td>0.205233</td>\n",
       "      <td>0.171950</td>\n",
       "      <td>0.176942</td>\n",
       "      <td>0.033283</td>\n",
       "      <td>5.889141e-03</td>\n",
       "    </tr>\n",
       "    <tr>\n",
       "      <th>(7200.0, 9400.0]</th>\n",
       "      <td>0.115698</td>\n",
       "      <td>0.096846</td>\n",
       "      <td>0.177857</td>\n",
       "      <td>0.018852</td>\n",
       "      <td>3.352881e-03</td>\n",
       "    </tr>\n",
       "    <tr>\n",
       "      <th>(14100.0, 18100.0]</th>\n",
       "      <td>0.127326</td>\n",
       "      <td>0.127509</td>\n",
       "      <td>-0.001438</td>\n",
       "      <td>-0.000183</td>\n",
       "      <td>2.633451e-07</td>\n",
       "    </tr>\n",
       "    <tr>\n",
       "      <th>(0.0, 5400.0]</th>\n",
       "      <td>0.152326</td>\n",
       "      <td>0.171950</td>\n",
       "      <td>-0.121182</td>\n",
       "      <td>-0.019624</td>\n",
       "      <td>2.378077e-03</td>\n",
       "    </tr>\n",
       "    <tr>\n",
       "      <th>(9400.0, 14100.0]</th>\n",
       "      <td>0.179070</td>\n",
       "      <td>0.203887</td>\n",
       "      <td>-0.129788</td>\n",
       "      <td>-0.024817</td>\n",
       "      <td>3.220936e-03</td>\n",
       "    </tr>\n",
       "    <tr>\n",
       "      <th>(5400.0, 7200.0]</th>\n",
       "      <td>0.117442</td>\n",
       "      <td>0.116518</td>\n",
       "      <td>0.007898</td>\n",
       "      <td>0.000924</td>\n",
       "      <td>7.296327e-06</td>\n",
       "    </tr>\n",
       "  </tbody>\n",
       "</table>\n",
       "</div>"
      ],
      "text/plain": [
       "                     % responders  % non-responders       WOE     DG-DB  \\\n",
       "(18100.0, 22500.0]       0.102907          0.111341 -0.078774 -0.008434   \n",
       "(22500.0, 119700.0]      0.205233          0.171950  0.176942  0.033283   \n",
       "(7200.0, 9400.0]         0.115698          0.096846  0.177857  0.018852   \n",
       "(14100.0, 18100.0]       0.127326          0.127509 -0.001438 -0.000183   \n",
       "(0.0, 5400.0]            0.152326          0.171950 -0.121182 -0.019624   \n",
       "(9400.0, 14100.0]        0.179070          0.203887 -0.129788 -0.024817   \n",
       "(5400.0, 7200.0]         0.117442          0.116518  0.007898  0.000924   \n",
       "\n",
       "                               IV  \n",
       "(18100.0, 22500.0]   6.643955e-04  \n",
       "(22500.0, 119700.0]  5.889141e-03  \n",
       "(7200.0, 9400.0]     3.352881e-03  \n",
       "(14100.0, 18100.0]   2.633451e-07  \n",
       "(0.0, 5400.0]        2.378077e-03  \n",
       "(9400.0, 14100.0]    3.220936e-03  \n",
       "(5400.0, 7200.0]     7.296327e-06  "
      ]
     },
     "execution_count": 32,
     "metadata": {},
     "output_type": "execute_result"
    }
   ],
   "source": [
    "functions.feature_stat(data, 'CREDIT', 'TARGET')\n",
    "functions.calc_iv(data, 'TARGET', 'CREDIT')[0]"
   ]
  },
  {
   "cell_type": "markdown",
   "metadata": {},
   "source": [
    "## TERM"
   ]
  },
  {
   "cell_type": "raw",
   "metadata": {},
   "source": [
    "Durée du crédit (en mois)."
   ]
  },
  {
   "cell_type": "code",
   "execution_count": 33,
   "metadata": {},
   "outputs": [
    {
     "data": {
      "text/plain": [
       "<matplotlib.axes._subplots.AxesSubplot at 0x1a2a3ff690>"
      ]
     },
     "execution_count": 33,
     "metadata": {},
     "output_type": "execute_result"
    },
    {
     "data": {
      "image/png": "[encoded data removed]",
      "text/plain": [
       "<Figure size 432x288 with 1 Axes>"
      ]
     },
     "metadata": {
      "needs_background": "light"
     },
     "output_type": "display_data"
    }
   ],
   "source": [
    "data['TERM'].plot(kind='box')"
   ]
  },
  {
   "cell_type": "code",
   "execution_count": 34,
   "metadata": {},
   "outputs": [
    {
     "name": "stdout",
     "output_type": "stream",
     "text": [
      "(4.5, 8.5]      0.410759\n",
      "(11.5, 36.0]    0.241454\n",
      "(8.5, 11.5]     0.209793\n",
      "(0.0, 4.5]      0.137994\n",
      "Name: TERM, dtype: float64\n",
      "IV:  0.03210038261604432\n"
     ]
    }
   ],
   "source": [
    "data['TERM'] = functions.split_best_iv(data, 'TERM', 'TARGET')"
   ]
  },
  {
   "cell_type": "code",
   "execution_count": 35,
   "metadata": {},
   "outputs": [
    {
     "name": "stdout",
     "output_type": "stream",
     "text": [
      "Counts:\n",
      "TERM\n",
      "(0.0, 4.5]      1970\n",
      "(4.5, 8.5]      5864\n",
      "(8.5, 11.5]     2995\n",
      "(11.5, 36.0]    3447\n",
      "Name: TARGET, dtype: int64\n",
      "Frequencies:\n",
      "(4.5, 8.5]      0.410759\n",
      "(11.5, 36.0]    0.241454\n",
      "(8.5, 11.5]     0.209793\n",
      "(0.0, 4.5]      0.137994\n",
      "Name: TERM, dtype: float64\n"
     ]
    },
    {
     "data": {
      "image/png": "[encoded data removed]",
      "text/plain": [
       "<Figure size 576x432 with 2 Axes>"
      ]
     },
     "metadata": {
      "needs_background": "light"
     },
     "output_type": "display_data"
    },
    {
     "name": "stdout",
     "output_type": "stream",
     "text": [
      "IV:  0.03210038261604432\n"
     ]
    },
    {
     "data": {
      "text/html": [
       "<div>\n",
       "<style scoped>\n",
       "    .dataframe tbody tr th:only-of-type {\n",
       "        vertical-align: middle;\n",
       "    }\n",
       "\n",
       "    .dataframe tbody tr th {\n",
       "        vertical-align: top;\n",
       "    }\n",
       "\n",
       "    .dataframe thead th {\n",
       "        text-align: right;\n",
       "    }\n",
       "</style>\n",
       "<table border=\"1\" class=\"dataframe\">\n",
       "  <thead>\n",
       "    <tr style=\"text-align: right;\">\n",
       "      <th></th>\n",
       "      <th>% responders</th>\n",
       "      <th>% non-responders</th>\n",
       "      <th>WOE</th>\n",
       "      <th>DG-DB</th>\n",
       "      <th>IV</th>\n",
       "    </tr>\n",
       "  </thead>\n",
       "  <tbody>\n",
       "    <tr>\n",
       "      <th>(4.5, 8.5]</th>\n",
       "      <td>0.368023</td>\n",
       "      <td>0.416614</td>\n",
       "      <td>-0.124013</td>\n",
       "      <td>-0.048590</td>\n",
       "      <td>0.006026</td>\n",
       "    </tr>\n",
       "    <tr>\n",
       "      <th>(11.5, 36.0]</th>\n",
       "      <td>0.301744</td>\n",
       "      <td>0.233195</td>\n",
       "      <td>0.257703</td>\n",
       "      <td>0.068549</td>\n",
       "      <td>0.017665</td>\n",
       "    </tr>\n",
       "    <tr>\n",
       "      <th>(8.5, 11.5]</th>\n",
       "      <td>0.219767</td>\n",
       "      <td>0.208426</td>\n",
       "      <td>0.052985</td>\n",
       "      <td>0.011341</td>\n",
       "      <td>0.000601</td>\n",
       "    </tr>\n",
       "    <tr>\n",
       "      <th>(0.0, 4.5]</th>\n",
       "      <td>0.110465</td>\n",
       "      <td>0.141765</td>\n",
       "      <td>-0.249470</td>\n",
       "      <td>-0.031300</td>\n",
       "      <td>0.007808</td>\n",
       "    </tr>\n",
       "  </tbody>\n",
       "</table>\n",
       "</div>"
      ],
      "text/plain": [
       "              % responders  % non-responders       WOE     DG-DB        IV\n",
       "(4.5, 8.5]        0.368023          0.416614 -0.124013 -0.048590  0.006026\n",
       "(11.5, 36.0]      0.301744          0.233195  0.257703  0.068549  0.017665\n",
       "(8.5, 11.5]       0.219767          0.208426  0.052985  0.011341  0.000601\n",
       "(0.0, 4.5]        0.110465          0.141765 -0.249470 -0.031300  0.007808"
      ]
     },
     "execution_count": 35,
     "metadata": {},
     "output_type": "execute_result"
    }
   ],
   "source": [
    "functions.feature_stat(data, 'TERM', 'TARGET')\n",
    "functions.calc_iv(data, 'TARGET', 'TERM')[0]"
   ]
  },
  {
   "cell_type": "markdown",
   "metadata": {},
   "source": [
    "## FST_PAYMENT"
   ]
  },
  {
   "cell_type": "raw",
   "metadata": {},
   "source": [
    "Montant des frais initiaux en roubles"
   ]
  },
  {
   "cell_type": "code",
   "execution_count": 36,
   "metadata": {},
   "outputs": [
    {
     "data": {
      "text/plain": [
       "<matplotlib.axes._subplots.AxesSubplot at 0x1a2a3c40d0>"
      ]
     },
     "execution_count": 36,
     "metadata": {},
     "output_type": "execute_result"
    },
    {
     "data": {
      "image/png": "[encoded data removed]",
      "text/plain": [
       "<Figure size 432x288 with 1 Axes>"
      ]
     },
     "metadata": {
      "needs_background": "light"
     },
     "output_type": "display_data"
    }
   ],
   "source": [
    "data['FST_PAYMENT'].plot(kind='box')"
   ]
  },
  {
   "cell_type": "code",
   "execution_count": 37,
   "metadata": {},
   "outputs": [
    {
     "name": "stdout",
     "output_type": "stream",
     "text": [
      "(2100.0, 3800.0]     0.195853\n",
      "(200.0, 900.0]       0.145139\n",
      "(3800.0, 6000.0]     0.134071\n",
      "(900.0, 1200.0]      0.118801\n",
      "(1700.0, 2100.0]     0.115158\n",
      "(1200.0, 1700.0]     0.105492\n",
      "(6000.0, 75600.0]    0.099958\n",
      "NaN                  0.082726\n",
      "(0.0, 200.0]         0.002802\n",
      "Name: FST_PAYMENT, dtype: float64\n",
      "IV:  0.02564207402895532\n"
     ]
    }
   ],
   "source": [
    "data['FST_PAYMENT'] = functions.split_best_iv(data, 'FST_PAYMENT', 'TARGET')\n",
    "data['FST_PAYMENT'].fillna(data['FST_PAYMENT'].cat.categories[0], inplace=True)"
   ]
  },
  {
   "cell_type": "code",
   "execution_count": 38,
   "metadata": {},
   "outputs": [
    {
     "name": "stdout",
     "output_type": "stream",
     "text": [
      "Counts:\n",
      "FST_PAYMENT\n",
      "(0.0, 200.0]         1221\n",
      "(200.0, 900.0]       2072\n",
      "(900.0, 1200.0]      1696\n",
      "(1200.0, 1700.0]     1506\n",
      "(1700.0, 2100.0]     1644\n",
      "(2100.0, 3800.0]     2796\n",
      "(3800.0, 6000.0]     1914\n",
      "(6000.0, 75600.0]    1427\n",
      "Name: TARGET, dtype: int64\n",
      "Frequencies:\n",
      "(2100.0, 3800.0]     0.195853\n",
      "(200.0, 900.0]       0.145139\n",
      "(3800.0, 6000.0]     0.134071\n",
      "(900.0, 1200.0]      0.118801\n",
      "(1700.0, 2100.0]     0.115158\n",
      "(1200.0, 1700.0]     0.105492\n",
      "(6000.0, 75600.0]    0.099958\n",
      "(0.0, 200.0]         0.085528\n",
      "Name: FST_PAYMENT, dtype: float64\n"
     ]
    },
    {
     "data": {
      "image/png": "[encoded data removed]",
      "text/plain": [
       "<Figure size 576x432 with 2 Axes>"
      ]
     },
     "metadata": {
      "needs_background": "light"
     },
     "output_type": "display_data"
    },
    {
     "name": "stdout",
     "output_type": "stream",
     "text": [
      "IV:  0.039354549525979804\n"
     ]
    },
    {
     "data": {
      "text/html": [
       "<div>\n",
       "<style scoped>\n",
       "    .dataframe tbody tr th:only-of-type {\n",
       "        vertical-align: middle;\n",
       "    }\n",
       "\n",
       "    .dataframe tbody tr th {\n",
       "        vertical-align: top;\n",
       "    }\n",
       "\n",
       "    .dataframe thead th {\n",
       "        text-align: right;\n",
       "    }\n",
       "</style>\n",
       "<table border=\"1\" class=\"dataframe\">\n",
       "  <thead>\n",
       "    <tr style=\"text-align: right;\">\n",
       "      <th></th>\n",
       "      <th>% responders</th>\n",
       "      <th>% non-responders</th>\n",
       "      <th>WOE</th>\n",
       "      <th>DG-DB</th>\n",
       "      <th>IV</th>\n",
       "    </tr>\n",
       "  </thead>\n",
       "  <tbody>\n",
       "    <tr>\n",
       "      <th>(3800.0, 6000.0]</th>\n",
       "      <td>0.098837</td>\n",
       "      <td>0.138898</td>\n",
       "      <td>-0.340264</td>\n",
       "      <td>-0.040061</td>\n",
       "      <td>0.013631</td>\n",
       "    </tr>\n",
       "    <tr>\n",
       "      <th>(2100.0, 3800.0]</th>\n",
       "      <td>0.208721</td>\n",
       "      <td>0.194090</td>\n",
       "      <td>0.072674</td>\n",
       "      <td>0.014630</td>\n",
       "      <td>0.001063</td>\n",
       "    </tr>\n",
       "    <tr>\n",
       "      <th>(200.0, 900.0]</th>\n",
       "      <td>0.154070</td>\n",
       "      <td>0.143915</td>\n",
       "      <td>0.068181</td>\n",
       "      <td>0.010155</td>\n",
       "      <td>0.000692</td>\n",
       "    </tr>\n",
       "    <tr>\n",
       "      <th>(6000.0, 75600.0]</th>\n",
       "      <td>0.086047</td>\n",
       "      <td>0.101864</td>\n",
       "      <td>-0.168747</td>\n",
       "      <td>-0.015817</td>\n",
       "      <td>0.002669</td>\n",
       "    </tr>\n",
       "    <tr>\n",
       "      <th>(900.0, 1200.0]</th>\n",
       "      <td>0.120930</td>\n",
       "      <td>0.118509</td>\n",
       "      <td>0.020224</td>\n",
       "      <td>0.002421</td>\n",
       "      <td>0.000049</td>\n",
       "    </tr>\n",
       "    <tr>\n",
       "      <th>(1200.0, 1700.0]</th>\n",
       "      <td>0.118023</td>\n",
       "      <td>0.103775</td>\n",
       "      <td>0.128656</td>\n",
       "      <td>0.014248</td>\n",
       "      <td>0.001833</td>\n",
       "    </tr>\n",
       "    <tr>\n",
       "      <th>(1700.0, 2100.0]</th>\n",
       "      <td>0.094767</td>\n",
       "      <td>0.117952</td>\n",
       "      <td>-0.218848</td>\n",
       "      <td>-0.023184</td>\n",
       "      <td>0.005074</td>\n",
       "    </tr>\n",
       "    <tr>\n",
       "      <th>(0.0, 200.0]</th>\n",
       "      <td>0.118605</td>\n",
       "      <td>0.080997</td>\n",
       "      <td>0.381382</td>\n",
       "      <td>0.037608</td>\n",
       "      <td>0.014343</td>\n",
       "    </tr>\n",
       "  </tbody>\n",
       "</table>\n",
       "</div>"
      ],
      "text/plain": [
       "                   % responders  % non-responders       WOE     DG-DB  \\\n",
       "(3800.0, 6000.0]       0.098837          0.138898 -0.340264 -0.040061   \n",
       "(2100.0, 3800.0]       0.208721          0.194090  0.072674  0.014630   \n",
       "(200.0, 900.0]         0.154070          0.143915  0.068181  0.010155   \n",
       "(6000.0, 75600.0]      0.086047          0.101864 -0.168747 -0.015817   \n",
       "(900.0, 1200.0]        0.120930          0.118509  0.020224  0.002421   \n",
       "(1200.0, 1700.0]       0.118023          0.103775  0.128656  0.014248   \n",
       "(1700.0, 2100.0]       0.094767          0.117952 -0.218848 -0.023184   \n",
       "(0.0, 200.0]           0.118605          0.080997  0.381382  0.037608   \n",
       "\n",
       "                         IV  \n",
       "(3800.0, 6000.0]   0.013631  \n",
       "(2100.0, 3800.0]   0.001063  \n",
       "(200.0, 900.0]     0.000692  \n",
       "(6000.0, 75600.0]  0.002669  \n",
       "(900.0, 1200.0]    0.000049  \n",
       "(1200.0, 1700.0]   0.001833  \n",
       "(1700.0, 2100.0]   0.005074  \n",
       "(0.0, 200.0]       0.014343  "
      ]
     },
     "execution_count": 38,
     "metadata": {},
     "output_type": "execute_result"
    }
   ],
   "source": [
    "functions.feature_stat(data, 'FST_PAYMENT', 'TARGET')\n",
    "functions.calc_iv(data, 'TARGET', 'FST_PAYMENT')[0]"
   ]
  },
  {
   "cell_type": "markdown",
   "metadata": {},
   "source": [
    "## FACT_LIVING_TERM"
   ]
  },
  {
   "cell_type": "code",
   "execution_count": 39,
   "metadata": {},
   "outputs": [
    {
     "data": {
      "text/plain": [
       "<matplotlib.axes._subplots.AxesSubplot at 0x1a18e00b90>"
      ]
     },
     "execution_count": 39,
     "metadata": {},
     "output_type": "execute_result"
    },
    {
     "data": {
      "image/png": "[encoded data removed]",
      "text/plain": [
       "<Figure size 432x288 with 1 Axes>"
      ]
     },
     "metadata": {
      "needs_background": "light"
     },
     "output_type": "display_data"
    }
   ],
   "source": [
    "data['FACT_LIVING_TERM'].plot(kind='box')"
   ]
  },
  {
   "cell_type": "code",
   "execution_count": 40,
   "metadata": {},
   "outputs": [
    {
     "name": "stdout",
     "output_type": "stream",
     "text": [
      "(38.5, 85.5]       0.188218\n",
      "(238.5, 1000.0]    0.187237\n",
      "(85.5, 131.5]      0.157677\n",
      "(0.0, 18.5]        0.122373\n",
      "(18.5, 38.5]       0.122233\n",
      "(171.5, 238.5]     0.119081\n",
      "(131.5, 171.5]     0.101919\n",
      "NaN                0.001261\n",
      "Name: FACT_LIVING_TERM, dtype: float64\n",
      "IV:  0.05084877695243425\n"
     ]
    }
   ],
   "source": [
    "data['FACT_LIVING_TERM'] = functions.split_best_iv(data, 'FACT_LIVING_TERM', 'TARGET')\n",
    "data['FACT_LIVING_TERM'].fillna(data['FACT_LIVING_TERM'].cat.categories[0], inplace=True)"
   ]
  },
  {
   "cell_type": "code",
   "execution_count": 41,
   "metadata": {},
   "outputs": [
    {
     "name": "stdout",
     "output_type": "stream",
     "text": [
      "Counts:\n",
      "FACT_LIVING_TERM\n",
      "(0.0, 18.5]        1765\n",
      "(18.5, 38.5]       1745\n",
      "(38.5, 85.5]       2687\n",
      "(85.5, 131.5]      2251\n",
      "(131.5, 171.5]     1455\n",
      "(171.5, 238.5]     1700\n",
      "(238.5, 1000.0]    2673\n",
      "Name: TARGET, dtype: int64\n",
      "Frequencies:\n",
      "(38.5, 85.5]       0.188218\n",
      "(238.5, 1000.0]    0.187237\n",
      "(85.5, 131.5]      0.157677\n",
      "(0.0, 18.5]        0.123634\n",
      "(18.5, 38.5]       0.122233\n",
      "(171.5, 238.5]     0.119081\n",
      "(131.5, 171.5]     0.101919\n",
      "Name: FACT_LIVING_TERM, dtype: float64\n"
     ]
    },
    {
     "data": {
      "image/png": "[encoded data removed]",
      "text/plain": [
       "<Figure size 576x432 with 2 Axes>"
      ]
     },
     "metadata": {
      "needs_background": "light"
     },
     "output_type": "display_data"
    },
    {
     "name": "stdout",
     "output_type": "stream",
     "text": [
      "IV:  0.05037352458565327\n"
     ]
    },
    {
     "data": {
      "text/html": [
       "<div>\n",
       "<style scoped>\n",
       "    .dataframe tbody tr th:only-of-type {\n",
       "        vertical-align: middle;\n",
       "    }\n",
       "\n",
       "    .dataframe tbody tr th {\n",
       "        vertical-align: top;\n",
       "    }\n",
       "\n",
       "    .dataframe thead th {\n",
       "        text-align: right;\n",
       "    }\n",
       "</style>\n",
       "<table border=\"1\" class=\"dataframe\">\n",
       "  <thead>\n",
       "    <tr style=\"text-align: right;\">\n",
       "      <th></th>\n",
       "      <th>% responders</th>\n",
       "      <th>% non-responders</th>\n",
       "      <th>WOE</th>\n",
       "      <th>DG-DB</th>\n",
       "      <th>IV</th>\n",
       "    </tr>\n",
       "  </thead>\n",
       "  <tbody>\n",
       "    <tr>\n",
       "      <th>(131.5, 171.5]</th>\n",
       "      <td>0.101744</td>\n",
       "      <td>0.101943</td>\n",
       "      <td>-0.001955</td>\n",
       "      <td>-0.000199</td>\n",
       "      <td>3.892631e-07</td>\n",
       "    </tr>\n",
       "    <tr>\n",
       "      <th>(238.5, 1000.0]</th>\n",
       "      <td>0.127326</td>\n",
       "      <td>0.195444</td>\n",
       "      <td>-0.428529</td>\n",
       "      <td>-0.068119</td>\n",
       "      <td>2.919086e-02</td>\n",
       "    </tr>\n",
       "    <tr>\n",
       "      <th>(18.5, 38.5]</th>\n",
       "      <td>0.145349</td>\n",
       "      <td>0.119067</td>\n",
       "      <td>0.199454</td>\n",
       "      <td>0.026282</td>\n",
       "      <td>5.242095e-03</td>\n",
       "    </tr>\n",
       "    <tr>\n",
       "      <th>(38.5, 85.5]</th>\n",
       "      <td>0.215116</td>\n",
       "      <td>0.184533</td>\n",
       "      <td>0.153349</td>\n",
       "      <td>0.030583</td>\n",
       "      <td>4.689865e-03</td>\n",
       "    </tr>\n",
       "    <tr>\n",
       "      <th>(85.5, 131.5]</th>\n",
       "      <td>0.145349</td>\n",
       "      <td>0.159366</td>\n",
       "      <td>-0.092067</td>\n",
       "      <td>-0.014017</td>\n",
       "      <td>1.290523e-03</td>\n",
       "    </tr>\n",
       "    <tr>\n",
       "      <th>(171.5, 238.5]</th>\n",
       "      <td>0.110465</td>\n",
       "      <td>0.120261</td>\n",
       "      <td>-0.084967</td>\n",
       "      <td>-0.009796</td>\n",
       "      <td>8.323416e-04</td>\n",
       "    </tr>\n",
       "    <tr>\n",
       "      <th>(0.0, 18.5]</th>\n",
       "      <td>0.154651</td>\n",
       "      <td>0.119385</td>\n",
       "      <td>0.258817</td>\n",
       "      <td>0.035266</td>\n",
       "      <td>9.127448e-03</td>\n",
       "    </tr>\n",
       "  </tbody>\n",
       "</table>\n",
       "</div>"
      ],
      "text/plain": [
       "                 % responders  % non-responders       WOE     DG-DB  \\\n",
       "(131.5, 171.5]       0.101744          0.101943 -0.001955 -0.000199   \n",
       "(238.5, 1000.0]      0.127326          0.195444 -0.428529 -0.068119   \n",
       "(18.5, 38.5]         0.145349          0.119067  0.199454  0.026282   \n",
       "(38.5, 85.5]         0.215116          0.184533  0.153349  0.030583   \n",
       "(85.5, 131.5]        0.145349          0.159366 -0.092067 -0.014017   \n",
       "(171.5, 238.5]       0.110465          0.120261 -0.084967 -0.009796   \n",
       "(0.0, 18.5]          0.154651          0.119385  0.258817  0.035266   \n",
       "\n",
       "                           IV  \n",
       "(131.5, 171.5]   3.892631e-07  \n",
       "(238.5, 1000.0]  2.919086e-02  \n",
       "(18.5, 38.5]     5.242095e-03  \n",
       "(38.5, 85.5]     4.689865e-03  \n",
       "(85.5, 131.5]    1.290523e-03  \n",
       "(171.5, 238.5]   8.323416e-04  \n",
       "(0.0, 18.5]      9.127448e-03  "
      ]
     },
     "execution_count": 41,
     "metadata": {},
     "output_type": "execute_result"
    }
   ],
   "source": [
    "functions.feature_stat(data, 'FACT_LIVING_TERM', 'TARGET')\n",
    "functions.calc_iv(data, 'TARGET', 'FACT_LIVING_TERM')[0]"
   ]
  },
  {
   "cell_type": "markdown",
   "metadata": {},
   "source": [
    "## LOAN_NUM_PAYM"
   ]
  },
  {
   "cell_type": "raw",
   "metadata": {},
   "source": [
    "Nombre de paiements par client"
   ]
  },
  {
   "cell_type": "code",
   "execution_count": 42,
   "metadata": {},
   "outputs": [
    {
     "data": {
      "text/plain": [
       "<matplotlib.axes._subplots.AxesSubplot at 0x1a19337b50>"
      ]
     },
     "execution_count": 42,
     "metadata": {},
     "output_type": "execute_result"
    },
    {
     "data": {
      "image/png": "[encoded data removed]",
      "text/plain": [
       "<Figure size 432x288 with 1 Axes>"
      ]
     },
     "metadata": {
      "needs_background": "light"
     },
     "output_type": "display_data"
    }
   ],
   "source": [
    "data['LOAN_NUM_PAYM'].plot(kind='box')"
   ]
  },
  {
   "cell_type": "code",
   "execution_count": 43,
   "metadata": {},
   "outputs": [
    {
     "name": "stdout",
     "output_type": "stream",
     "text": [
      "(3.5, 4.5]       0.264290\n",
      "(11.5, 110.0]    0.191580\n",
      "(4.5, 5.5]       0.154245\n",
      "(0.0, 3.5]       0.150252\n",
      "(5.5, 6.5]       0.134351\n",
      "(6.5, 11.5]      0.105282\n",
      "Name: LOAN_NUM_PAYM, dtype: float64\n",
      "IV:  0.029504153019292934\n"
     ]
    }
   ],
   "source": [
    "data['LOAN_NUM_PAYM'] = functions.split_best_iv(data, 'LOAN_NUM_PAYM', 'TARGET')"
   ]
  },
  {
   "cell_type": "code",
   "execution_count": 44,
   "metadata": {},
   "outputs": [
    {
     "name": "stdout",
     "output_type": "stream",
     "text": [
      "Counts:\n",
      "LOAN_NUM_PAYM\n",
      "(0.0, 3.5]       2145\n",
      "(3.5, 4.5]       3773\n",
      "(4.5, 5.5]       2202\n",
      "(5.5, 6.5]       1918\n",
      "(6.5, 11.5]      1503\n",
      "(11.5, 110.0]    2735\n",
      "Name: TARGET, dtype: int64\n",
      "Frequencies:\n",
      "(3.5, 4.5]       0.264290\n",
      "(11.5, 110.0]    0.191580\n",
      "(4.5, 5.5]       0.154245\n",
      "(0.0, 3.5]       0.150252\n",
      "(5.5, 6.5]       0.134351\n",
      "(6.5, 11.5]      0.105282\n",
      "Name: LOAN_NUM_PAYM, dtype: float64\n"
     ]
    },
    {
     "data": {
      "image/png": "[encoded data removed]",
      "text/plain": [
       "<Figure size 576x432 with 2 Axes>"
      ]
     },
     "metadata": {
      "needs_background": "light"
     },
     "output_type": "display_data"
    },
    {
     "name": "stdout",
     "output_type": "stream",
     "text": [
      "IV:  0.029504153019292934\n"
     ]
    },
    {
     "data": {
      "text/html": [
       "<div>\n",
       "<style scoped>\n",
       "    .dataframe tbody tr th:only-of-type {\n",
       "        vertical-align: middle;\n",
       "    }\n",
       "\n",
       "    .dataframe tbody tr th {\n",
       "        vertical-align: top;\n",
       "    }\n",
       "\n",
       "    .dataframe thead th {\n",
       "        text-align: right;\n",
       "    }\n",
       "</style>\n",
       "<table border=\"1\" class=\"dataframe\">\n",
       "  <thead>\n",
       "    <tr style=\"text-align: right;\">\n",
       "      <th></th>\n",
       "      <th>% responders</th>\n",
       "      <th>% non-responders</th>\n",
       "      <th>WOE</th>\n",
       "      <th>DG-DB</th>\n",
       "      <th>IV</th>\n",
       "    </tr>\n",
       "  </thead>\n",
       "  <tbody>\n",
       "    <tr>\n",
       "      <th>(5.5, 6.5]</th>\n",
       "      <td>0.132558</td>\n",
       "      <td>0.134597</td>\n",
       "      <td>-0.015264</td>\n",
       "      <td>-0.002039</td>\n",
       "      <td>0.000031</td>\n",
       "    </tr>\n",
       "    <tr>\n",
       "      <th>(6.5, 11.5]</th>\n",
       "      <td>0.115116</td>\n",
       "      <td>0.103934</td>\n",
       "      <td>0.102183</td>\n",
       "      <td>0.011182</td>\n",
       "      <td>0.001143</td>\n",
       "    </tr>\n",
       "    <tr>\n",
       "      <th>(11.5, 110.0]</th>\n",
       "      <td>0.145349</td>\n",
       "      <td>0.197913</td>\n",
       "      <td>-0.308693</td>\n",
       "      <td>-0.052565</td>\n",
       "      <td>0.016226</td>\n",
       "    </tr>\n",
       "    <tr>\n",
       "      <th>(0.0, 3.5]</th>\n",
       "      <td>0.133140</td>\n",
       "      <td>0.152596</td>\n",
       "      <td>-0.136399</td>\n",
       "      <td>-0.019457</td>\n",
       "      <td>0.002654</td>\n",
       "    </tr>\n",
       "    <tr>\n",
       "      <th>(3.5, 4.5]</th>\n",
       "      <td>0.305814</td>\n",
       "      <td>0.258601</td>\n",
       "      <td>0.167689</td>\n",
       "      <td>0.047212</td>\n",
       "      <td>0.007917</td>\n",
       "    </tr>\n",
       "    <tr>\n",
       "      <th>(4.5, 5.5]</th>\n",
       "      <td>0.168023</td>\n",
       "      <td>0.152357</td>\n",
       "      <td>0.097873</td>\n",
       "      <td>0.015666</td>\n",
       "      <td>0.001533</td>\n",
       "    </tr>\n",
       "  </tbody>\n",
       "</table>\n",
       "</div>"
      ],
      "text/plain": [
       "               % responders  % non-responders       WOE     DG-DB        IV\n",
       "(5.5, 6.5]         0.132558          0.134597 -0.015264 -0.002039  0.000031\n",
       "(6.5, 11.5]        0.115116          0.103934  0.102183  0.011182  0.001143\n",
       "(11.5, 110.0]      0.145349          0.197913 -0.308693 -0.052565  0.016226\n",
       "(0.0, 3.5]         0.133140          0.152596 -0.136399 -0.019457  0.002654\n",
       "(3.5, 4.5]         0.305814          0.258601  0.167689  0.047212  0.007917\n",
       "(4.5, 5.5]         0.168023          0.152357  0.097873  0.015666  0.001533"
      ]
     },
     "execution_count": 44,
     "metadata": {},
     "output_type": "execute_result"
    }
   ],
   "source": [
    "functions.feature_stat(data, 'LOAN_NUM_PAYM', 'TARGET')\n",
    "functions.calc_iv(data, 'TARGET', 'LOAN_NUM_PAYM')[0]"
   ]
  },
  {
   "cell_type": "markdown",
   "metadata": {},
   "source": [
    "## LOAN_AVG_DLQ_AMT"
   ]
  },
  {
   "cell_type": "raw",
   "metadata": {},
   "source": [
    "Montant moyen de la défaillance"
   ]
  },
  {
   "cell_type": "code",
   "execution_count": 45,
   "metadata": {},
   "outputs": [
    {
     "data": {
      "text/plain": [
       "<matplotlib.axes._subplots.AxesSubplot at 0x1a19365490>"
      ]
     },
     "execution_count": 45,
     "metadata": {},
     "output_type": "execute_result"
    },
    {
     "data": {
      "image/png": "[encoded data removed]",
      "text/plain": [
       "<Figure size 432x288 with 1 Axes>"
      ]
     },
     "metadata": {
      "needs_background": "light"
     },
     "output_type": "display_data"
    }
   ],
   "source": [
    "data['LOAN_AVG_DLQ_AMT'].plot(kind='box')"
   ]
  },
  {
   "cell_type": "code",
   "execution_count": 46,
   "metadata": {},
   "outputs": [
    {
     "name": "stdout",
     "output_type": "stream",
     "text": [
      "NaN                 0.871603\n",
      "(500.0, 15000.0]    0.123074\n",
      "(0.0, 500.0]        0.005324\n",
      "Name: LOAN_AVG_DLQ_AMT, dtype: float64\n",
      "IV:  0.04379674918020014\n"
     ]
    }
   ],
   "source": [
    "data['LOAN_AVG_DLQ_AMT'] = functions.split_best_iv(data, 'LOAN_AVG_DLQ_AMT', 'TARGET')\n",
    "data['LOAN_AVG_DLQ_AMT'].fillna(data['LOAN_AVG_DLQ_AMT'].cat.categories[0], inplace=True)"
   ]
  },
  {
   "cell_type": "code",
   "execution_count": 47,
   "metadata": {},
   "outputs": [
    {
     "name": "stdout",
     "output_type": "stream",
     "text": [
      "Counts:\n",
      "LOAN_AVG_DLQ_AMT\n",
      "(0.0, 500.0]        12519\n",
      "(500.0, 15000.0]     1757\n",
      "Name: TARGET, dtype: int64\n",
      "Frequencies:\n",
      "(0.0, 500.0]        0.876926\n",
      "(500.0, 15000.0]    0.123074\n",
      "Name: LOAN_AVG_DLQ_AMT, dtype: float64\n"
     ]
    },
    {
     "data": {
      "image/png": "[encoded data removed]",
      "text/plain": [
       "<Figure size 576x432 with 2 Axes>"
      ]
     },
     "metadata": {
      "needs_background": "light"
     },
     "output_type": "display_data"
    },
    {
     "name": "stdout",
     "output_type": "stream",
     "text": [
      "IV:  0.051270200650817575\n"
     ]
    },
    {
     "data": {
      "text/html": [
       "<div>\n",
       "<style scoped>\n",
       "    .dataframe tbody tr th:only-of-type {\n",
       "        vertical-align: middle;\n",
       "    }\n",
       "\n",
       "    .dataframe tbody tr th {\n",
       "        vertical-align: top;\n",
       "    }\n",
       "\n",
       "    .dataframe thead th {\n",
       "        text-align: right;\n",
       "    }\n",
       "</style>\n",
       "<table border=\"1\" class=\"dataframe\">\n",
       "  <thead>\n",
       "    <tr style=\"text-align: right;\">\n",
       "      <th></th>\n",
       "      <th>% responders</th>\n",
       "      <th>% non-responders</th>\n",
       "      <th>WOE</th>\n",
       "      <th>DG-DB</th>\n",
       "      <th>IV</th>\n",
       "    </tr>\n",
       "  </thead>\n",
       "  <tbody>\n",
       "    <tr>\n",
       "      <th>(500.0, 15000.0]</th>\n",
       "      <td>0.194186</td>\n",
       "      <td>0.113332</td>\n",
       "      <td>0.538493</td>\n",
       "      <td>0.080854</td>\n",
       "      <td>0.043539</td>\n",
       "    </tr>\n",
       "    <tr>\n",
       "      <th>(0.0, 500.0]</th>\n",
       "      <td>0.805814</td>\n",
       "      <td>0.886668</td>\n",
       "      <td>-0.095617</td>\n",
       "      <td>-0.080854</td>\n",
       "      <td>0.007731</td>\n",
       "    </tr>\n",
       "  </tbody>\n",
       "</table>\n",
       "</div>"
      ],
      "text/plain": [
       "                  % responders  % non-responders       WOE     DG-DB        IV\n",
       "(500.0, 15000.0]      0.194186          0.113332  0.538493  0.080854  0.043539\n",
       "(0.0, 500.0]          0.805814          0.886668 -0.095617 -0.080854  0.007731"
      ]
     },
     "execution_count": 47,
     "metadata": {},
     "output_type": "execute_result"
    }
   ],
   "source": [
    "functions.feature_stat(data, 'LOAN_AVG_DLQ_AMT', 'TARGET')\n",
    "functions.calc_iv(data, 'TARGET', 'LOAN_AVG_DLQ_AMT')[0]"
   ]
  },
  {
   "cell_type": "markdown",
   "metadata": {},
   "source": [
    "## LOAN_MAX_DLQ_AMT"
   ]
  },
  {
   "cell_type": "code",
   "execution_count": 48,
   "metadata": {},
   "outputs": [
    {
     "data": {
      "text/plain": [
       "<matplotlib.axes._subplots.AxesSubplot at 0x1a193657d0>"
      ]
     },
     "execution_count": 48,
     "metadata": {},
     "output_type": "execute_result"
    },
    {
     "data": {
      "image/png": "[encoded data removed]",
      "text/plain": [
       "<Figure size 432x288 with 1 Axes>"
      ]
     },
     "metadata": {
      "needs_background": "light"
     },
     "output_type": "display_data"
    }
   ],
   "source": [
    "data['LOAN_MAX_DLQ_AMT'].plot(kind='box')"
   ]
  },
  {
   "cell_type": "code",
   "execution_count": 49,
   "metadata": {},
   "outputs": [
    {
     "name": "stdout",
     "output_type": "stream",
     "text": [
      "NaN                 0.871603\n",
      "(500.0, 15000.0]    0.123354\n",
      "(0.0, 500.0]        0.005043\n",
      "Name: LOAN_MAX_DLQ_AMT, dtype: float64\n",
      "IV:  0.0435641041625501\n"
     ]
    }
   ],
   "source": [
    "data['LOAN_MAX_DLQ_AMT'] = functions.split_best_iv(data, 'LOAN_MAX_DLQ_AMT', 'TARGET')\n",
    "data['LOAN_MAX_DLQ_AMT'].fillna(data['LOAN_MAX_DLQ_AMT'].cat.categories[0], inplace=True)"
   ]
  },
  {
   "cell_type": "code",
   "execution_count": 50,
   "metadata": {},
   "outputs": [
    {
     "name": "stdout",
     "output_type": "stream",
     "text": [
      "Counts:\n",
      "LOAN_MAX_DLQ_AMT\n",
      "(0.0, 500.0]        12515\n",
      "(500.0, 15000.0]     1761\n",
      "Name: TARGET, dtype: int64\n",
      "Frequencies:\n",
      "(0.0, 500.0]        0.876646\n",
      "(500.0, 15000.0]    0.123354\n",
      "Name: LOAN_MAX_DLQ_AMT, dtype: float64\n"
     ]
    },
    {
     "data": {
      "image/png": "[encoded data removed]",
      "text/plain": [
       "<Figure size 576x432 with 2 Axes>"
      ]
     },
     "metadata": {
      "needs_background": "light"
     },
     "output_type": "display_data"
    },
    {
     "name": "stdout",
     "output_type": "stream",
     "text": [
      "IV:  0.050813185660810986\n"
     ]
    },
    {
     "data": {
      "text/html": [
       "<div>\n",
       "<style scoped>\n",
       "    .dataframe tbody tr th:only-of-type {\n",
       "        vertical-align: middle;\n",
       "    }\n",
       "\n",
       "    .dataframe tbody tr th {\n",
       "        vertical-align: top;\n",
       "    }\n",
       "\n",
       "    .dataframe thead th {\n",
       "        text-align: right;\n",
       "    }\n",
       "</style>\n",
       "<table border=\"1\" class=\"dataframe\">\n",
       "  <thead>\n",
       "    <tr style=\"text-align: right;\">\n",
       "      <th></th>\n",
       "      <th>% responders</th>\n",
       "      <th>% non-responders</th>\n",
       "      <th>WOE</th>\n",
       "      <th>DG-DB</th>\n",
       "      <th>IV</th>\n",
       "    </tr>\n",
       "  </thead>\n",
       "  <tbody>\n",
       "    <tr>\n",
       "      <th>(500.0, 15000.0]</th>\n",
       "      <td>0.194186</td>\n",
       "      <td>0.113651</td>\n",
       "      <td>0.535686</td>\n",
       "      <td>0.080535</td>\n",
       "      <td>0.043142</td>\n",
       "    </tr>\n",
       "    <tr>\n",
       "      <th>(0.0, 500.0]</th>\n",
       "      <td>0.805814</td>\n",
       "      <td>0.886349</td>\n",
       "      <td>-0.095258</td>\n",
       "      <td>-0.080535</td>\n",
       "      <td>0.007672</td>\n",
       "    </tr>\n",
       "  </tbody>\n",
       "</table>\n",
       "</div>"
      ],
      "text/plain": [
       "                  % responders  % non-responders       WOE     DG-DB        IV\n",
       "(500.0, 15000.0]      0.194186          0.113651  0.535686  0.080535  0.043142\n",
       "(0.0, 500.0]          0.805814          0.886349 -0.095258 -0.080535  0.007672"
      ]
     },
     "execution_count": 50,
     "metadata": {},
     "output_type": "execute_result"
    }
   ],
   "source": [
    "functions.feature_stat(data, 'LOAN_MAX_DLQ_AMT', 'TARGET')\n",
    "functions.calc_iv(data, 'TARGET', 'LOAN_MAX_DLQ_AMT')[0]"
   ]
  },
  {
   "cell_type": "markdown",
   "metadata": {},
   "source": [
    "## Income_to_limit"
   ]
  },
  {
   "cell_type": "code",
   "execution_count": 51,
   "metadata": {},
   "outputs": [
    {
     "data": {
      "text/plain": [
       "<matplotlib.axes._subplots.AxesSubplot at 0x1a1a2c6310>"
      ]
     },
     "execution_count": 51,
     "metadata": {},
     "output_type": "execute_result"
    },
    {
     "data": {
      "image/png": "[encoded data removed]",
      "text/plain": [
       "<Figure size 432x288 with 1 Axes>"
      ]
     },
     "metadata": {
      "needs_background": "light"
     },
     "output_type": "display_data"
    }
   ],
   "source": [
    "data['Income_to_limit'].plot(kind='box')"
   ]
  },
  {
   "cell_type": "code",
   "execution_count": 52,
   "metadata": {},
   "outputs": [
    {
     "name": "stdout",
     "output_type": "stream",
     "text": [
      "(0.515, 0.783]     0.189619\n",
      "(0.783, 1.108]     0.181704\n",
      "(0.0, 0.515]       0.174629\n",
      "(1.428, 1.962]     0.129728\n",
      "(1.108, 1.428]     0.121393\n",
      "(2.556, 16.706]    0.114388\n",
      "(1.962, 2.556]     0.088540\n",
      "Name: Income_to_limit, dtype: float64\n",
      "IV:  0.031780416933268094\n"
     ]
    }
   ],
   "source": [
    "data['Income_to_limit'] = functions.split_best_iv(data, 'Income_to_limit', 'TARGET')"
   ]
  },
  {
   "cell_type": "code",
   "execution_count": 53,
   "metadata": {},
   "outputs": [
    {
     "name": "stdout",
     "output_type": "stream",
     "text": [
      "Counts:\n",
      "Income_to_limit\n",
      "(0.0, 0.515]       2493\n",
      "(0.515, 0.783]     2707\n",
      "(0.783, 1.108]     2594\n",
      "(1.108, 1.428]     1733\n",
      "(1.428, 1.962]     1852\n",
      "(1.962, 2.556]     1264\n",
      "(2.556, 16.706]    1633\n",
      "Name: TARGET, dtype: int64\n",
      "Frequencies:\n",
      "(0.515, 0.783]     0.189619\n",
      "(0.783, 1.108]     0.181704\n",
      "(0.0, 0.515]       0.174629\n",
      "(1.428, 1.962]     0.129728\n",
      "(1.108, 1.428]     0.121393\n",
      "(2.556, 16.706]    0.114388\n",
      "(1.962, 2.556]     0.088540\n",
      "Name: Income_to_limit, dtype: float64\n"
     ]
    },
    {
     "data": {
      "image/png": "[encoded data removed]",
      "text/plain": [
       "<Figure size 576x432 with 2 Axes>"
      ]
     },
     "metadata": {
      "needs_background": "light"
     },
     "output_type": "display_data"
    },
    {
     "name": "stdout",
     "output_type": "stream",
     "text": [
      "IV:  0.031780416933268094\n"
     ]
    },
    {
     "data": {
      "text/html": [
       "<div>\n",
       "<style scoped>\n",
       "    .dataframe tbody tr th:only-of-type {\n",
       "        vertical-align: middle;\n",
       "    }\n",
       "\n",
       "    .dataframe tbody tr th {\n",
       "        vertical-align: top;\n",
       "    }\n",
       "\n",
       "    .dataframe thead th {\n",
       "        text-align: right;\n",
       "    }\n",
       "</style>\n",
       "<table border=\"1\" class=\"dataframe\">\n",
       "  <thead>\n",
       "    <tr style=\"text-align: right;\">\n",
       "      <th></th>\n",
       "      <th>% responders</th>\n",
       "      <th>% non-responders</th>\n",
       "      <th>WOE</th>\n",
       "      <th>DG-DB</th>\n",
       "      <th>IV</th>\n",
       "    </tr>\n",
       "  </thead>\n",
       "  <tbody>\n",
       "    <tr>\n",
       "      <th>(0.515, 0.783]</th>\n",
       "      <td>0.168605</td>\n",
       "      <td>0.192498</td>\n",
       "      <td>-0.132527</td>\n",
       "      <td>-0.023893</td>\n",
       "      <td>0.003166</td>\n",
       "    </tr>\n",
       "    <tr>\n",
       "      <th>(0.0, 0.515]</th>\n",
       "      <td>0.136628</td>\n",
       "      <td>0.179834</td>\n",
       "      <td>-0.274775</td>\n",
       "      <td>-0.043206</td>\n",
       "      <td>0.011872</td>\n",
       "    </tr>\n",
       "    <tr>\n",
       "      <th>(2.556, 16.706]</th>\n",
       "      <td>0.125581</td>\n",
       "      <td>0.112854</td>\n",
       "      <td>0.106856</td>\n",
       "      <td>0.012727</td>\n",
       "      <td>0.001360</td>\n",
       "    </tr>\n",
       "    <tr>\n",
       "      <th>(1.428, 1.962]</th>\n",
       "      <td>0.133140</td>\n",
       "      <td>0.129261</td>\n",
       "      <td>0.029565</td>\n",
       "      <td>0.003879</td>\n",
       "      <td>0.000115</td>\n",
       "    </tr>\n",
       "    <tr>\n",
       "      <th>(1.962, 2.556]</th>\n",
       "      <td>0.118605</td>\n",
       "      <td>0.084422</td>\n",
       "      <td>0.339970</td>\n",
       "      <td>0.034183</td>\n",
       "      <td>0.011621</td>\n",
       "    </tr>\n",
       "    <tr>\n",
       "      <th>(1.108, 1.428]</th>\n",
       "      <td>0.140116</td>\n",
       "      <td>0.118828</td>\n",
       "      <td>0.164799</td>\n",
       "      <td>0.021289</td>\n",
       "      <td>0.003508</td>\n",
       "    </tr>\n",
       "    <tr>\n",
       "      <th>(0.783, 1.108]</th>\n",
       "      <td>0.177326</td>\n",
       "      <td>0.182303</td>\n",
       "      <td>-0.027684</td>\n",
       "      <td>-0.004978</td>\n",
       "      <td>0.000138</td>\n",
       "    </tr>\n",
       "  </tbody>\n",
       "</table>\n",
       "</div>"
      ],
      "text/plain": [
       "                 % responders  % non-responders       WOE     DG-DB        IV\n",
       "(0.515, 0.783]       0.168605          0.192498 -0.132527 -0.023893  0.003166\n",
       "(0.0, 0.515]         0.136628          0.179834 -0.274775 -0.043206  0.011872\n",
       "(2.556, 16.706]      0.125581          0.112854  0.106856  0.012727  0.001360\n",
       "(1.428, 1.962]       0.133140          0.129261  0.029565  0.003879  0.000115\n",
       "(1.962, 2.556]       0.118605          0.084422  0.339970  0.034183  0.011621\n",
       "(1.108, 1.428]       0.140116          0.118828  0.164799  0.021289  0.003508\n",
       "(0.783, 1.108]       0.177326          0.182303 -0.027684 -0.004978  0.000138"
      ]
     },
     "execution_count": 53,
     "metadata": {},
     "output_type": "execute_result"
    }
   ],
   "source": [
    "functions.feature_stat(data, 'Income_to_limit', 'TARGET')\n",
    "functions.calc_iv(data, 'TARGET', 'Income_to_limit')[0]"
   ]
  },
  {
   "cell_type": "markdown",
   "metadata": {},
   "source": [
    "# Categorical"
   ]
  },
  {
   "cell_type": "raw",
   "metadata": {},
   "source": [
    "Désormais, les variables catégorielles sont différentes. Généralement, le principal problème est que certaines catégories ont trop peu de valeurs. Encore une fois, je vais essayer de faire en sorte qu'il n'y ait pas de catégories avec moins de 5%. La plupart du temps, il est nécessaire de combiner des catégories en fonction de l'analyse de rentabilité commune ou commerciale. Je convertis les variables en type catégorielle pour un traitement plus facile. Les valeurs manquantes sont traitées comme une catégorie distincte."
   ]
  },
  {
   "cell_type": "code",
   "execution_count": 54,
   "metadata": {},
   "outputs": [],
   "source": [
    "for col in ['GENDER', 'CHILD_TOTAL', 'DEPENDANTS', 'EDUCATION', 'MARITAL_STATUS', 'GEN_INDUSTRY', 'OWN_AUTO',\n",
    "            'FAMILY_INCOME', 'LOAN_NUM_TOTAL', 'LOAN_NUM_CLOSED', 'LOAN_DLQ_NUM', 'LOAN_MAX_DLQ']:\n",
    "    data[col] = data[col].astype('category')\n",
    "    if (data[col].isnull() == True).any():\n",
    "        data[col].cat.add_categories(['Unknown'], inplace=True)\n",
    "        data[col].fillna('Unknown', inplace=True)"
   ]
  },
  {
   "cell_type": "markdown",
   "metadata": {},
   "source": [
    "### OWN_AUTO"
   ]
  },
  {
   "cell_type": "raw",
   "metadata": {},
   "source": [
    "Nombre de voitures possédées."
   ]
  },
  {
   "cell_type": "code",
   "execution_count": 55,
   "metadata": {},
   "outputs": [
    {
     "data": {
      "text/plain": [
       "0    0.885262\n",
       "1    0.114668\n",
       "2    0.000070\n",
       "Name: OWN_AUTO, dtype: float64"
      ]
     },
     "execution_count": 55,
     "metadata": {},
     "output_type": "execute_result"
    }
   ],
   "source": [
    "data['OWN_AUTO'].value_counts(dropna=False, normalize=True)"
   ]
  },
  {
   "cell_type": "code",
   "execution_count": 56,
   "metadata": {},
   "outputs": [],
   "source": [
    "data.loc[data['OWN_AUTO'] == 2, 'OWN_AUTO'] = 1\n",
    "data['OWN_AUTO'] = data['OWN_AUTO'].cat.remove_unused_categories()"
   ]
  },
  {
   "cell_type": "code",
   "execution_count": 57,
   "metadata": {},
   "outputs": [
    {
     "name": "stdout",
     "output_type": "stream",
     "text": [
      "Counts:\n",
      "OWN_AUTO\n",
      "0    12638\n",
      "1     1638\n",
      "Name: TARGET, dtype: int64\n",
      "Frequencies:\n",
      "0    0.885262\n",
      "1    0.114738\n",
      "Name: OWN_AUTO, dtype: float64\n"
     ]
    },
    {
     "data": {
      "image/png": "[encoded data removed]",
      "text/plain": [
       "<Figure size 576x432 with 2 Axes>"
      ]
     },
     "metadata": {
      "needs_background": "light"
     },
     "output_type": "display_data"
    },
    {
     "name": "stdout",
     "output_type": "stream",
     "text": [
      "IV:  0.003356334710772968\n"
     ]
    },
    {
     "data": {
      "text/html": [
       "<div>\n",
       "<style scoped>\n",
       "    .dataframe tbody tr th:only-of-type {\n",
       "        vertical-align: middle;\n",
       "    }\n",
       "\n",
       "    .dataframe tbody tr th {\n",
       "        vertical-align: top;\n",
       "    }\n",
       "\n",
       "    .dataframe thead th {\n",
       "        text-align: right;\n",
       "    }\n",
       "</style>\n",
       "<table border=\"1\" class=\"dataframe\">\n",
       "  <thead>\n",
       "    <tr style=\"text-align: right;\">\n",
       "      <th></th>\n",
       "      <th>% responders</th>\n",
       "      <th>% non-responders</th>\n",
       "      <th>WOE</th>\n",
       "      <th>DG-DB</th>\n",
       "      <th>IV</th>\n",
       "    </tr>\n",
       "  </thead>\n",
       "  <tbody>\n",
       "    <tr>\n",
       "      <th>0</th>\n",
       "      <td>0.868605</td>\n",
       "      <td>0.887544</td>\n",
       "      <td>-0.021570</td>\n",
       "      <td>-0.018939</td>\n",
       "      <td>0.000409</td>\n",
       "    </tr>\n",
       "    <tr>\n",
       "      <th>1</th>\n",
       "      <td>0.131395</td>\n",
       "      <td>0.112456</td>\n",
       "      <td>0.155647</td>\n",
       "      <td>0.018939</td>\n",
       "      <td>0.002948</td>\n",
       "    </tr>\n",
       "  </tbody>\n",
       "</table>\n",
       "</div>"
      ],
      "text/plain": [
       "   % responders  % non-responders       WOE     DG-DB        IV\n",
       "0      0.868605          0.887544 -0.021570 -0.018939  0.000409\n",
       "1      0.131395          0.112456  0.155647  0.018939  0.002948"
      ]
     },
     "execution_count": 57,
     "metadata": {},
     "output_type": "execute_result"
    }
   ],
   "source": [
    "functions.feature_stat(data, 'OWN_AUTO', 'TARGET')\n",
    "functions.calc_iv(data, 'TARGET', 'OWN_AUTO')[0]"
   ]
  },
  {
   "cell_type": "markdown",
   "metadata": {},
   "source": [
    "### GENDER"
   ]
  },
  {
   "cell_type": "code",
   "execution_count": 58,
   "metadata": {},
   "outputs": [
    {
     "name": "stdout",
     "output_type": "stream",
     "text": [
      "Counts:\n",
      "GENDER\n",
      "0    4936\n",
      "1    9340\n",
      "Name: TARGET, dtype: int64\n",
      "Frequencies:\n",
      "1    0.654245\n",
      "0    0.345755\n",
      "Name: GENDER, dtype: float64\n"
     ]
    },
    {
     "data": {
      "image/png": "[encoded data removed]",
      "text/plain": [
       "<Figure size 576x432 with 2 Axes>"
      ]
     },
     "metadata": {
      "needs_background": "light"
     },
     "output_type": "display_data"
    },
    {
     "name": "stdout",
     "output_type": "stream",
     "text": [
      "IV:  0.008571381188026393\n"
     ]
    },
    {
     "data": {
      "text/html": [
       "<div>\n",
       "<style scoped>\n",
       "    .dataframe tbody tr th:only-of-type {\n",
       "        vertical-align: middle;\n",
       "    }\n",
       "\n",
       "    .dataframe tbody tr th {\n",
       "        vertical-align: top;\n",
       "    }\n",
       "\n",
       "    .dataframe thead th {\n",
       "        text-align: right;\n",
       "    }\n",
       "</style>\n",
       "<table border=\"1\" class=\"dataframe\">\n",
       "  <thead>\n",
       "    <tr style=\"text-align: right;\">\n",
       "      <th></th>\n",
       "      <th>% responders</th>\n",
       "      <th>% non-responders</th>\n",
       "      <th>WOE</th>\n",
       "      <th>DG-DB</th>\n",
       "      <th>IV</th>\n",
       "    </tr>\n",
       "  </thead>\n",
       "  <tbody>\n",
       "    <tr>\n",
       "      <th>1</th>\n",
       "      <td>0.615116</td>\n",
       "      <td>0.659605</td>\n",
       "      <td>-0.069830</td>\n",
       "      <td>-0.044489</td>\n",
       "      <td>0.003107</td>\n",
       "    </tr>\n",
       "    <tr>\n",
       "      <th>0</th>\n",
       "      <td>0.384884</td>\n",
       "      <td>0.340395</td>\n",
       "      <td>0.122834</td>\n",
       "      <td>0.044489</td>\n",
       "      <td>0.005465</td>\n",
       "    </tr>\n",
       "  </tbody>\n",
       "</table>\n",
       "</div>"
      ],
      "text/plain": [
       "   % responders  % non-responders       WOE     DG-DB        IV\n",
       "1      0.615116          0.659605 -0.069830 -0.044489  0.003107\n",
       "0      0.384884          0.340395  0.122834  0.044489  0.005465"
      ]
     },
     "execution_count": 58,
     "metadata": {},
     "output_type": "execute_result"
    }
   ],
   "source": [
    "functions.feature_stat(data, 'GENDER', 'TARGET')\n",
    "functions.calc_iv(data, 'TARGET', 'GENDER')[0]"
   ]
  },
  {
   "cell_type": "markdown",
   "metadata": {},
   "source": [
    "### CHILD_TOTAL"
   ]
  },
  {
   "cell_type": "code",
   "execution_count": 59,
   "metadata": {},
   "outputs": [
    {
     "data": {
      "text/plain": [
       "1     0.333217\n",
       "0     0.327473\n",
       "2     0.272065\n",
       "3     0.053026\n",
       "4     0.008826\n",
       "5     0.003993\n",
       "6     0.000841\n",
       "7     0.000350\n",
       "10    0.000140\n",
       "8     0.000070\n",
       "Name: CHILD_TOTAL, dtype: float64"
      ]
     },
     "execution_count": 59,
     "metadata": {},
     "output_type": "execute_result"
    }
   ],
   "source": [
    "data['CHILD_TOTAL'].value_counts(dropna=False, normalize=True)"
   ]
  },
  {
   "cell_type": "code",
   "execution_count": 60,
   "metadata": {},
   "outputs": [],
   "source": [
    "data['CHILD_TOTAL'].cat.add_categories(['3 or more'], inplace=True)\n",
    "data.loc[data['CHILD_TOTAL'].isin([1.0, 0.0, 2.0]) == False, 'CHILD_TOTAL'] = '3 or more'\n",
    "data['CHILD_TOTAL'] = data['CHILD_TOTAL'].cat.remove_unused_categories()"
   ]
  },
  {
   "cell_type": "code",
   "execution_count": 61,
   "metadata": {},
   "outputs": [
    {
     "name": "stdout",
     "output_type": "stream",
     "text": [
      "Counts:\n",
      "CHILD_TOTAL\n",
      "0            4675\n",
      "1            4757\n",
      "2            3884\n",
      "3 or more     960\n",
      "Name: TARGET, dtype: int64\n",
      "Frequencies:\n",
      "1            0.333217\n",
      "0            0.327473\n",
      "2            0.272065\n",
      "3 or more    0.067246\n",
      "Name: CHILD_TOTAL, dtype: float64\n"
     ]
    },
    {
     "data": {
      "image/png": "[encoded data removed]",
      "text/plain": [
       "<Figure size 576x432 with 2 Axes>"
      ]
     },
     "metadata": {
      "needs_background": "light"
     },
     "output_type": "display_data"
    },
    {
     "name": "stdout",
     "output_type": "stream",
     "text": [
      "IV:  0.004368215038128054\n"
     ]
    },
    {
     "data": {
      "text/html": [
       "<div>\n",
       "<style scoped>\n",
       "    .dataframe tbody tr th:only-of-type {\n",
       "        vertical-align: middle;\n",
       "    }\n",
       "\n",
       "    .dataframe tbody tr th {\n",
       "        vertical-align: top;\n",
       "    }\n",
       "\n",
       "    .dataframe thead th {\n",
       "        text-align: right;\n",
       "    }\n",
       "</style>\n",
       "<table border=\"1\" class=\"dataframe\">\n",
       "  <thead>\n",
       "    <tr style=\"text-align: right;\">\n",
       "      <th></th>\n",
       "      <th>% responders</th>\n",
       "      <th>% non-responders</th>\n",
       "      <th>WOE</th>\n",
       "      <th>DG-DB</th>\n",
       "      <th>IV</th>\n",
       "    </tr>\n",
       "  </thead>\n",
       "  <tbody>\n",
       "    <tr>\n",
       "      <th>3 or more</th>\n",
       "      <td>0.081977</td>\n",
       "      <td>0.065228</td>\n",
       "      <td>0.228550</td>\n",
       "      <td>0.016749</td>\n",
       "      <td>3.827978e-03</td>\n",
       "    </tr>\n",
       "    <tr>\n",
       "      <th>1</th>\n",
       "      <td>0.322674</td>\n",
       "      <td>0.334661</td>\n",
       "      <td>-0.036473</td>\n",
       "      <td>-0.011986</td>\n",
       "      <td>4.371814e-04</td>\n",
       "    </tr>\n",
       "    <tr>\n",
       "      <th>0</th>\n",
       "      <td>0.327907</td>\n",
       "      <td>0.327413</td>\n",
       "      <td>0.001507</td>\n",
       "      <td>0.000494</td>\n",
       "      <td>7.441446e-07</td>\n",
       "    </tr>\n",
       "    <tr>\n",
       "      <th>2</th>\n",
       "      <td>0.267442</td>\n",
       "      <td>0.272698</td>\n",
       "      <td>-0.019464</td>\n",
       "      <td>-0.005256</td>\n",
       "      <td>1.023110e-04</td>\n",
       "    </tr>\n",
       "  </tbody>\n",
       "</table>\n",
       "</div>"
      ],
      "text/plain": [
       "           % responders  % non-responders       WOE     DG-DB            IV\n",
       "3 or more      0.081977          0.065228  0.228550  0.016749  3.827978e-03\n",
       "1              0.322674          0.334661 -0.036473 -0.011986  4.371814e-04\n",
       "0              0.327907          0.327413  0.001507  0.000494  7.441446e-07\n",
       "2              0.267442          0.272698 -0.019464 -0.005256  1.023110e-04"
      ]
     },
     "execution_count": 61,
     "metadata": {},
     "output_type": "execute_result"
    }
   ],
   "source": [
    "functions.feature_stat(data, 'CHILD_TOTAL', 'TARGET')\n",
    "functions.calc_iv(data, 'TARGET', 'CHILD_TOTAL')[0]"
   ]
  },
  {
   "cell_type": "markdown",
   "metadata": {},
   "source": [
    "### DEPENDANTS"
   ]
  },
  {
   "cell_type": "code",
   "execution_count": 62,
   "metadata": {},
   "outputs": [
    {
     "data": {
      "text/plain": [
       "0    0.538386\n",
       "1    0.297772\n",
       "2    0.144088\n",
       "3    0.016251\n",
       "4    0.002802\n",
       "5    0.000350\n",
       "6    0.000280\n",
       "7    0.000070\n",
       "Name: DEPENDANTS, dtype: float64"
      ]
     },
     "execution_count": 62,
     "metadata": {},
     "output_type": "execute_result"
    }
   ],
   "source": [
    "data['DEPENDANTS'].value_counts(dropna=False, normalize=True)"
   ]
  },
  {
   "cell_type": "code",
   "execution_count": 63,
   "metadata": {},
   "outputs": [],
   "source": [
    "data['DEPENDANTS'].cat.add_categories(['2 or more'], inplace=True)\n",
    "data.loc[data['DEPENDANTS'].isin([1.0, 2.0]) == False, 'DEPENDANTS'] = '2 or more'\n",
    "data['DEPENDANTS'] = data['DEPENDANTS'].cat.remove_unused_categories()"
   ]
  },
  {
   "cell_type": "code",
   "execution_count": 64,
   "metadata": {},
   "outputs": [
    {
     "name": "stdout",
     "output_type": "stream",
     "text": [
      "Counts:\n",
      "DEPENDANTS\n",
      "1            4251\n",
      "2            2057\n",
      "2 or more    7968\n",
      "Name: TARGET, dtype: int64\n",
      "Frequencies:\n",
      "2 or more    0.558140\n",
      "1            0.297772\n",
      "2            0.144088\n",
      "Name: DEPENDANTS, dtype: float64\n"
     ]
    },
    {
     "data": {
      "image/png": "[encoded data removed]",
      "text/plain": [
       "<Figure size 576x432 with 2 Axes>"
      ]
     },
     "metadata": {
      "needs_background": "light"
     },
     "output_type": "display_data"
    },
    {
     "name": "stdout",
     "output_type": "stream",
     "text": [
      "IV:  0.00743729564542183\n"
     ]
    },
    {
     "data": {
      "text/html": [
       "<div>\n",
       "<style scoped>\n",
       "    .dataframe tbody tr th:only-of-type {\n",
       "        vertical-align: middle;\n",
       "    }\n",
       "\n",
       "    .dataframe tbody tr th {\n",
       "        vertical-align: top;\n",
       "    }\n",
       "\n",
       "    .dataframe thead th {\n",
       "        text-align: right;\n",
       "    }\n",
       "</style>\n",
       "<table border=\"1\" class=\"dataframe\">\n",
       "  <thead>\n",
       "    <tr style=\"text-align: right;\">\n",
       "      <th></th>\n",
       "      <th>% responders</th>\n",
       "      <th>% non-responders</th>\n",
       "      <th>WOE</th>\n",
       "      <th>DG-DB</th>\n",
       "      <th>IV</th>\n",
       "    </tr>\n",
       "  </thead>\n",
       "  <tbody>\n",
       "    <tr>\n",
       "      <th>2 or more</th>\n",
       "      <td>0.52500</td>\n",
       "      <td>0.562679</td>\n",
       "      <td>-0.069311</td>\n",
       "      <td>-0.037679</td>\n",
       "      <td>0.002612</td>\n",
       "    </tr>\n",
       "    <tr>\n",
       "      <th>1</th>\n",
       "      <td>0.30814</td>\n",
       "      <td>0.296352</td>\n",
       "      <td>0.039004</td>\n",
       "      <td>0.011787</td>\n",
       "      <td>0.000460</td>\n",
       "    </tr>\n",
       "    <tr>\n",
       "      <th>2</th>\n",
       "      <td>0.16686</td>\n",
       "      <td>0.140968</td>\n",
       "      <td>0.168622</td>\n",
       "      <td>0.025892</td>\n",
       "      <td>0.004366</td>\n",
       "    </tr>\n",
       "  </tbody>\n",
       "</table>\n",
       "</div>"
      ],
      "text/plain": [
       "           % responders  % non-responders       WOE     DG-DB        IV\n",
       "2 or more       0.52500          0.562679 -0.069311 -0.037679  0.002612\n",
       "1               0.30814          0.296352  0.039004  0.011787  0.000460\n",
       "2               0.16686          0.140968  0.168622  0.025892  0.004366"
      ]
     },
     "execution_count": 64,
     "metadata": {},
     "output_type": "execute_result"
    }
   ],
   "source": [
    "functions.feature_stat(data, 'DEPENDANTS', 'TARGET')\n",
    "functions.calc_iv(data, 'TARGET', 'DEPENDANTS')[0]"
   ]
  },
  {
   "cell_type": "markdown",
   "metadata": {},
   "source": [
    "### EDUCATION"
   ]
  },
  {
   "cell_type": "code",
   "execution_count": 65,
   "metadata": {},
   "outputs": [
    {
     "data": {
      "text/plain": [
       "Professional School     0.432544\n",
       "Some High School        0.308700\n",
       "Undergraduate Degree    0.200406\n",
       "No Formal Education     0.034744\n",
       "Some Primary School     0.022345\n",
       "Post-Graduate Work      0.001191\n",
       "Graduate Degree         0.000070\n",
       "Name: EDUCATION, dtype: float64"
      ]
     },
     "execution_count": 65,
     "metadata": {},
     "output_type": "execute_result"
    }
   ],
   "source": [
    "data['EDUCATION'].value_counts(dropna=False, normalize=True)"
   ]
  },
  {
   "cell_type": "code",
   "execution_count": 66,
   "metadata": {},
   "outputs": [],
   "source": [
    "data.loc[data['EDUCATION'].isin(['Undergraduate Degree', 'Post-Graduate Work', 'Graduate Degree']),\n",
    "         'EDUCATION'] = 'Undergraduate Degree'\n",
    "data.loc[data['EDUCATION'].isin(['Some High School', 'No Formal Education', 'Some Primary School']),\n",
    "         'EDUCATION'] = 'Some High School'\n",
    "data['EDUCATION'] = data['EDUCATION'].cat.remove_unused_categories()"
   ]
  },
  {
   "cell_type": "code",
   "execution_count": 67,
   "metadata": {},
   "outputs": [
    {
     "name": "stdout",
     "output_type": "stream",
     "text": [
      "Counts:\n",
      "EDUCATION\n",
      "Professional School     6175\n",
      "Some High School        5222\n",
      "Undergraduate Degree    2879\n",
      "Name: TARGET, dtype: int64\n",
      "Frequencies:\n",
      "Professional School     0.432544\n",
      "Some High School        0.365789\n",
      "Undergraduate Degree    0.201667\n",
      "Name: EDUCATION, dtype: float64\n"
     ]
    },
    {
     "data": {
      "image/png": "[encoded data removed]",
      "text/plain": [
       "<Figure size 576x432 with 2 Axes>"
      ]
     },
     "metadata": {
      "needs_background": "light"
     },
     "output_type": "display_data"
    },
    {
     "name": "stdout",
     "output_type": "stream",
     "text": [
      "IV:  0.005860986838814946\n"
     ]
    },
    {
     "data": {
      "text/html": [
       "<div>\n",
       "<style scoped>\n",
       "    .dataframe tbody tr th:only-of-type {\n",
       "        vertical-align: middle;\n",
       "    }\n",
       "\n",
       "    .dataframe tbody tr th {\n",
       "        vertical-align: top;\n",
       "    }\n",
       "\n",
       "    .dataframe thead th {\n",
       "        text-align: right;\n",
       "    }\n",
       "</style>\n",
       "<table border=\"1\" class=\"dataframe\">\n",
       "  <thead>\n",
       "    <tr style=\"text-align: right;\">\n",
       "      <th></th>\n",
       "      <th>% responders</th>\n",
       "      <th>% non-responders</th>\n",
       "      <th>WOE</th>\n",
       "      <th>DG-DB</th>\n",
       "      <th>IV</th>\n",
       "    </tr>\n",
       "  </thead>\n",
       "  <tbody>\n",
       "    <tr>\n",
       "      <th>Some High School</th>\n",
       "      <td>0.382558</td>\n",
       "      <td>0.363492</td>\n",
       "      <td>0.051125</td>\n",
       "      <td>0.019067</td>\n",
       "      <td>0.000975</td>\n",
       "    </tr>\n",
       "    <tr>\n",
       "      <th>Undergraduate Degree</th>\n",
       "      <td>0.175581</td>\n",
       "      <td>0.205241</td>\n",
       "      <td>-0.156080</td>\n",
       "      <td>-0.029659</td>\n",
       "      <td>0.004629</td>\n",
       "    </tr>\n",
       "    <tr>\n",
       "      <th>Professional School</th>\n",
       "      <td>0.441860</td>\n",
       "      <td>0.431268</td>\n",
       "      <td>0.024265</td>\n",
       "      <td>0.010593</td>\n",
       "      <td>0.000257</td>\n",
       "    </tr>\n",
       "  </tbody>\n",
       "</table>\n",
       "</div>"
      ],
      "text/plain": [
       "                      % responders  % non-responders       WOE     DG-DB  \\\n",
       "Some High School          0.382558          0.363492  0.051125  0.019067   \n",
       "Undergraduate Degree      0.175581          0.205241 -0.156080 -0.029659   \n",
       "Professional School       0.441860          0.431268  0.024265  0.010593   \n",
       "\n",
       "                            IV  \n",
       "Some High School      0.000975  \n",
       "Undergraduate Degree  0.004629  \n",
       "Professional School   0.000257  "
      ]
     },
     "execution_count": 67,
     "metadata": {},
     "output_type": "execute_result"
    }
   ],
   "source": [
    "functions.feature_stat(data, 'EDUCATION', 'TARGET')\n",
    "functions.calc_iv(data, 'TARGET', 'EDUCATION')[0]"
   ]
  },
  {
   "cell_type": "markdown",
   "metadata": {},
   "source": [
    "### MARITAL_STATUS"
   ]
  },
  {
   "cell_type": "code",
   "execution_count": 68,
   "metadata": {},
   "outputs": [
    {
     "data": {
      "text/plain": [
       "Married      0.617750\n",
       "Single       0.238652\n",
       "Separated    0.081816\n",
       "Widowed      0.038806\n",
       "Partner      0.022976\n",
       "Name: MARITAL_STATUS, dtype: float64"
      ]
     },
     "execution_count": 68,
     "metadata": {},
     "output_type": "execute_result"
    }
   ],
   "source": [
    "data['MARITAL_STATUS'].value_counts(dropna=False, normalize=True)"
   ]
  },
  {
   "cell_type": "code",
   "execution_count": 69,
   "metadata": {},
   "outputs": [],
   "source": [
    "data.loc[data['MARITAL_STATUS'].isin(['Married', 'Partner']), 'MARITAL_STATUS'] = 'Married'\n",
    "data.loc[data['MARITAL_STATUS'].isin(['Single', 'Separated', 'Widowed']), 'MARITAL_STATUS'] = 'Single'\n",
    "data['MARITAL_STATUS'] = data['MARITAL_STATUS'].cat.remove_unused_categories()"
   ]
  },
  {
   "cell_type": "code",
   "execution_count": 70,
   "metadata": {},
   "outputs": [
    {
     "name": "stdout",
     "output_type": "stream",
     "text": [
      "Counts:\n",
      "MARITAL_STATUS\n",
      "Married    9147\n",
      "Single     5129\n",
      "Name: TARGET, dtype: int64\n",
      "Frequencies:\n",
      "Married    0.640726\n",
      "Single     0.359274\n",
      "Name: MARITAL_STATUS, dtype: float64\n"
     ]
    },
    {
     "data": {
      "image/png": "[encoded data removed]",
      "text/plain": [
       "<Figure size 576x432 with 2 Axes>"
      ]
     },
     "metadata": {
      "needs_background": "light"
     },
     "output_type": "display_data"
    },
    {
     "name": "stdout",
     "output_type": "stream",
     "text": [
      "IV:  0.003803339088711162\n"
     ]
    },
    {
     "data": {
      "text/html": [
       "<div>\n",
       "<style scoped>\n",
       "    .dataframe tbody tr th:only-of-type {\n",
       "        vertical-align: middle;\n",
       "    }\n",
       "\n",
       "    .dataframe tbody tr th {\n",
       "        vertical-align: top;\n",
       "    }\n",
       "\n",
       "    .dataframe thead th {\n",
       "        text-align: right;\n",
       "    }\n",
       "</style>\n",
       "<table border=\"1\" class=\"dataframe\">\n",
       "  <thead>\n",
       "    <tr style=\"text-align: right;\">\n",
       "      <th></th>\n",
       "      <th>% responders</th>\n",
       "      <th>% non-responders</th>\n",
       "      <th>WOE</th>\n",
       "      <th>DG-DB</th>\n",
       "      <th>IV</th>\n",
       "    </tr>\n",
       "  </thead>\n",
       "  <tbody>\n",
       "    <tr>\n",
       "      <th>Married</th>\n",
       "      <td>0.614535</td>\n",
       "      <td>0.644313</td>\n",
       "      <td>-0.047320</td>\n",
       "      <td>-0.029779</td>\n",
       "      <td>0.001409</td>\n",
       "    </tr>\n",
       "    <tr>\n",
       "      <th>Single</th>\n",
       "      <td>0.385465</td>\n",
       "      <td>0.355687</td>\n",
       "      <td>0.080401</td>\n",
       "      <td>0.029779</td>\n",
       "      <td>0.002394</td>\n",
       "    </tr>\n",
       "  </tbody>\n",
       "</table>\n",
       "</div>"
      ],
      "text/plain": [
       "         % responders  % non-responders       WOE     DG-DB        IV\n",
       "Married      0.614535          0.644313 -0.047320 -0.029779  0.001409\n",
       "Single       0.385465          0.355687  0.080401  0.029779  0.002394"
      ]
     },
     "execution_count": 70,
     "metadata": {},
     "output_type": "execute_result"
    }
   ],
   "source": [
    "functions.feature_stat(data, 'MARITAL_STATUS', 'TARGET')\n",
    "functions.calc_iv(data, 'TARGET', 'MARITAL_STATUS')[0]"
   ]
  },
  {
   "cell_type": "markdown",
   "metadata": {},
   "source": [
    "### GEN_INDUSTRY"
   ]
  },
  {
   "cell_type": "code",
   "execution_count": 71,
   "metadata": {},
   "outputs": [
    {
     "data": {
      "text/plain": [
       "Market, real estate               0.157957\n",
       "Others fields                     0.113477\n",
       "Iron & Steel                      0.089451\n",
       "Unknown                           0.086579\n",
       "Public  & municipal administ.     0.084477\n",
       "Healthcare                        0.077683\n",
       "Schools                           0.064164\n",
       "Transportation                    0.051695\n",
       "Agriculture                       0.046372\n",
       "Construction - Raw Materials      0.037896\n",
       "Municipal economy/Road service    0.035724\n",
       "Restaurant & Catering             0.027249\n",
       "Scientific & Technical Instr.     0.026898\n",
       "Oil & Gas Operations              0.014780\n",
       "Assembly production               0.011418\n",
       "Regional Banks                    0.010857\n",
       "Recreational Activities           0.009526\n",
       "Detective                         0.009316\n",
       "Oil Well Services & Equipment     0.009316\n",
       "Information service               0.006795\n",
       "Beauty shop                       0.006514\n",
       "Software & Programming            0.005534\n",
       "Chemistry/Perfumery/Pharmaceut    0.004273\n",
       "Mass media                        0.003362\n",
       "Personal Services                 0.002732\n",
       "Insurance (Accident & Health)     0.001821\n",
       "Hotels & Motels                   0.001121\n",
       "Real Estate Operations            0.000771\n",
       "Business Services                 0.000771\n",
       "Trucking                          0.000700\n",
       "Staff recruitment                 0.000560\n",
       "Marketing                         0.000210\n",
       "Name: GEN_INDUSTRY, dtype: float64"
      ]
     },
     "execution_count": 71,
     "metadata": {},
     "output_type": "execute_result"
    }
   ],
   "source": [
    "data['GEN_INDUSTRY'].value_counts(dropna=False, normalize=True)"
   ]
  },
  {
   "cell_type": "code",
   "execution_count": 72,
   "metadata": {},
   "outputs": [],
   "source": [
    "data['GEN_INDUSTRY'].cat.add_categories(['others'], inplace=True)\n",
    "data.loc[data['GEN_INDUSTRY'].isin(['Market, real estate', 'Others fields', 'Iron & Steel', 'Unknown', 'Transportation',\n",
    "                                   'Public  & municipal administ.', 'Healthcare', 'Schools']) == False,\n",
    "         'GEN_INDUSTRY'] = 'others'\n",
    "data['GEN_INDUSTRY'] = data['GEN_INDUSTRY'].cat.remove_unused_categories()"
   ]
  },
  {
   "cell_type": "code",
   "execution_count": 73,
   "metadata": {},
   "outputs": [
    {
     "name": "stdout",
     "output_type": "stream",
     "text": [
      "Counts:\n",
      "GEN_INDUSTRY\n",
      "Healthcare                       1109\n",
      "Iron & Steel                     1277\n",
      "Market, real estate              2255\n",
      "Others fields                    1620\n",
      "Public  & municipal administ.    1206\n",
      "Schools                           916\n",
      "Transportation                    738\n",
      "Unknown                          1236\n",
      "others                           3919\n",
      "Name: TARGET, dtype: int64\n",
      "Frequencies:\n",
      "others                           0.274517\n",
      "Market, real estate              0.157957\n",
      "Others fields                    0.113477\n",
      "Iron & Steel                     0.089451\n",
      "Unknown                          0.086579\n",
      "Public  & municipal administ.    0.084477\n",
      "Healthcare                       0.077683\n",
      "Schools                          0.064164\n",
      "Transportation                   0.051695\n",
      "Name: GEN_INDUSTRY, dtype: float64\n"
     ]
    },
    {
     "data": {
      "image/png": "[encoded data removed]",
      "text/plain": [
       "<Figure size 576x432 with 2 Axes>"
      ]
     },
     "metadata": {
      "needs_background": "light"
     },
     "output_type": "display_data"
    },
    {
     "name": "stdout",
     "output_type": "stream",
     "text": [
      "IV:  0.11337843061344759\n"
     ]
    },
    {
     "data": {
      "text/html": [
       "<div>\n",
       "<style scoped>\n",
       "    .dataframe tbody tr th:only-of-type {\n",
       "        vertical-align: middle;\n",
       "    }\n",
       "\n",
       "    .dataframe tbody tr th {\n",
       "        vertical-align: top;\n",
       "    }\n",
       "\n",
       "    .dataframe thead th {\n",
       "        text-align: right;\n",
       "    }\n",
       "</style>\n",
       "<table border=\"1\" class=\"dataframe\">\n",
       "  <thead>\n",
       "    <tr style=\"text-align: right;\">\n",
       "      <th></th>\n",
       "      <th>% responders</th>\n",
       "      <th>% non-responders</th>\n",
       "      <th>WOE</th>\n",
       "      <th>DG-DB</th>\n",
       "      <th>IV</th>\n",
       "    </tr>\n",
       "  </thead>\n",
       "  <tbody>\n",
       "    <tr>\n",
       "      <th>Market, real estate</th>\n",
       "      <td>0.211047</td>\n",
       "      <td>0.150685</td>\n",
       "      <td>0.336887</td>\n",
       "      <td>0.060362</td>\n",
       "      <td>0.020335</td>\n",
       "    </tr>\n",
       "    <tr>\n",
       "      <th>others</th>\n",
       "      <td>0.277907</td>\n",
       "      <td>0.274052</td>\n",
       "      <td>0.013968</td>\n",
       "      <td>0.003855</td>\n",
       "      <td>0.000054</td>\n",
       "    </tr>\n",
       "    <tr>\n",
       "      <th>Schools</th>\n",
       "      <td>0.058721</td>\n",
       "      <td>0.064909</td>\n",
       "      <td>-0.100193</td>\n",
       "      <td>-0.006188</td>\n",
       "      <td>0.000620</td>\n",
       "    </tr>\n",
       "    <tr>\n",
       "      <th>Public  &amp; municipal administ.</th>\n",
       "      <td>0.079651</td>\n",
       "      <td>0.085139</td>\n",
       "      <td>-0.066624</td>\n",
       "      <td>-0.005487</td>\n",
       "      <td>0.000366</td>\n",
       "    </tr>\n",
       "    <tr>\n",
       "      <th>Others fields</th>\n",
       "      <td>0.126163</td>\n",
       "      <td>0.111739</td>\n",
       "      <td>0.121404</td>\n",
       "      <td>0.014423</td>\n",
       "      <td>0.001751</td>\n",
       "    </tr>\n",
       "    <tr>\n",
       "      <th>Iron &amp; Steel</th>\n",
       "      <td>0.081977</td>\n",
       "      <td>0.090475</td>\n",
       "      <td>-0.098634</td>\n",
       "      <td>-0.008498</td>\n",
       "      <td>0.000838</td>\n",
       "    </tr>\n",
       "    <tr>\n",
       "      <th>Unknown</th>\n",
       "      <td>0.027907</td>\n",
       "      <td>0.094616</td>\n",
       "      <td>-1.220951</td>\n",
       "      <td>-0.066709</td>\n",
       "      <td>0.081449</td>\n",
       "    </tr>\n",
       "    <tr>\n",
       "      <th>Transportation</th>\n",
       "      <td>0.068605</td>\n",
       "      <td>0.049379</td>\n",
       "      <td>0.328839</td>\n",
       "      <td>0.019226</td>\n",
       "      <td>0.006322</td>\n",
       "    </tr>\n",
       "    <tr>\n",
       "      <th>Healthcare</th>\n",
       "      <td>0.068023</td>\n",
       "      <td>0.079006</td>\n",
       "      <td>-0.149675</td>\n",
       "      <td>-0.010983</td>\n",
       "      <td>0.001644</td>\n",
       "    </tr>\n",
       "  </tbody>\n",
       "</table>\n",
       "</div>"
      ],
      "text/plain": [
       "                               % responders  % non-responders       WOE  \\\n",
       "Market, real estate                0.211047          0.150685  0.336887   \n",
       "others                             0.277907          0.274052  0.013968   \n",
       "Schools                            0.058721          0.064909 -0.100193   \n",
       "Public  & municipal administ.      0.079651          0.085139 -0.066624   \n",
       "Others fields                      0.126163          0.111739  0.121404   \n",
       "Iron & Steel                       0.081977          0.090475 -0.098634   \n",
       "Unknown                            0.027907          0.094616 -1.220951   \n",
       "Transportation                     0.068605          0.049379  0.328839   \n",
       "Healthcare                         0.068023          0.079006 -0.149675   \n",
       "\n",
       "                                  DG-DB        IV  \n",
       "Market, real estate            0.060362  0.020335  \n",
       "others                         0.003855  0.000054  \n",
       "Schools                       -0.006188  0.000620  \n",
       "Public  & municipal administ. -0.005487  0.000366  \n",
       "Others fields                  0.014423  0.001751  \n",
       "Iron & Steel                  -0.008498  0.000838  \n",
       "Unknown                       -0.066709  0.081449  \n",
       "Transportation                 0.019226  0.006322  \n",
       "Healthcare                    -0.010983  0.001644  "
      ]
     },
     "execution_count": 73,
     "metadata": {},
     "output_type": "execute_result"
    }
   ],
   "source": [
    "functions.feature_stat(data, 'GEN_INDUSTRY', 'TARGET')\n",
    "functions.calc_iv(data, 'TARGET', 'GEN_INDUSTRY')[0]"
   ]
  },
  {
   "cell_type": "markdown",
   "metadata": {},
   "source": [
    "### FAMILY_INCOME"
   ]
  },
  {
   "cell_type": "code",
   "execution_count": 74,
   "metadata": {},
   "outputs": [
    {
     "data": {
      "text/plain": [
       "10000-20000    0.471070\n",
       "20000-50000    0.405015\n",
       "5000-10000     0.096526\n",
       "50000+         0.025077\n",
       "up to 5000     0.002312\n",
       "Name: FAMILY_INCOME, dtype: float64"
      ]
     },
     "execution_count": 74,
     "metadata": {},
     "output_type": "execute_result"
    }
   ],
   "source": [
    "data['FAMILY_INCOME'].value_counts(dropna=False, normalize=True)"
   ]
  },
  {
   "cell_type": "code",
   "execution_count": 75,
   "metadata": {},
   "outputs": [],
   "source": [
    "data['FAMILY_INCOME'].cat.add_categories(['up to 10000', '20000+'], inplace=True)\n",
    "data.loc[data['FAMILY_INCOME'].isin(['up to 5000', '5000-10000']), 'FAMILY_INCOME'] = 'up to 10000'\n",
    "data.loc[data['FAMILY_INCOME'].isin(['20000-50000', '50000+']), 'FAMILY_INCOME'] = '20000+'\n",
    "data['FAMILY_INCOME'] = data['FAMILY_INCOME'].cat.remove_unused_categories()"
   ]
  },
  {
   "cell_type": "code",
   "execution_count": 76,
   "metadata": {},
   "outputs": [
    {
     "name": "stdout",
     "output_type": "stream",
     "text": [
      "Counts:\n",
      "FAMILY_INCOME\n",
      "10000-20000    6725\n",
      "up to 10000    1411\n",
      "20000+         6140\n",
      "Name: TARGET, dtype: int64\n",
      "Frequencies:\n",
      "10000-20000    0.471070\n",
      "20000+         0.430092\n",
      "up to 10000    0.098837\n",
      "Name: FAMILY_INCOME, dtype: float64\n"
     ]
    },
    {
     "data": {
      "image/png": "[encoded data removed]",
      "text/plain": [
       "<Figure size 576x432 with 2 Axes>"
      ]
     },
     "metadata": {
      "needs_background": "light"
     },
     "output_type": "display_data"
    },
    {
     "name": "stdout",
     "output_type": "stream",
     "text": [
      "IV:  0.027492161176787232\n"
     ]
    },
    {
     "data": {
      "text/html": [
       "<div>\n",
       "<style scoped>\n",
       "    .dataframe tbody tr th:only-of-type {\n",
       "        vertical-align: middle;\n",
       "    }\n",
       "\n",
       "    .dataframe tbody tr th {\n",
       "        vertical-align: top;\n",
       "    }\n",
       "\n",
       "    .dataframe thead th {\n",
       "        text-align: right;\n",
       "    }\n",
       "</style>\n",
       "<table border=\"1\" class=\"dataframe\">\n",
       "  <thead>\n",
       "    <tr style=\"text-align: right;\">\n",
       "      <th></th>\n",
       "      <th>% responders</th>\n",
       "      <th>% non-responders</th>\n",
       "      <th>WOE</th>\n",
       "      <th>DG-DB</th>\n",
       "      <th>IV</th>\n",
       "    </tr>\n",
       "  </thead>\n",
       "  <tbody>\n",
       "    <tr>\n",
       "      <th>10000-20000</th>\n",
       "      <td>0.435465</td>\n",
       "      <td>0.475948</td>\n",
       "      <td>-0.088893</td>\n",
       "      <td>-0.040483</td>\n",
       "      <td>0.003599</td>\n",
       "    </tr>\n",
       "    <tr>\n",
       "      <th>20000+</th>\n",
       "      <td>0.494186</td>\n",
       "      <td>0.421313</td>\n",
       "      <td>0.159537</td>\n",
       "      <td>0.072874</td>\n",
       "      <td>0.011626</td>\n",
       "    </tr>\n",
       "    <tr>\n",
       "      <th>up to 10000</th>\n",
       "      <td>0.070349</td>\n",
       "      <td>0.102740</td>\n",
       "      <td>-0.378733</td>\n",
       "      <td>-0.032391</td>\n",
       "      <td>0.012267</td>\n",
       "    </tr>\n",
       "  </tbody>\n",
       "</table>\n",
       "</div>"
      ],
      "text/plain": [
       "             % responders  % non-responders       WOE     DG-DB        IV\n",
       "10000-20000      0.435465          0.475948 -0.088893 -0.040483  0.003599\n",
       "20000+           0.494186          0.421313  0.159537  0.072874  0.011626\n",
       "up to 10000      0.070349          0.102740 -0.378733 -0.032391  0.012267"
      ]
     },
     "execution_count": 76,
     "metadata": {},
     "output_type": "execute_result"
    }
   ],
   "source": [
    "functions.feature_stat(data, 'FAMILY_INCOME', 'TARGET')\n",
    "functions.calc_iv(data, 'TARGET', 'FAMILY_INCOME')[0]"
   ]
  },
  {
   "cell_type": "markdown",
   "metadata": {},
   "source": [
    "### LOAN_NUM_TOTAL"
   ]
  },
  {
   "cell_type": "code",
   "execution_count": 77,
   "metadata": {},
   "outputs": [
    {
     "data": {
      "text/plain": [
       "1     0.738232\n",
       "2     0.174489\n",
       "3     0.058350\n",
       "4     0.018282\n",
       "5     0.007005\n",
       "6     0.002452\n",
       "7     0.000981\n",
       "8     0.000140\n",
       "11    0.000070\n",
       "Name: LOAN_NUM_TOTAL, dtype: float64"
      ]
     },
     "execution_count": 77,
     "metadata": {},
     "output_type": "execute_result"
    }
   ],
   "source": [
    "data['LOAN_NUM_TOTAL'].value_counts(dropna=False, normalize=True)"
   ]
  },
  {
   "cell_type": "code",
   "execution_count": 78,
   "metadata": {},
   "outputs": [],
   "source": [
    "data['LOAN_NUM_TOTAL'].cat.add_categories(['3 or more'], inplace=True)\n",
    "data.loc[data['LOAN_NUM_TOTAL'].isin([1, 2]) == False, 'LOAN_NUM_TOTAL'] = '3 or more'\n",
    "data['LOAN_NUM_TOTAL'] = data['LOAN_NUM_TOTAL'].cat.remove_unused_categories()"
   ]
  },
  {
   "cell_type": "code",
   "execution_count": 79,
   "metadata": {},
   "outputs": [
    {
     "name": "stdout",
     "output_type": "stream",
     "text": [
      "Counts:\n",
      "LOAN_NUM_TOTAL\n",
      "1            10539\n",
      "2             2491\n",
      "3 or more     1246\n",
      "Name: TARGET, dtype: int64\n",
      "Frequencies:\n",
      "1            0.738232\n",
      "2            0.174489\n",
      "3 or more    0.087279\n",
      "Name: LOAN_NUM_TOTAL, dtype: float64\n"
     ]
    },
    {
     "data": {
      "image/png": "[encoded data removed]",
      "text/plain": [
       "<Figure size 576x432 with 2 Axes>"
      ]
     },
     "metadata": {
      "needs_background": "light"
     },
     "output_type": "display_data"
    },
    {
     "name": "stdout",
     "output_type": "stream",
     "text": [
      "IV:  0.012163488944149179\n"
     ]
    },
    {
     "data": {
      "text/html": [
       "<div>\n",
       "<style scoped>\n",
       "    .dataframe tbody tr th:only-of-type {\n",
       "        vertical-align: middle;\n",
       "    }\n",
       "\n",
       "    .dataframe tbody tr th {\n",
       "        vertical-align: top;\n",
       "    }\n",
       "\n",
       "    .dataframe thead th {\n",
       "        text-align: right;\n",
       "    }\n",
       "</style>\n",
       "<table border=\"1\" class=\"dataframe\">\n",
       "  <thead>\n",
       "    <tr style=\"text-align: right;\">\n",
       "      <th></th>\n",
       "      <th>% responders</th>\n",
       "      <th>% non-responders</th>\n",
       "      <th>WOE</th>\n",
       "      <th>DG-DB</th>\n",
       "      <th>IV</th>\n",
       "    </tr>\n",
       "  </thead>\n",
       "  <tbody>\n",
       "    <tr>\n",
       "      <th>1</th>\n",
       "      <td>0.779651</td>\n",
       "      <td>0.732558</td>\n",
       "      <td>0.062304</td>\n",
       "      <td>0.047093</td>\n",
       "      <td>0.002934</td>\n",
       "    </tr>\n",
       "    <tr>\n",
       "      <th>2</th>\n",
       "      <td>0.148837</td>\n",
       "      <td>0.178003</td>\n",
       "      <td>-0.178945</td>\n",
       "      <td>-0.029165</td>\n",
       "      <td>0.005219</td>\n",
       "    </tr>\n",
       "    <tr>\n",
       "      <th>3 or more</th>\n",
       "      <td>0.071512</td>\n",
       "      <td>0.089439</td>\n",
       "      <td>-0.223700</td>\n",
       "      <td>-0.017928</td>\n",
       "      <td>0.004010</td>\n",
       "    </tr>\n",
       "  </tbody>\n",
       "</table>\n",
       "</div>"
      ],
      "text/plain": [
       "           % responders  % non-responders       WOE     DG-DB        IV\n",
       "1              0.779651          0.732558  0.062304  0.047093  0.002934\n",
       "2              0.148837          0.178003 -0.178945 -0.029165  0.005219\n",
       "3 or more      0.071512          0.089439 -0.223700 -0.017928  0.004010"
      ]
     },
     "execution_count": 79,
     "metadata": {},
     "output_type": "execute_result"
    }
   ],
   "source": [
    "functions.feature_stat(data, 'LOAN_NUM_TOTAL', 'TARGET')\n",
    "functions.calc_iv(data, 'TARGET', 'LOAN_NUM_TOTAL')[0]"
   ]
  },
  {
   "cell_type": "markdown",
   "metadata": {},
   "source": [
    "### LOAN_NUM_TOTAL"
   ]
  },
  {
   "cell_type": "code",
   "execution_count": 80,
   "metadata": {},
   "outputs": [
    {
     "data": {
      "text/plain": [
       "0     0.522275\n",
       "1     0.302045\n",
       "2     0.115999\n",
       "3     0.039857\n",
       "4     0.013379\n",
       "5     0.004133\n",
       "6     0.001821\n",
       "7     0.000280\n",
       "8     0.000140\n",
       "11    0.000070\n",
       "Name: LOAN_NUM_CLOSED, dtype: float64"
      ]
     },
     "execution_count": 80,
     "metadata": {},
     "output_type": "execute_result"
    }
   ],
   "source": [
    "data['LOAN_NUM_CLOSED'].value_counts(dropna=False, normalize=True)"
   ]
  },
  {
   "cell_type": "code",
   "execution_count": 81,
   "metadata": {},
   "outputs": [],
   "source": [
    "data['LOAN_NUM_CLOSED'].cat.add_categories(['3 or more'], inplace=True)\n",
    "data.loc[data['LOAN_NUM_CLOSED'].isin([0, 1, 2]) == False, 'LOAN_NUM_CLOSED'] = '3 or more'\n",
    "data['LOAN_NUM_CLOSED'] = data['LOAN_NUM_CLOSED'].cat.remove_unused_categories()"
   ]
  },
  {
   "cell_type": "code",
   "execution_count": 82,
   "metadata": {},
   "outputs": [
    {
     "name": "stdout",
     "output_type": "stream",
     "text": [
      "Counts:\n",
      "LOAN_NUM_CLOSED\n",
      "0            7456\n",
      "1            4312\n",
      "2            1656\n",
      "3 or more     852\n",
      "Name: TARGET, dtype: int64\n",
      "Frequencies:\n",
      "0            0.522275\n",
      "1            0.302045\n",
      "2            0.115999\n",
      "3 or more    0.059681\n",
      "Name: LOAN_NUM_CLOSED, dtype: float64\n"
     ]
    },
    {
     "data": {
      "image/png": "[encoded data removed]",
      "text/plain": [
       "<Figure size 576x432 with 2 Axes>"
      ]
     },
     "metadata": {
      "needs_background": "light"
     },
     "output_type": "display_data"
    },
    {
     "name": "stdout",
     "output_type": "stream",
     "text": [
      "IV:  0.0424898763872289\n"
     ]
    },
    {
     "data": {
      "text/html": [
       "<div>\n",
       "<style scoped>\n",
       "    .dataframe tbody tr th:only-of-type {\n",
       "        vertical-align: middle;\n",
       "    }\n",
       "\n",
       "    .dataframe tbody tr th {\n",
       "        vertical-align: top;\n",
       "    }\n",
       "\n",
       "    .dataframe thead th {\n",
       "        text-align: right;\n",
       "    }\n",
       "</style>\n",
       "<table border=\"1\" class=\"dataframe\">\n",
       "  <thead>\n",
       "    <tr style=\"text-align: right;\">\n",
       "      <th></th>\n",
       "      <th>% responders</th>\n",
       "      <th>% non-responders</th>\n",
       "      <th>WOE</th>\n",
       "      <th>DG-DB</th>\n",
       "      <th>IV</th>\n",
       "    </tr>\n",
       "  </thead>\n",
       "  <tbody>\n",
       "    <tr>\n",
       "      <th>1</th>\n",
       "      <td>0.260465</td>\n",
       "      <td>0.307741</td>\n",
       "      <td>-0.166791</td>\n",
       "      <td>-0.047276</td>\n",
       "      <td>0.007885</td>\n",
       "    </tr>\n",
       "    <tr>\n",
       "      <th>2</th>\n",
       "      <td>0.089535</td>\n",
       "      <td>0.119624</td>\n",
       "      <td>-0.289726</td>\n",
       "      <td>-0.030089</td>\n",
       "      <td>0.008718</td>\n",
       "    </tr>\n",
       "    <tr>\n",
       "      <th>0</th>\n",
       "      <td>0.608721</td>\n",
       "      <td>0.510433</td>\n",
       "      <td>0.176100</td>\n",
       "      <td>0.098288</td>\n",
       "      <td>0.017308</td>\n",
       "    </tr>\n",
       "    <tr>\n",
       "      <th>3 or more</th>\n",
       "      <td>0.041279</td>\n",
       "      <td>0.062201</td>\n",
       "      <td>-0.410021</td>\n",
       "      <td>-0.020922</td>\n",
       "      <td>0.008579</td>\n",
       "    </tr>\n",
       "  </tbody>\n",
       "</table>\n",
       "</div>"
      ],
      "text/plain": [
       "           % responders  % non-responders       WOE     DG-DB        IV\n",
       "1              0.260465          0.307741 -0.166791 -0.047276  0.007885\n",
       "2              0.089535          0.119624 -0.289726 -0.030089  0.008718\n",
       "0              0.608721          0.510433  0.176100  0.098288  0.017308\n",
       "3 or more      0.041279          0.062201 -0.410021 -0.020922  0.008579"
      ]
     },
     "execution_count": 82,
     "metadata": {},
     "output_type": "execute_result"
    }
   ],
   "source": [
    "functions.feature_stat(data, 'LOAN_NUM_CLOSED', 'TARGET')\n",
    "functions.calc_iv(data, 'TARGET', 'LOAN_NUM_CLOSED')[0]"
   ]
  },
  {
   "cell_type": "markdown",
   "metadata": {},
   "source": [
    "### LOAN_DLQ_NUM"
   ]
  },
  {
   "cell_type": "code",
   "execution_count": 83,
   "metadata": {},
   "outputs": [
    {
     "data": {
      "text/plain": [
       "0     0.871603\n",
       "1     0.094284\n",
       "2     0.018633\n",
       "3     0.006514\n",
       "4     0.003362\n",
       "5     0.002662\n",
       "6     0.001121\n",
       "7     0.000911\n",
       "9     0.000280\n",
       "8     0.000210\n",
       "13    0.000140\n",
       "10    0.000140\n",
       "12    0.000070\n",
       "11    0.000070\n",
       "Name: LOAN_DLQ_NUM, dtype: float64"
      ]
     },
     "execution_count": 83,
     "metadata": {},
     "output_type": "execute_result"
    }
   ],
   "source": [
    "data['LOAN_DLQ_NUM'].value_counts(dropna=False, normalize=True)"
   ]
  },
  {
   "cell_type": "code",
   "execution_count": 84,
   "metadata": {},
   "outputs": [],
   "source": [
    "data['LOAN_DLQ_NUM'].cat.add_categories(['1 or more'], inplace=True)\n",
    "data.loc[data['LOAN_DLQ_NUM'].isin([0]) == False, 'LOAN_DLQ_NUM'] = '1 or more'\n",
    "data['LOAN_DLQ_NUM'] = data['LOAN_DLQ_NUM'].cat.remove_unused_categories()"
   ]
  },
  {
   "cell_type": "code",
   "execution_count": 85,
   "metadata": {},
   "outputs": [
    {
     "name": "stdout",
     "output_type": "stream",
     "text": [
      "Counts:\n",
      "LOAN_DLQ_NUM\n",
      "0            12443\n",
      "1 or more     1833\n",
      "Name: TARGET, dtype: int64\n",
      "Frequencies:\n",
      "0            0.871603\n",
      "1 or more    0.128397\n",
      "Name: LOAN_DLQ_NUM, dtype: float64\n"
     ]
    },
    {
     "data": {
      "image/png": "[encoded data removed]",
      "text/plain": [
       "<Figure size 576x432 with 2 Axes>"
      ]
     },
     "metadata": {
      "needs_background": "light"
     },
     "output_type": "display_data"
    },
    {
     "name": "stdout",
     "output_type": "stream",
     "text": [
      "IV:  0.051209886005417614\n"
     ]
    },
    {
     "data": {
      "text/html": [
       "<div>\n",
       "<style scoped>\n",
       "    .dataframe tbody tr th:only-of-type {\n",
       "        vertical-align: middle;\n",
       "    }\n",
       "\n",
       "    .dataframe tbody tr th {\n",
       "        vertical-align: top;\n",
       "    }\n",
       "\n",
       "    .dataframe thead th {\n",
       "        text-align: right;\n",
       "    }\n",
       "</style>\n",
       "<table border=\"1\" class=\"dataframe\">\n",
       "  <thead>\n",
       "    <tr style=\"text-align: right;\">\n",
       "      <th></th>\n",
       "      <th>% responders</th>\n",
       "      <th>% non-responders</th>\n",
       "      <th>WOE</th>\n",
       "      <th>DG-DB</th>\n",
       "      <th>IV</th>\n",
       "    </tr>\n",
       "  </thead>\n",
       "  <tbody>\n",
       "    <tr>\n",
       "      <th>1 or more</th>\n",
       "      <td>0.200581</td>\n",
       "      <td>0.118509</td>\n",
       "      <td>0.526231</td>\n",
       "      <td>0.082072</td>\n",
       "      <td>0.043189</td>\n",
       "    </tr>\n",
       "    <tr>\n",
       "      <th>0</th>\n",
       "      <td>0.799419</td>\n",
       "      <td>0.881491</td>\n",
       "      <td>-0.097730</td>\n",
       "      <td>-0.082072</td>\n",
       "      <td>0.008021</td>\n",
       "    </tr>\n",
       "  </tbody>\n",
       "</table>\n",
       "</div>"
      ],
      "text/plain": [
       "           % responders  % non-responders       WOE     DG-DB        IV\n",
       "1 or more      0.200581          0.118509  0.526231  0.082072  0.043189\n",
       "0              0.799419          0.881491 -0.097730 -0.082072  0.008021"
      ]
     },
     "execution_count": 85,
     "metadata": {},
     "output_type": "execute_result"
    }
   ],
   "source": [
    "functions.feature_stat(data, 'LOAN_DLQ_NUM', 'TARGET')\n",
    "functions.calc_iv(data, 'TARGET', 'LOAN_DLQ_NUM')[0]"
   ]
  },
  {
   "cell_type": "markdown",
   "metadata": {},
   "source": [
    "### LOAN_MAX_DLQ"
   ]
  },
  {
   "cell_type": "code",
   "execution_count": 86,
   "metadata": {},
   "outputs": [
    {
     "data": {
      "text/plain": [
       "0    0.871603\n",
       "1    0.125525\n",
       "2    0.002171\n",
       "3    0.000490\n",
       "8    0.000070\n",
       "6    0.000070\n",
       "4    0.000070\n",
       "Name: LOAN_MAX_DLQ, dtype: float64"
      ]
     },
     "execution_count": 86,
     "metadata": {},
     "output_type": "execute_result"
    }
   ],
   "source": [
    "data['LOAN_MAX_DLQ'].value_counts(dropna=False, normalize=True)"
   ]
  },
  {
   "cell_type": "code",
   "execution_count": 87,
   "metadata": {},
   "outputs": [],
   "source": [
    "data['LOAN_MAX_DLQ'].cat.add_categories(['1 or more'], inplace=True)\n",
    "data.loc[data['LOAN_MAX_DLQ'].isin([0]) == False, 'LOAN_MAX_DLQ'] = '1 or more'\n",
    "data['LOAN_MAX_DLQ'] = data['LOAN_MAX_DLQ'].cat.remove_unused_categories()"
   ]
  },
  {
   "cell_type": "code",
   "execution_count": 88,
   "metadata": {},
   "outputs": [
    {
     "name": "stdout",
     "output_type": "stream",
     "text": [
      "Counts:\n",
      "LOAN_MAX_DLQ\n",
      "0            12443\n",
      "1 or more     1833\n",
      "Name: TARGET, dtype: int64\n",
      "Frequencies:\n",
      "0            0.871603\n",
      "1 or more    0.128397\n",
      "Name: LOAN_MAX_DLQ, dtype: float64\n"
     ]
    },
    {
     "data": {
      "image/png": "[encoded data removed]",
      "text/plain": [
       "<Figure size 576x432 with 2 Axes>"
      ]
     },
     "metadata": {
      "needs_background": "light"
     },
     "output_type": "display_data"
    },
    {
     "name": "stdout",
     "output_type": "stream",
     "text": [
      "IV:  0.051209886005417614\n"
     ]
    },
    {
     "data": {
      "text/html": [
       "<div>\n",
       "<style scoped>\n",
       "    .dataframe tbody tr th:only-of-type {\n",
       "        vertical-align: middle;\n",
       "    }\n",
       "\n",
       "    .dataframe tbody tr th {\n",
       "        vertical-align: top;\n",
       "    }\n",
       "\n",
       "    .dataframe thead th {\n",
       "        text-align: right;\n",
       "    }\n",
       "</style>\n",
       "<table border=\"1\" class=\"dataframe\">\n",
       "  <thead>\n",
       "    <tr style=\"text-align: right;\">\n",
       "      <th></th>\n",
       "      <th>% responders</th>\n",
       "      <th>% non-responders</th>\n",
       "      <th>WOE</th>\n",
       "      <th>DG-DB</th>\n",
       "      <th>IV</th>\n",
       "    </tr>\n",
       "  </thead>\n",
       "  <tbody>\n",
       "    <tr>\n",
       "      <th>1 or more</th>\n",
       "      <td>0.200581</td>\n",
       "      <td>0.118509</td>\n",
       "      <td>0.526231</td>\n",
       "      <td>0.082072</td>\n",
       "      <td>0.043189</td>\n",
       "    </tr>\n",
       "    <tr>\n",
       "      <th>0</th>\n",
       "      <td>0.799419</td>\n",
       "      <td>0.881491</td>\n",
       "      <td>-0.097730</td>\n",
       "      <td>-0.082072</td>\n",
       "      <td>0.008021</td>\n",
       "    </tr>\n",
       "  </tbody>\n",
       "</table>\n",
       "</div>"
      ],
      "text/plain": [
       "           % responders  % non-responders       WOE     DG-DB        IV\n",
       "1 or more      0.200581          0.118509  0.526231  0.082072  0.043189\n",
       "0              0.799419          0.881491 -0.097730 -0.082072  0.008021"
      ]
     },
     "execution_count": 88,
     "metadata": {},
     "output_type": "execute_result"
    }
   ],
   "source": [
    "functions.feature_stat(data, 'LOAN_MAX_DLQ', 'TARGET')\n",
    "functions.calc_iv(data, 'TARGET', 'LOAN_MAX_DLQ')[0]"
   ]
  },
  {
   "cell_type": "code",
   "execution_count": 89,
   "metadata": {},
   "outputs": [
    {
     "data": {
      "text/html": [
       "<div>\n",
       "<style scoped>\n",
       "    .dataframe tbody tr th:only-of-type {\n",
       "        vertical-align: middle;\n",
       "    }\n",
       "\n",
       "    .dataframe tbody tr th {\n",
       "        vertical-align: top;\n",
       "    }\n",
       "\n",
       "    .dataframe thead th {\n",
       "        text-align: right;\n",
       "    }\n",
       "</style>\n",
       "<table border=\"1\" class=\"dataframe\">\n",
       "  <thead>\n",
       "    <tr style=\"text-align: right;\">\n",
       "      <th></th>\n",
       "      <th>AGREEMENT_RK</th>\n",
       "      <th>TARGET</th>\n",
       "      <th>AGE</th>\n",
       "      <th>SOCSTATUS_WORK_FL</th>\n",
       "      <th>SOCSTATUS_PENS_FL</th>\n",
       "      <th>GENDER</th>\n",
       "      <th>CHILD_TOTAL</th>\n",
       "      <th>DEPENDANTS</th>\n",
       "      <th>EDUCATION</th>\n",
       "      <th>MARITAL_STATUS</th>\n",
       "      <th>...</th>\n",
       "      <th>REG_PHONE_FL</th>\n",
       "      <th>GEN_PHONE_FL</th>\n",
       "      <th>LOAN_NUM_TOTAL</th>\n",
       "      <th>LOAN_NUM_CLOSED</th>\n",
       "      <th>LOAN_NUM_PAYM</th>\n",
       "      <th>LOAN_DLQ_NUM</th>\n",
       "      <th>LOAN_MAX_DLQ</th>\n",
       "      <th>LOAN_AVG_DLQ_AMT</th>\n",
       "      <th>LOAN_MAX_DLQ_AMT</th>\n",
       "      <th>Income_to_limit</th>\n",
       "    </tr>\n",
       "  </thead>\n",
       "  <tbody>\n",
       "    <tr>\n",
       "      <th>1</th>\n",
       "      <td>59910230</td>\n",
       "      <td>0</td>\n",
       "      <td>(30.0, 34.0]</td>\n",
       "      <td>1</td>\n",
       "      <td>0</td>\n",
       "      <td>1</td>\n",
       "      <td>3 or more</td>\n",
       "      <td>2 or more</td>\n",
       "      <td>Some High School</td>\n",
       "      <td>Married</td>\n",
       "      <td>...</td>\n",
       "      <td>0</td>\n",
       "      <td>1</td>\n",
       "      <td>1</td>\n",
       "      <td>1</td>\n",
       "      <td>(5.5, 6.5]</td>\n",
       "      <td>1 or more</td>\n",
       "      <td>1 or more</td>\n",
       "      <td>(500.0, 15000.0]</td>\n",
       "      <td>(500.0, 15000.0]</td>\n",
       "      <td>(0.515, 0.783]</td>\n",
       "    </tr>\n",
       "    <tr>\n",
       "      <th>2</th>\n",
       "      <td>59910525</td>\n",
       "      <td>0</td>\n",
       "      <td>(50.0, 54.0]</td>\n",
       "      <td>1</td>\n",
       "      <td>0</td>\n",
       "      <td>1</td>\n",
       "      <td>3 or more</td>\n",
       "      <td>2 or more</td>\n",
       "      <td>Some High School</td>\n",
       "      <td>Married</td>\n",
       "      <td>...</td>\n",
       "      <td>0</td>\n",
       "      <td>1</td>\n",
       "      <td>2</td>\n",
       "      <td>1</td>\n",
       "      <td>(6.5, 11.5]</td>\n",
       "      <td>0</td>\n",
       "      <td>0</td>\n",
       "      <td>(0.0, 500.0]</td>\n",
       "      <td>(0.0, 500.0]</td>\n",
       "      <td>(0.0, 0.515]</td>\n",
       "    </tr>\n",
       "    <tr>\n",
       "      <th>3</th>\n",
       "      <td>59910803</td>\n",
       "      <td>0</td>\n",
       "      <td>(38.0, 42.0]</td>\n",
       "      <td>1</td>\n",
       "      <td>0</td>\n",
       "      <td>1</td>\n",
       "      <td>1</td>\n",
       "      <td>1</td>\n",
       "      <td>Undergraduate Degree</td>\n",
       "      <td>Married</td>\n",
       "      <td>...</td>\n",
       "      <td>1</td>\n",
       "      <td>1</td>\n",
       "      <td>1</td>\n",
       "      <td>1</td>\n",
       "      <td>(5.5, 6.5]</td>\n",
       "      <td>1 or more</td>\n",
       "      <td>1 or more</td>\n",
       "      <td>(500.0, 15000.0]</td>\n",
       "      <td>(500.0, 15000.0]</td>\n",
       "      <td>(2.556, 16.706]</td>\n",
       "    </tr>\n",
       "    <tr>\n",
       "      <th>4</th>\n",
       "      <td>59911781</td>\n",
       "      <td>0</td>\n",
       "      <td>(26.0, 30.0]</td>\n",
       "      <td>1</td>\n",
       "      <td>0</td>\n",
       "      <td>0</td>\n",
       "      <td>0</td>\n",
       "      <td>2 or more</td>\n",
       "      <td>Some High School</td>\n",
       "      <td>Married</td>\n",
       "      <td>...</td>\n",
       "      <td>0</td>\n",
       "      <td>1</td>\n",
       "      <td>2</td>\n",
       "      <td>1</td>\n",
       "      <td>(11.5, 110.0]</td>\n",
       "      <td>1 or more</td>\n",
       "      <td>1 or more</td>\n",
       "      <td>(500.0, 15000.0]</td>\n",
       "      <td>(500.0, 15000.0]</td>\n",
       "      <td>(0.515, 0.783]</td>\n",
       "    </tr>\n",
       "    <tr>\n",
       "      <th>5</th>\n",
       "      <td>59911784</td>\n",
       "      <td>0</td>\n",
       "      <td>(26.0, 30.0]</td>\n",
       "      <td>1</td>\n",
       "      <td>0</td>\n",
       "      <td>0</td>\n",
       "      <td>0</td>\n",
       "      <td>2 or more</td>\n",
       "      <td>Some High School</td>\n",
       "      <td>Married</td>\n",
       "      <td>...</td>\n",
       "      <td>0</td>\n",
       "      <td>1</td>\n",
       "      <td>2</td>\n",
       "      <td>1</td>\n",
       "      <td>(6.5, 11.5]</td>\n",
       "      <td>0</td>\n",
       "      <td>0</td>\n",
       "      <td>(0.0, 500.0]</td>\n",
       "      <td>(0.0, 500.0]</td>\n",
       "      <td>(0.0, 0.515]</td>\n",
       "    </tr>\n",
       "    <tr>\n",
       "      <th>7</th>\n",
       "      <td>59912034</td>\n",
       "      <td>0</td>\n",
       "      <td>(38.0, 42.0]</td>\n",
       "      <td>1</td>\n",
       "      <td>0</td>\n",
       "      <td>1</td>\n",
       "      <td>0</td>\n",
       "      <td>2 or more</td>\n",
       "      <td>Some High School</td>\n",
       "      <td>Married</td>\n",
       "      <td>...</td>\n",
       "      <td>1</td>\n",
       "      <td>1</td>\n",
       "      <td>2</td>\n",
       "      <td>1</td>\n",
       "      <td>(6.5, 11.5]</td>\n",
       "      <td>0</td>\n",
       "      <td>0</td>\n",
       "      <td>(0.0, 500.0]</td>\n",
       "      <td>(0.0, 500.0]</td>\n",
       "      <td>(0.0, 0.515]</td>\n",
       "    </tr>\n",
       "    <tr>\n",
       "      <th>9</th>\n",
       "      <td>59912659</td>\n",
       "      <td>0</td>\n",
       "      <td>(42.0, 50.0]</td>\n",
       "      <td>1</td>\n",
       "      <td>0</td>\n",
       "      <td>1</td>\n",
       "      <td>0</td>\n",
       "      <td>2 or more</td>\n",
       "      <td>Professional School</td>\n",
       "      <td>Married</td>\n",
       "      <td>...</td>\n",
       "      <td>0</td>\n",
       "      <td>1</td>\n",
       "      <td>1</td>\n",
       "      <td>1</td>\n",
       "      <td>(5.5, 6.5]</td>\n",
       "      <td>0</td>\n",
       "      <td>0</td>\n",
       "      <td>(0.0, 500.0]</td>\n",
       "      <td>(0.0, 500.0]</td>\n",
       "      <td>(1.428, 1.962]</td>\n",
       "    </tr>\n",
       "    <tr>\n",
       "      <th>10</th>\n",
       "      <td>59912692</td>\n",
       "      <td>0</td>\n",
       "      <td>(50.0, 54.0]</td>\n",
       "      <td>1</td>\n",
       "      <td>0</td>\n",
       "      <td>1</td>\n",
       "      <td>2</td>\n",
       "      <td>2 or more</td>\n",
       "      <td>Professional School</td>\n",
       "      <td>Single</td>\n",
       "      <td>...</td>\n",
       "      <td>0</td>\n",
       "      <td>1</td>\n",
       "      <td>1</td>\n",
       "      <td>1</td>\n",
       "      <td>(0.0, 3.5]</td>\n",
       "      <td>0</td>\n",
       "      <td>0</td>\n",
       "      <td>(0.0, 500.0]</td>\n",
       "      <td>(0.0, 500.0]</td>\n",
       "      <td>(2.556, 16.706]</td>\n",
       "    </tr>\n",
       "    <tr>\n",
       "      <th>11</th>\n",
       "      <td>59913108</td>\n",
       "      <td>1</td>\n",
       "      <td>(0.0, 26.0]</td>\n",
       "      <td>1</td>\n",
       "      <td>0</td>\n",
       "      <td>0</td>\n",
       "      <td>0</td>\n",
       "      <td>2 or more</td>\n",
       "      <td>Professional School</td>\n",
       "      <td>Single</td>\n",
       "      <td>...</td>\n",
       "      <td>0</td>\n",
       "      <td>1</td>\n",
       "      <td>2</td>\n",
       "      <td>1</td>\n",
       "      <td>(11.5, 110.0]</td>\n",
       "      <td>0</td>\n",
       "      <td>0</td>\n",
       "      <td>(0.0, 500.0]</td>\n",
       "      <td>(0.0, 500.0]</td>\n",
       "      <td>(1.428, 1.962]</td>\n",
       "    </tr>\n",
       "    <tr>\n",
       "      <th>12</th>\n",
       "      <td>59913134</td>\n",
       "      <td>1</td>\n",
       "      <td>(54.0, 67.0]</td>\n",
       "      <td>0</td>\n",
       "      <td>1</td>\n",
       "      <td>0</td>\n",
       "      <td>3 or more</td>\n",
       "      <td>2 or more</td>\n",
       "      <td>Some High School</td>\n",
       "      <td>Married</td>\n",
       "      <td>...</td>\n",
       "      <td>0</td>\n",
       "      <td>1</td>\n",
       "      <td>1</td>\n",
       "      <td>1</td>\n",
       "      <td>(0.0, 3.5]</td>\n",
       "      <td>0</td>\n",
       "      <td>0</td>\n",
       "      <td>(0.0, 500.0]</td>\n",
       "      <td>(0.0, 500.0]</td>\n",
       "      <td>(0.515, 0.783]</td>\n",
       "    </tr>\n",
       "  </tbody>\n",
       "</table>\n",
       "<p>10 rows × 38 columns</p>\n",
       "</div>"
      ],
      "text/plain": [
       "    AGREEMENT_RK  TARGET           AGE  SOCSTATUS_WORK_FL  SOCSTATUS_PENS_FL  \\\n",
       "1       59910230       0  (30.0, 34.0]                  1                  0   \n",
       "2       59910525       0  (50.0, 54.0]                  1                  0   \n",
       "3       59910803       0  (38.0, 42.0]                  1                  0   \n",
       "4       59911781       0  (26.0, 30.0]                  1                  0   \n",
       "5       59911784       0  (26.0, 30.0]                  1                  0   \n",
       "7       59912034       0  (38.0, 42.0]                  1                  0   \n",
       "9       59912659       0  (42.0, 50.0]                  1                  0   \n",
       "10      59912692       0  (50.0, 54.0]                  1                  0   \n",
       "11      59913108       1   (0.0, 26.0]                  1                  0   \n",
       "12      59913134       1  (54.0, 67.0]                  0                  1   \n",
       "\n",
       "   GENDER CHILD_TOTAL DEPENDANTS             EDUCATION MARITAL_STATUS  ...  \\\n",
       "1       1   3 or more  2 or more      Some High School        Married  ...   \n",
       "2       1   3 or more  2 or more      Some High School        Married  ...   \n",
       "3       1           1          1  Undergraduate Degree        Married  ...   \n",
       "4       0           0  2 or more      Some High School        Married  ...   \n",
       "5       0           0  2 or more      Some High School        Married  ...   \n",
       "7       1           0  2 or more      Some High School        Married  ...   \n",
       "9       1           0  2 or more   Professional School        Married  ...   \n",
       "10      1           2  2 or more   Professional School         Single  ...   \n",
       "11      0           0  2 or more   Professional School         Single  ...   \n",
       "12      0   3 or more  2 or more      Some High School        Married  ...   \n",
       "\n",
       "   REG_PHONE_FL GEN_PHONE_FL LOAN_NUM_TOTAL  LOAN_NUM_CLOSED  LOAN_NUM_PAYM  \\\n",
       "1             0            1              1                1     (5.5, 6.5]   \n",
       "2             0            1              2                1    (6.5, 11.5]   \n",
       "3             1            1              1                1     (5.5, 6.5]   \n",
       "4             0            1              2                1  (11.5, 110.0]   \n",
       "5             0            1              2                1    (6.5, 11.5]   \n",
       "7             1            1              2                1    (6.5, 11.5]   \n",
       "9             0            1              1                1     (5.5, 6.5]   \n",
       "10            0            1              1                1     (0.0, 3.5]   \n",
       "11            0            1              2                1  (11.5, 110.0]   \n",
       "12            0            1              1                1     (0.0, 3.5]   \n",
       "\n",
       "    LOAN_DLQ_NUM  LOAN_MAX_DLQ  LOAN_AVG_DLQ_AMT  LOAN_MAX_DLQ_AMT  \\\n",
       "1      1 or more     1 or more  (500.0, 15000.0]  (500.0, 15000.0]   \n",
       "2              0             0      (0.0, 500.0]      (0.0, 500.0]   \n",
       "3      1 or more     1 or more  (500.0, 15000.0]  (500.0, 15000.0]   \n",
       "4      1 or more     1 or more  (500.0, 15000.0]  (500.0, 15000.0]   \n",
       "5              0             0      (0.0, 500.0]      (0.0, 500.0]   \n",
       "7              0             0      (0.0, 500.0]      (0.0, 500.0]   \n",
       "9              0             0      (0.0, 500.0]      (0.0, 500.0]   \n",
       "10             0             0      (0.0, 500.0]      (0.0, 500.0]   \n",
       "11             0             0      (0.0, 500.0]      (0.0, 500.0]   \n",
       "12             0             0      (0.0, 500.0]      (0.0, 500.0]   \n",
       "\n",
       "    Income_to_limit  \n",
       "1    (0.515, 0.783]  \n",
       "2      (0.0, 0.515]  \n",
       "3   (2.556, 16.706]  \n",
       "4    (0.515, 0.783]  \n",
       "5      (0.0, 0.515]  \n",
       "7      (0.0, 0.515]  \n",
       "9    (1.428, 1.962]  \n",
       "10  (2.556, 16.706]  \n",
       "11   (1.428, 1.962]  \n",
       "12   (0.515, 0.783]  \n",
       "\n",
       "[10 rows x 38 columns]"
      ]
     },
     "execution_count": 89,
     "metadata": {},
     "output_type": "execute_result"
    }
   ],
   "source": [
    "data.head(10)"
   ]
  },
  {
   "cell_type": "raw",
   "metadata": {},
   "source": [
    "Toutes les variables sont transformées. \n",
    "Certaines sont restées inchangée car elle ne nécessitait pas de transformation."
   ]
  },
  {
   "cell_type": "markdown",
   "metadata": {},
   "source": [
    "# Feature selection based on IV\n"
   ]
  },
  {
   "cell_type": "raw",
   "metadata": {},
   "source": [
    "Il est maintenant temps traiter les colonnes. \n",
    "Je calcule IV pour toutes les colonnes et n'utilise que celles qui ont une valeur supérieure à ce seuil (0,02 dans ce cas)."
   ]
  },
  {
   "cell_type": "code",
   "execution_count": 90,
   "metadata": {},
   "outputs": [],
   "source": [
    "columns_to_try = [col for col in list(data.columns) if col not in ('AGREEMENT_RK', 'CARD_ID_SB8', 'CARD_NUM', 'TARGET')]"
   ]
  },
  {
   "cell_type": "code",
   "execution_count": 91,
   "metadata": {},
   "outputs": [],
   "source": [
    "ivs = []\n",
    "for col in columns_to_try:\n",
    "    data[col] = data[col].astype('category')\n",
    "    if data[col].isnull().any():\n",
    "        print(col)\n",
    "        if 'Unknown' not in data[col].cat.categories:\n",
    "            data[col].cat.add_categories(['Unknown'], inplace=True)\n",
    "        data[col].fillna('Unknown', inplace=True)\n",
    "    data[col] = data[col].cat.remove_unused_categories()\n",
    "    _, iv = functions.calc_iv(data, 'TARGET', col)\n",
    "    ivs.append((col, np.round(iv, 4)))"
   ]
  },
  {
   "cell_type": "code",
   "execution_count": 92,
   "metadata": {},
   "outputs": [],
   "source": [
    "good_cols = [i[0] for i in sorted(ivs, key=lambda tup: tup[1], reverse=True) if i[1] > 0.02]\n",
    "for i in ['TARGET', 'AGREEMENT_RK']:\n",
    "    good_cols.append(i)"
   ]
  },
  {
   "cell_type": "code",
   "execution_count": 93,
   "metadata": {},
   "outputs": [
    {
     "data": {
      "text/plain": [
       "['AGE',\n",
       " 'GEN_INDUSTRY',\n",
       " 'WORK_TIME',\n",
       " 'PERSONAL_INCOME',\n",
       " 'GEN_PHONE_FL',\n",
       " 'SOCSTATUS_PENS_FL',\n",
       " 'SOCSTATUS_WORK_FL',\n",
       " 'LOAN_AVG_DLQ_AMT',\n",
       " 'LOAN_DLQ_NUM',\n",
       " 'LOAN_MAX_DLQ',\n",
       " 'LOAN_MAX_DLQ_AMT',\n",
       " 'FACT_LIVING_TERM',\n",
       " 'LOAN_NUM_CLOSED',\n",
       " 'FST_PAYMENT',\n",
       " 'TERM',\n",
       " 'Income_to_limit',\n",
       " 'LOAN_NUM_PAYM',\n",
       " 'FAMILY_INCOME',\n",
       " 'REG_FACT_POST_TP_FL',\n",
       " 'TARGET',\n",
       " 'AGREEMENT_RK']"
      ]
     },
     "execution_count": 93,
     "metadata": {},
     "output_type": "execute_result"
    }
   ],
   "source": [
    "good_cols"
   ]
  },
  {
   "cell_type": "markdown",
   "metadata": {},
   "source": [
    "# Some additional visualization"
   ]
  },
  {
   "cell_type": "raw",
   "metadata": {},
   "source": [
    "Tracer les variables par elles-mêmes est utile, mais visualiser leurs interactions peut révéler des choses intéressantes.\n",
    "\n",
    "Les graphiques montrent le taux cible moyen pour les paires de variables. Je ne montre que plusieurs parcelles car il y a trop de combinaisons possibles."
   ]
  },
  {
   "cell_type": "code",
   "execution_count": 94,
   "metadata": {},
   "outputs": [
    {
     "data": {
      "text/plain": [
       "<matplotlib.axes._subplots.AxesSubplot at 0x1a19c48b50>"
      ]
     },
     "execution_count": 94,
     "metadata": {},
     "output_type": "execute_result"
    },
    {
     "data": {
      "image/png": "[encoded data removed]",
      "text/plain": [
       "<Figure size 1152x432 with 2 Axes>"
      ]
     },
     "metadata": {
      "needs_background": "light"
     },
     "output_type": "display_data"
    }
   ],
   "source": [
    "data_viz = data[good_cols]\n",
    "fig, ax = plt.subplots(1, 2, figsize = (16, 6))\n",
    "sns.pointplot(x='SOCSTATUS_WORK_FL', y=\"TARGET\", hue='SOCSTATUS_PENS_FL', data=data_viz, ax=ax[0])\n",
    "sns.pointplot(x='LOAN_MAX_DLQ', y=\"TARGET\", hue='SOCSTATUS_PENS_FL', data=data_viz, ax=ax[1])"
   ]
  },
  {
   "cell_type": "raw",
   "metadata": {},
   "source": [
    "SOCSTATUS_PENS_FL 1 signifie que la personne est en pension, 0 sinon. \n",
    "SOCSTATUS_WORK_FL 1 signifie que cette personne travaille, 0 sinon.\n",
    "\n",
    "Trois caractéristiques des graphiques ci-dessus montrent des distinctions claires entre les taux cibles moyens. Ce pourrait être une bonne idée de créer de nouvelles variables montrant ces interactions."
   ]
  },
  {
   "cell_type": "code",
   "execution_count": 95,
   "metadata": {},
   "outputs": [],
   "source": [
    "data['work_pens'] = 0\n",
    "data.loc[data['SOCSTATUS_WORK_FL'] == 0, 'work_pens'] = 1\n",
    "data.loc[(data['SOCSTATUS_WORK_FL'] == 1) & (data['SOCSTATUS_PENS_FL'] == 1), 'work_pens'] = 2\n",
    "data.loc[(data['SOCSTATUS_WORK_FL'] == 1) & (data['SOCSTATUS_PENS_FL'] == 0), 'work_pens'] = 3"
   ]
  },
  {
   "cell_type": "code",
   "execution_count": 96,
   "metadata": {},
   "outputs": [],
   "source": [
    "data['pens_dlq'] = 0\n",
    "data.loc[(data['LOAN_MAX_DLQ'] == 0) & (data['SOCSTATUS_PENS_FL'] == 0), 'pens_dlq'] = 1\n",
    "data.loc[(data['LOAN_MAX_DLQ'] == '1 or more') & (data['SOCSTATUS_PENS_FL'] == 1), 'pens_dlq'] = 2\n",
    "data.loc[(data['LOAN_MAX_DLQ'] == 0) & (data['SOCSTATUS_PENS_FL'] == 0), 'pens_dlq'] = 3\n",
    "data.loc[(data['LOAN_MAX_DLQ'] == '1 or more') & (data['SOCSTATUS_PENS_FL'] == 1), 'pens_dlq'] = 4"
   ]
  },
  {
   "cell_type": "raw",
   "metadata": {},
   "source": [
    "Pour les prochains graphiques, j'aurai besoin de données, où les variables continues ne sont pas regroupées. Il est également nécessaire de faire un encodage d'étiquettes pour les variables catégorielles, car sns.pairplot ne fonctionne pas bien avec elles."
   ]
  },
  {
   "cell_type": "code",
   "execution_count": 97,
   "metadata": {},
   "outputs": [],
   "source": [
    "le = preprocessing.LabelEncoder()\n",
    "for col in ['GENDER', 'CHILD_TOTAL', 'DEPENDANTS', 'EDUCATION', 'MARITAL_STATUS', 'GEN_INDUSTRY', 'OWN_AUTO',\n",
    "            'FAMILY_INCOME', 'LOAN_NUM_TOTAL', 'LOAN_NUM_CLOSED', 'LOAN_DLQ_NUM', 'LOAN_MAX_DLQ']:\n",
    "    initial_data[col] = initial_data[col].astype('category')\n",
    "    if (initial_data[col].isnull() == True).any():\n",
    "        initial_data[col].cat.add_categories(['Unknown'], inplace=True)\n",
    "        initial_data[col].fillna('Unknown', inplace=True)\n",
    "    initial_data[col] = le.fit_transform(initial_data[col])  "
   ]
  },
  {
   "cell_type": "code",
   "execution_count": 98,
   "metadata": {},
   "outputs": [],
   "source": [
    "data_1 = initial_data[good_cols].drop(['AGREEMENT_RK'], axis=1)"
   ]
  },
  {
   "cell_type": "code",
   "execution_count": 99,
   "metadata": {},
   "outputs": [
    {
     "name": "stdout",
     "output_type": "stream",
     "text": [
      "pearson correlation : \n",
      " (0.9979249346514802, 0.0)\n"
     ]
    }
   ],
   "source": [
    "print ('pearson correlation : \\n',stats.pearsonr(x=data_1['LOAN_AVG_DLQ_AMT'], y=data_1['LOAN_MAX_DLQ_AMT']))"
   ]
  },
  {
   "cell_type": "raw",
   "metadata": {},
   "source": [
    "Il semble que le coefficient de corrélation de Pearson soit d'environs 1, ce qui montre une corrélation très élevée. nous allons laisser tomber une de ces colonnes."
   ]
  },
  {
   "cell_type": "code",
   "execution_count": 100,
   "metadata": {},
   "outputs": [],
   "source": [
    "data.drop(['LOAN_AVG_DLQ_AMT'], axis=1, inplace=True)"
   ]
  },
  {
   "cell_type": "raw",
   "metadata": {},
   "source": [
    "Essayons à nouveau de sélectionner des variables basées sur IV."
   ]
  },
  {
   "cell_type": "code",
   "execution_count": 101,
   "metadata": {},
   "outputs": [
    {
     "data": {
      "text/plain": [
       "['AGE',\n",
       " 'GEN_INDUSTRY',\n",
       " 'work_pens',\n",
       " 'WORK_TIME',\n",
       " 'PERSONAL_INCOME',\n",
       " 'GEN_PHONE_FL',\n",
       " 'SOCSTATUS_PENS_FL',\n",
       " 'SOCSTATUS_WORK_FL',\n",
       " 'LOAN_DLQ_NUM',\n",
       " 'LOAN_MAX_DLQ',\n",
       " 'LOAN_MAX_DLQ_AMT',\n",
       " 'FACT_LIVING_TERM',\n",
       " 'LOAN_NUM_CLOSED',\n",
       " 'FST_PAYMENT',\n",
       " 'TERM',\n",
       " 'Income_to_limit',\n",
       " 'LOAN_NUM_PAYM',\n",
       " 'FAMILY_INCOME',\n",
       " 'REG_FACT_POST_TP_FL',\n",
       " 'TARGET',\n",
       " 'AGREEMENT_RK']"
      ]
     },
     "execution_count": 101,
     "metadata": {},
     "output_type": "execute_result"
    }
   ],
   "source": [
    "columns_to_try = [col for col in list(data.columns) if col not in ('AGREEMENT_RK', 'CARD_ID_SB8', 'CARD_NUM', 'TARGET')]\n",
    "ivs = []\n",
    "for col in columns_to_try:\n",
    "    data[col] = data[col].astype('category')\n",
    "    if data[col].isnull().any():\n",
    "        print(col)\n",
    "        if 'Unknown' not in data[col].cat.categories:\n",
    "            data[col].cat.add_categories(['Unknown'], inplace=True)\n",
    "        data[col].fillna('Unknown', inplace=True)\n",
    "    data[col] = data[col].cat.remove_unused_categories()\n",
    "    _, iv = functions.calc_iv(data, 'TARGET', col)\n",
    "    ivs.append((col, np.round(iv, 4)))\n",
    "good_cols = [i[0] for i in sorted(ivs, key=lambda tup: tup[1], reverse=True) if i[1] > 0.02]\n",
    "for i in ['TARGET', 'AGREEMENT_RK']:\n",
    "    good_cols.append(i)\n",
    "good_cols"
   ]
  },
  {
   "cell_type": "code",
   "execution_count": 102,
   "metadata": {},
   "outputs": [],
   "source": [
    "columns_dummify = [col for col in good_cols if col not in ('TARGET', 'AGREEMENT_RK')]\n",
    "data = data[good_cols]\n",
    "for col in columns_dummify:\n",
    "    data[col] = data[col].astype('category')\n",
    "    dummies = pd.get_dummies(data[col])\n",
    "    dummies = dummies.add_prefix('{}_:_'.format(col))\n",
    "    data.drop([col], axis=1, inplace=True)\n",
    "    data = data.join(dummies)"
   ]
  },
  {
   "cell_type": "code",
   "execution_count": 103,
   "metadata": {},
   "outputs": [],
   "source": [
    "X = data.drop(['TARGET', 'AGREEMENT_RK'], axis=1)\n",
    "Y = data['TARGET']"
   ]
  },
  {
   "cell_type": "code",
   "execution_count": 104,
   "metadata": {},
   "outputs": [
    {
     "data": {
      "text/plain": [
       "(14276, 87)"
      ]
     },
     "execution_count": 104,
     "metadata": {},
     "output_type": "execute_result"
    }
   ],
   "source": [
    "X.shape"
   ]
  },
  {
   "cell_type": "raw",
   "metadata": {},
   "source": [
    "87 variables pourraient convenir, mais je pense que ce pourrait être une bonne idée d'en réduire le nombre."
   ]
  },
  {
   "cell_type": "code",
   "execution_count": 106,
   "metadata": {},
   "outputs": [
    {
     "data": {
      "text/plain": [
       "SelectKBest(k=30, score_func=<function chi2 at 0x1a19bea710>)"
      ]
     },
     "execution_count": 106,
     "metadata": {},
     "output_type": "execute_result"
    }
   ],
   "source": [
    "sel = SelectKBest(chi2, k=30)\n",
    "sel.fit(X,Y)"
   ]
  },
  {
   "cell_type": "code",
   "execution_count": 107,
   "metadata": {},
   "outputs": [],
   "source": [
    "X_train_log = sel.transform(X)"
   ]
  },
  {
   "cell_type": "code",
   "execution_count": 108,
   "metadata": {},
   "outputs": [
    {
     "data": {
      "text/plain": [
       "<matplotlib.legend.Legend at 0x1a198db790>"
      ]
     },
     "execution_count": 108,
     "metadata": {},
     "output_type": "execute_result"
    },
    {
     "data": {
      "image/png": "[encoded data removed]",
      "text/plain": [
       "<Figure size 432x288 with 1 Axes>"
      ]
     },
     "metadata": {
      "needs_background": "light"
     },
     "output_type": "display_data"
    }
   ],
   "source": [
    "X_train, X_test, y_train, y_test = train_test_split(X_train_log, Y, test_size=0.2, stratify = Y)\n",
    "X_train, X_val, y_train, y_val = train_test_split(X_train, y_train, test_size=0.2, stratify = y_train)\n",
    "logreg = linear_model.LogisticRegressionCV(class_weight='balanced', n_jobs=-1, fit_intercept=True)\n",
    "logreg.fit(X_train, y_train)\n",
    "\n",
    "y_pred_log_val = logreg.predict_proba(X_val)\n",
    "y_pred_log_val_1 = [i[1] for i in y_pred_log_val]\n",
    "fpr_val, tpr_val, thresholds_val = roc_curve(y_val, y_pred_log_val_1)\n",
    "plt.plot(fpr_val, tpr_val, label='Validation')\n",
    "scores_val = cross_val_score(logreg, X_val, y_val, cv=5, scoring='roc_auc')\n",
    "\n",
    "y_pred_log_test = logreg.predict_proba(X_test)\n",
    "y_pred_log_test_1 = [i[1] for i in y_pred_log_test]\n",
    "fpr_test, tpr_test, thresholds_test = roc_curve(y_test, y_pred_log_test_1)\n",
    "plt.plot(fpr_test, tpr_test, label='Test')\n",
    "scores_test = cross_val_score(logreg, X_test, y_test, cv=5, scoring='roc_auc')\n",
    "\n",
    "plt.title('ROCAUC curve')\n",
    "plt.legend(loc='lower right')"
   ]
  },
  {
   "cell_type": "code",
   "execution_count": 109,
   "metadata": {},
   "outputs": [
    {
     "name": "stdout",
     "output_type": "stream",
     "text": [
      "Validation auc:  0.6602\n",
      "Cross-validation: mean value is 0.6521 with std 0.0338.\n",
      "Test auc:  0.6788\n",
      "Cross-validation: mean value is 0.6744 with std 0.0301.\n"
     ]
    }
   ],
   "source": [
    "print('Validation auc: ', np.round(auc(fpr_val, tpr_val), 4))\n",
    "print('Cross-validation: mean value is {0} with std {1}.'.format(np.round(np.mean(scores_val), 4),\n",
    "                                                                 np.round(np.std(scores_val), 4)))\n",
    "print('Test auc: ', np.round(auc(fpr_test, tpr_test), 4))\n",
    "print('Cross-validation: mean value is {0} with std {1}.'.format(np.round(np.mean(scores_test), 4),\n",
    "                                                                 np.round(np.std(scores_test), 4)))"
   ]
  },
  {
   "cell_type": "code",
   "execution_count": 110,
   "metadata": {},
   "outputs": [
    {
     "data": {
      "text/html": [
       "<div>\n",
       "<style scoped>\n",
       "    .dataframe tbody tr th:only-of-type {\n",
       "        vertical-align: middle;\n",
       "    }\n",
       "\n",
       "    .dataframe tbody tr th {\n",
       "        vertical-align: top;\n",
       "    }\n",
       "\n",
       "    .dataframe thead th {\n",
       "        text-align: right;\n",
       "    }\n",
       "</style>\n",
       "<table border=\"1\" class=\"dataframe\">\n",
       "  <thead>\n",
       "    <tr style=\"text-align: right;\">\n",
       "      <th></th>\n",
       "      <th>Feature</th>\n",
       "      <th>Coefficient</th>\n",
       "    </tr>\n",
       "  </thead>\n",
       "  <tbody>\n",
       "    <tr>\n",
       "      <th>0</th>\n",
       "      <td>AGE_:_(0.0, 26.0]</td>\n",
       "      <td>0.102841</td>\n",
       "    </tr>\n",
       "    <tr>\n",
       "      <th>1</th>\n",
       "      <td>AGE_:_(26.0, 30.0]</td>\n",
       "      <td>-0.028466</td>\n",
       "    </tr>\n",
       "    <tr>\n",
       "      <th>2</th>\n",
       "      <td>AGE_:_(54.0, 67.0]</td>\n",
       "      <td>-0.265135</td>\n",
       "    </tr>\n",
       "    <tr>\n",
       "      <th>3</th>\n",
       "      <td>GEN_INDUSTRY_:_Market, real estate</td>\n",
       "      <td>0.247194</td>\n",
       "    </tr>\n",
       "    <tr>\n",
       "      <th>4</th>\n",
       "      <td>GEN_INDUSTRY_:_Unknown</td>\n",
       "      <td>-1.329012</td>\n",
       "    </tr>\n",
       "    <tr>\n",
       "      <th>5</th>\n",
       "      <td>work_pens_:_1</td>\n",
       "      <td>0.943621</td>\n",
       "    </tr>\n",
       "    <tr>\n",
       "      <th>6</th>\n",
       "      <td>WORK_TIME_:_(0.0, 6.5]</td>\n",
       "      <td>0.025188</td>\n",
       "    </tr>\n",
       "    <tr>\n",
       "      <th>7</th>\n",
       "      <td>WORK_TIME_:_(6.5, 21.5]</td>\n",
       "      <td>0.328624</td>\n",
       "    </tr>\n",
       "    <tr>\n",
       "      <th>8</th>\n",
       "      <td>WORK_TIME_:_(35.5, 53.5]</td>\n",
       "      <td>0.171679</td>\n",
       "    </tr>\n",
       "    <tr>\n",
       "      <th>9</th>\n",
       "      <td>WORK_TIME_:_(151.0, 600.0]</td>\n",
       "      <td>-0.300350</td>\n",
       "    </tr>\n",
       "    <tr>\n",
       "      <th>10</th>\n",
       "      <td>PERSONAL_INCOME_:_(0.0, 7600.0]</td>\n",
       "      <td>-0.305330</td>\n",
       "    </tr>\n",
       "    <tr>\n",
       "      <th>11</th>\n",
       "      <td>PERSONAL_INCOME_:_(20800.0, 44000.0]</td>\n",
       "      <td>0.485784</td>\n",
       "    </tr>\n",
       "    <tr>\n",
       "      <th>12</th>\n",
       "      <td>GEN_PHONE_FL_:_0</td>\n",
       "      <td>-1.329012</td>\n",
       "    </tr>\n",
       "    <tr>\n",
       "      <th>13</th>\n",
       "      <td>SOCSTATUS_PENS_FL_:_1</td>\n",
       "      <td>-0.026711</td>\n",
       "    </tr>\n",
       "    <tr>\n",
       "      <th>14</th>\n",
       "      <td>SOCSTATUS_WORK_FL_:_0</td>\n",
       "      <td>0.943621</td>\n",
       "    </tr>\n",
       "    <tr>\n",
       "      <th>15</th>\n",
       "      <td>LOAN_DLQ_NUM_:_1 or more</td>\n",
       "      <td>0.133125</td>\n",
       "    </tr>\n",
       "    <tr>\n",
       "      <th>16</th>\n",
       "      <td>LOAN_MAX_DLQ_:_1 or more</td>\n",
       "      <td>0.133125</td>\n",
       "    </tr>\n",
       "    <tr>\n",
       "      <th>17</th>\n",
       "      <td>LOAN_MAX_DLQ_AMT_:_(500.0, 15000.0]</td>\n",
       "      <td>0.408459</td>\n",
       "    </tr>\n",
       "    <tr>\n",
       "      <th>18</th>\n",
       "      <td>FACT_LIVING_TERM_:_(0.0, 18.5]</td>\n",
       "      <td>0.065495</td>\n",
       "    </tr>\n",
       "    <tr>\n",
       "      <th>19</th>\n",
       "      <td>FACT_LIVING_TERM_:_(238.5, 1000.0]</td>\n",
       "      <td>-0.153730</td>\n",
       "    </tr>\n",
       "    <tr>\n",
       "      <th>20</th>\n",
       "      <td>LOAN_NUM_CLOSED_:_0</td>\n",
       "      <td>0.309604</td>\n",
       "    </tr>\n",
       "    <tr>\n",
       "      <th>21</th>\n",
       "      <td>FST_PAYMENT_:_(0.0, 200.0]</td>\n",
       "      <td>0.373845</td>\n",
       "    </tr>\n",
       "    <tr>\n",
       "      <th>22</th>\n",
       "      <td>FST_PAYMENT_:_(3800.0, 6000.0]</td>\n",
       "      <td>-0.346972</td>\n",
       "    </tr>\n",
       "    <tr>\n",
       "      <th>23</th>\n",
       "      <td>TERM_:_(11.5, 36.0]</td>\n",
       "      <td>0.381924</td>\n",
       "    </tr>\n",
       "    <tr>\n",
       "      <th>24</th>\n",
       "      <td>Income_to_limit_:_(0.0, 0.515]</td>\n",
       "      <td>-0.169162</td>\n",
       "    </tr>\n",
       "    <tr>\n",
       "      <th>25</th>\n",
       "      <td>Income_to_limit_:_(1.962, 2.556]</td>\n",
       "      <td>0.344090</td>\n",
       "    </tr>\n",
       "    <tr>\n",
       "      <th>26</th>\n",
       "      <td>LOAN_NUM_PAYM_:_(11.5, 110.0]</td>\n",
       "      <td>-0.213909</td>\n",
       "    </tr>\n",
       "    <tr>\n",
       "      <th>27</th>\n",
       "      <td>FAMILY_INCOME_:_up to 10000</td>\n",
       "      <td>-0.018644</td>\n",
       "    </tr>\n",
       "    <tr>\n",
       "      <th>28</th>\n",
       "      <td>FAMILY_INCOME_:_20000+</td>\n",
       "      <td>-0.015397</td>\n",
       "    </tr>\n",
       "    <tr>\n",
       "      <th>29</th>\n",
       "      <td>REG_FACT_POST_TP_FL_:_0</td>\n",
       "      <td>0.328402</td>\n",
       "    </tr>\n",
       "  </tbody>\n",
       "</table>\n",
       "</div>"
      ],
      "text/plain": [
       "                                 Feature  Coefficient\n",
       "0                      AGE_:_(0.0, 26.0]     0.102841\n",
       "1                     AGE_:_(26.0, 30.0]    -0.028466\n",
       "2                     AGE_:_(54.0, 67.0]    -0.265135\n",
       "3     GEN_INDUSTRY_:_Market, real estate     0.247194\n",
       "4                 GEN_INDUSTRY_:_Unknown    -1.329012\n",
       "5                          work_pens_:_1     0.943621\n",
       "6                 WORK_TIME_:_(0.0, 6.5]     0.025188\n",
       "7                WORK_TIME_:_(6.5, 21.5]     0.328624\n",
       "8               WORK_TIME_:_(35.5, 53.5]     0.171679\n",
       "9             WORK_TIME_:_(151.0, 600.0]    -0.300350\n",
       "10       PERSONAL_INCOME_:_(0.0, 7600.0]    -0.305330\n",
       "11  PERSONAL_INCOME_:_(20800.0, 44000.0]     0.485784\n",
       "12                      GEN_PHONE_FL_:_0    -1.329012\n",
       "13                 SOCSTATUS_PENS_FL_:_1    -0.026711\n",
       "14                 SOCSTATUS_WORK_FL_:_0     0.943621\n",
       "15              LOAN_DLQ_NUM_:_1 or more     0.133125\n",
       "16              LOAN_MAX_DLQ_:_1 or more     0.133125\n",
       "17   LOAN_MAX_DLQ_AMT_:_(500.0, 15000.0]     0.408459\n",
       "18        FACT_LIVING_TERM_:_(0.0, 18.5]     0.065495\n",
       "19    FACT_LIVING_TERM_:_(238.5, 1000.0]    -0.153730\n",
       "20                   LOAN_NUM_CLOSED_:_0     0.309604\n",
       "21            FST_PAYMENT_:_(0.0, 200.0]     0.373845\n",
       "22        FST_PAYMENT_:_(3800.0, 6000.0]    -0.346972\n",
       "23                   TERM_:_(11.5, 36.0]     0.381924\n",
       "24        Income_to_limit_:_(0.0, 0.515]    -0.169162\n",
       "25      Income_to_limit_:_(1.962, 2.556]     0.344090\n",
       "26         LOAN_NUM_PAYM_:_(11.5, 110.0]    -0.213909\n",
       "27           FAMILY_INCOME_:_up to 10000    -0.018644\n",
       "28                FAMILY_INCOME_:_20000+    -0.015397\n",
       "29               REG_FACT_POST_TP_FL_:_0     0.328402"
      ]
     },
     "execution_count": 110,
     "metadata": {},
     "output_type": "execute_result"
    }
   ],
   "source": [
    "coefs = pd.DataFrame(list(zip(X[X.columns[sel.get_support()]].columns, logreg.coef_[0])),\n",
    "             columns=['Feature', 'Coefficient'])\n",
    "coefs"
   ]
  },
  {
   "cell_type": "raw",
   "metadata": {},
   "source": [
    "En conclusion malgré le relatif bon score déjà obtenu, il existe de nombreuses façons d'améliorer notre modèle.\n",
    "\n",
    "Nous pourrions par exemple : \n",
    "\n",
    "- Transformer les variables avec plus de soin \n",
    "- Peut-être changer les paramètres de DecisionTreeClassifier pour des variables spécifiques afin de créer de meilleurs bacs;\n",
    "- Changer les méthodes de remplissage des valeurs manquantes;\n",
    "- Traiter les valeurs aberrantes au lieu de les supprimer;\n",
    "- Créer plus de bases de variables d'interaction d'entités;\n",
    "- Essayez un seuil différent pour la sélection des fonctionnalités;\n",
    "- Et si l'interprétation des variables n'est pas nécessaire, les variables continues peuvent être utilisées sans regroupement. Peut-être qu'ils peuvent être transformés ou mis à l'échelle. \n",
    "- Des algorithmes plus sophistiqués pourraient aussi être utilisés (xgboost par exemple)."
   ]
  }
 ],
 "metadata": {
  "kernelspec": {
   "display_name": "Python 3",
   "language": "python",
   "name": "python3"
  },
  "language_info": {
   "codemirror_mode": {
    "name": "ipython",
    "version": 3
   },
   "file_extension": ".py",
   "mimetype": "text/x-python",
   "name": "python",
   "nbconvert_exporter": "python",
   "pygments_lexer": "ipython3",
   "version": "3.7.6"
  }
 },
 "nbformat": 4,
 "nbformat_minor": 4
}
